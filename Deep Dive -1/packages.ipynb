{
 "cells": [
  {
   "cell_type": "markdown",
   "metadata": {},
   "source": [
    "## Packages\n",
    "\n",
    "1. Packages are modules, but not all modules are packages\n",
    "2. If a module has __path__ attribute then it is a package\n",
    "3. Package is simply a module that contain other module/packages\n",
    "4. The directory name is the package name\n",
    "5. Can package itself have a code?\n",
    "   1. Yes in __init__.py file\n",
    "\n",
    "\n",
    "``` bash\n",
    "MyApp\n",
    "   | - main.py\n",
    "   | - module.py\n",
    "```\n",
    "\n",
    "1. With the above file structure, we can use `python main.py` or `python module.py`.\n",
    "2. But we cannot call `python MyApp` in the command line.\n",
    "3. In order to do so, we can add `__main__.py` inside that directory and then we can call using directory name `python MyApp`"
   ]
  },
  {
   "cell_type": "code",
   "execution_count": null,
   "metadata": {},
   "outputs": [],
   "source": []
  },
  {
   "cell_type": "code",
   "execution_count": null,
   "metadata": {},
   "outputs": [],
   "source": []
  },
  {
   "cell_type": "code",
   "execution_count": null,
   "metadata": {},
   "outputs": [],
   "source": []
  },
  {
   "cell_type": "code",
   "execution_count": null,
   "metadata": {},
   "outputs": [],
   "source": []
  },
  {
   "cell_type": "code",
   "execution_count": null,
   "metadata": {},
   "outputs": [],
   "source": []
  }
 ],
 "metadata": {
  "language_info": {
   "name": "python"
  }
 },
 "nbformat": 4,
 "nbformat_minor": 2
}
