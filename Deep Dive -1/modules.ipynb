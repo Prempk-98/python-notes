{
 "cells": [
  {
   "cell_type": "markdown",
   "metadata": {},
   "source": [
    "# Modules, Packages and Namespace\n",
    "\n",
    "Get namespaces - Namspaces are dictionary\n",
    "\n",
    "```python\n",
    "globals()\n",
    "```\n",
    "\n",
    "#### How import works?\n",
    "\n",
    "Python `import` runs at run time.\n",
    "Python looks for module in these paths `sys.path`\n",
    "\n",
    "At a high level, this is how python imports a module from file\n",
    "1. Checks `sys.modules` cache to see if the module has already been imported - if so it simply uses the refrence inthere.\n",
    "2. creates a new module object `types.ModuleType`\n",
    "3. loads the source code from file\n",
    "4. adds an entry to `sys.modules` with name as key\n",
    "5. compiles and executes the source code.\n",
    "\n",
    "#### import math vs from math import sqrt\n",
    "\n",
    "1. Their is no performance improvement here.\n",
    "2. In both cases the whole math module is loaded into the memory\n",
    "3. The only difference is that, in `import math` math is added to global namespace\n",
    "4. And in `from math import sqrt` only **sqrt** is added to the namespace and not the **math**\n",
    "\n",
    "#### Reloading Modules\n",
    "\n",
    "1. `import` has no ability to reload a module.\n",
    "   1. Even if import is re-ran it will load from cache\n",
    "   2. One way to do it is to delete it from `sys.modules` and then again load it\n",
    "2. Another way is to use `importlib`  module. It was a function called reload which can reload a module\n"
   ]
  },
  {
   "cell_type": "code",
   "execution_count": 1,
   "metadata": {},
   "outputs": [
    {
     "data": {
      "text/plain": [
       "{'__name__': '__main__',\n",
       " '__doc__': 'Automatically created module for IPython interactive environment',\n",
       " '__package__': None,\n",
       " '__loader__': None,\n",
       " '__spec__': None,\n",
       " '__builtin__': <module 'builtins' (built-in)>,\n",
       " '__builtins__': <module 'builtins' (built-in)>,\n",
       " '_ih': ['', 'locals()'],\n",
       " '_oh': {},\n",
       " '_dh': [WindowsPath('c:/Vue/MyCode/Python Deep Dive/Deep Dive -1')],\n",
       " 'In': ['', 'locals()'],\n",
       " 'Out': {},\n",
       " 'get_ipython': <bound method InteractiveShell.get_ipython of <ipykernel.zmqshell.ZMQInteractiveShell object at 0x000001F35D0A8B90>>,\n",
       " 'exit': <IPython.core.autocall.ZMQExitAutocall at 0x1f35d107a10>,\n",
       " 'quit': <IPython.core.autocall.ZMQExitAutocall at 0x1f35d107a10>,\n",
       " 'open': <function io.open(file, mode='r', buffering=-1, encoding=None, errors=None, newline=None, closefd=True, opener=None)>,\n",
       " '_': '',\n",
       " '__': '',\n",
       " '___': '',\n",
       " '__vsc_ipynb_file__': 'c:\\\\Vue\\\\MyCode\\\\Python Deep Dive\\\\Deep Dive -1\\\\modules.ipynb',\n",
       " '_i': '',\n",
       " '_ii': '',\n",
       " '_iii': '',\n",
       " '_i1': 'locals()'}"
      ]
     },
     "execution_count": 1,
     "metadata": {},
     "output_type": "execute_result"
    }
   ],
   "source": [
    "locals()"
   ]
  },
  {
   "cell_type": "code",
   "execution_count": 2,
   "metadata": {},
   "outputs": [
    {
     "data": {
      "text/plain": [
       "{'__name__': '__main__',\n",
       " '__doc__': 'Automatically created module for IPython interactive environment',\n",
       " '__package__': None,\n",
       " '__loader__': None,\n",
       " '__spec__': None,\n",
       " '__builtin__': <module 'builtins' (built-in)>,\n",
       " '__builtins__': <module 'builtins' (built-in)>,\n",
       " '_ih': ['', 'locals()', 'globals()'],\n",
       " '_oh': {1: {...}},\n",
       " '_dh': [WindowsPath('c:/Vue/MyCode/Python Deep Dive/Deep Dive -1')],\n",
       " 'In': ['', 'locals()', 'globals()'],\n",
       " 'Out': {1: {...}},\n",
       " 'get_ipython': <bound method InteractiveShell.get_ipython of <ipykernel.zmqshell.ZMQInteractiveShell object at 0x000001F35D0A8B90>>,\n",
       " 'exit': <IPython.core.autocall.ZMQExitAutocall at 0x1f35d107a10>,\n",
       " 'quit': <IPython.core.autocall.ZMQExitAutocall at 0x1f35d107a10>,\n",
       " 'open': <function io.open(file, mode='r', buffering=-1, encoding=None, errors=None, newline=None, closefd=True, opener=None)>,\n",
       " '_': {...},\n",
       " '__': '',\n",
       " '___': '',\n",
       " '__vsc_ipynb_file__': 'c:\\\\Vue\\\\MyCode\\\\Python Deep Dive\\\\Deep Dive -1\\\\modules.ipynb',\n",
       " '_i': 'locals()',\n",
       " '_ii': '',\n",
       " '_iii': '',\n",
       " '_i1': 'locals()',\n",
       " '_1': {...},\n",
       " '_i2': 'globals()'}"
      ]
     },
     "execution_count": 2,
     "metadata": {},
     "output_type": "execute_result"
    }
   ],
   "source": [
    "globals()"
   ]
  },
  {
   "cell_type": "code",
   "execution_count": 1,
   "metadata": {},
   "outputs": [],
   "source": [
    "import sys\n",
    "import math"
   ]
  },
  {
   "cell_type": "code",
   "execution_count": 2,
   "metadata": {},
   "outputs": [
    {
     "data": {
      "text/plain": [
       "'c:\\\\Python311'"
      ]
     },
     "execution_count": 2,
     "metadata": {},
     "output_type": "execute_result"
    }
   ],
   "source": [
    "sys.prefix"
   ]
  },
  {
   "cell_type": "code",
   "execution_count": 3,
   "metadata": {},
   "outputs": [
    {
     "data": {
      "text/plain": [
       "['c:\\\\Vue\\\\MyCode\\\\Python Deep Dive\\\\Deep Dive -1',\n",
       " 'c:\\\\Python311\\\\python311.zip',\n",
       " 'c:\\\\Python311\\\\DLLs',\n",
       " 'c:\\\\Python311\\\\Lib',\n",
       " 'c:\\\\Python311',\n",
       " '',\n",
       " 'C:\\\\Users\\\\PremKumarG\\\\AppData\\\\Roaming\\\\Python\\\\Python311\\\\site-packages',\n",
       " 'C:\\\\Users\\\\PremKumarG\\\\AppData\\\\Roaming\\\\Python\\\\Python311\\\\site-packages\\\\win32',\n",
       " 'C:\\\\Users\\\\PremKumarG\\\\AppData\\\\Roaming\\\\Python\\\\Python311\\\\site-packages\\\\win32\\\\lib',\n",
       " 'C:\\\\Users\\\\PremKumarG\\\\AppData\\\\Roaming\\\\Python\\\\Python311\\\\site-packages\\\\Pythonwin',\n",
       " 'c:\\\\Python311\\\\Lib\\\\site-packages']"
      ]
     },
     "execution_count": 3,
     "metadata": {},
     "output_type": "execute_result"
    }
   ],
   "source": [
    "sys.path"
   ]
  },
  {
   "cell_type": "code",
   "execution_count": 4,
   "metadata": {},
   "outputs": [
    {
     "data": {
      "text/plain": [
       "[<_distutils_hack.DistutilsMetaFinder at 0x1ba470f5f50>,\n",
       " _frozen_importlib.BuiltinImporter,\n",
       " _frozen_importlib.FrozenImporter,\n",
       " _frozen_importlib_external.PathFinder,\n",
       " <six._SixMetaPathImporter at 0x1ba497b4c90>]"
      ]
     },
     "execution_count": 4,
     "metadata": {},
     "output_type": "execute_result"
    }
   ],
   "source": [
    "sys.meta_path"
   ]
  },
  {
   "cell_type": "code",
   "execution_count": 5,
   "metadata": {},
   "outputs": [
    {
     "data": {
      "text/plain": [
       "ModuleSpec(name='math', loader=<class '_frozen_importlib.BuiltinImporter'>, origin='built-in')"
      ]
     },
     "execution_count": 5,
     "metadata": {},
     "output_type": "execute_result"
    }
   ],
   "source": [
    "math.__spec__"
   ]
  },
  {
   "cell_type": "code",
   "execution_count": 6,
   "metadata": {},
   "outputs": [],
   "source": [
    "import module"
   ]
  },
  {
   "cell_type": "code",
   "execution_count": 7,
   "metadata": {},
   "outputs": [
    {
     "data": {
      "text/plain": [
       "ModuleSpec(name='module', loader=<_frozen_importlib_external.SourceFileLoader object at 0x000001BA470F6550>, origin='c:\\\\Vue\\\\MyCode\\\\Python Deep Dive\\\\Deep Dive -1\\\\module.py')"
      ]
     },
     "execution_count": 7,
     "metadata": {},
     "output_type": "execute_result"
    }
   ],
   "source": [
    "module.__spec__"
   ]
  },
  {
   "cell_type": "code",
   "execution_count": null,
   "metadata": {},
   "outputs": [],
   "source": []
  },
  {
   "cell_type": "code",
   "execution_count": null,
   "metadata": {},
   "outputs": [],
   "source": []
  }
 ],
 "metadata": {
  "kernelspec": {
   "display_name": "Python 3",
   "language": "python",
   "name": "python3"
  },
  "language_info": {
   "codemirror_mode": {
    "name": "ipython",
    "version": 3
   },
   "file_extension": ".py",
   "mimetype": "text/x-python",
   "name": "python",
   "nbconvert_exporter": "python",
   "pygments_lexer": "ipython3",
   "version": "3.11.3"
  }
 },
 "nbformat": 4,
 "nbformat_minor": 2
}
