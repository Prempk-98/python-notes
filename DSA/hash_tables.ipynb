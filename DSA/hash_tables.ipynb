{
 "cells": [
  {
   "cell_type": "markdown",
   "metadata": {},
   "source": [
    "## Hash Tables\n",
    "\n",
    "1. One Way\n",
    "2. Determinstic\n",
    "3. Collisions\n",
    "   1. Closed addressing\n",
    "      1. Separate Chaining\n",
    "      2. Rehasing\n",
    "   2. Open addressing\n",
    "      1. Linear Probing\n",
    "         1. $$ g(i) = [h(i) +k(i`)] \\% size $$\n",
    "         2. where k(i`)\n",
    "            1. for 0 is 0\n",
    "            2. for 1 is 1\n",
    "            3. for 2 is 2\n",
    "            4. for 3 is 3\n",
    "      2. Quadratic Probing\n",
    "         1. $$ g(i) = [h(i) +k(i`)] \\% size $$\n",
    "         2. where k(i`)\n",
    "            1. for 0 is 0\n",
    "            2. for 1 is 1\n",
    "            3. for 2 is 4\n",
    "            4. for 3 is 9\n"
   ]
  },
  {
   "cell_type": "code",
   "execution_count": 19,
   "metadata": {},
   "outputs": [],
   "source": [
    "#using closed addressing technique\n",
    "\n",
    "class HashTable:\n",
    "    def __init__(self, size=7):\n",
    "        self.datamap = [None]*size\n",
    "\n",
    "    def __hash(self, key):\n",
    "        my_hash = 0\n",
    "\n",
    "        for letter in key:\n",
    "            my_hash = (my_hash + ord(letter) *23 ) % len(self.datamap)\n",
    "\n",
    "        return my_hash\n",
    "    \n",
    "    def print_table(self):\n",
    "        for i, val in enumerate(self.datamap):\n",
    "            print(i, \": \", val)\n",
    "\n",
    "    def set_item(self, key, value):\n",
    "        index = self.__hash(key)\n",
    "\n",
    "        if self.datamap[index] is None:\n",
    "            self.datamap[index] = []\n",
    "\n",
    "        self.datamap[index].append([key, value])\n",
    "\n",
    "    def get_item(self, key):\n",
    "        hash_index = self.__hash(key)\n",
    "\n",
    "        if self.datamap[hash_index]:\n",
    "            for item in self.datamap[hash_index]:\n",
    "                if item[0] == key:\n",
    "                    return item[1]\n",
    "        \n",
    "        return None\n",
    "    \n",
    "    def get_keys(self):\n",
    "        all_keys = []\n",
    "\n",
    "        for item in self.datamap:\n",
    "            if item:\n",
    "                for item2 in item:\n",
    "                    all_keys.append(item2[0])\n",
    "\n",
    "        return all_keys"
   ]
  },
  {
   "cell_type": "code",
   "execution_count": 16,
   "metadata": {},
   "outputs": [
    {
     "name": "stdout",
     "output_type": "stream",
     "text": [
      "0 :  [['Name', 'Prem']]\n",
      "1 :  None\n",
      "2 :  None\n",
      "3 :  None\n",
      "4 :  [['Gender', 'Male']]\n",
      "5 :  None\n",
      "6 :  [['Age', 25]]\n"
     ]
    }
   ],
   "source": [
    "ht = HashTable()\n",
    "ht.set_item('Name', 'Prem')\n",
    "ht.set_item('Age', 25)\n",
    "ht.set_item('Gender', 'Male')\n",
    "ht.print_table()"
   ]
  },
  {
   "cell_type": "code",
   "execution_count": 17,
   "metadata": {},
   "outputs": [
    {
     "data": {
      "text/plain": [
       "25"
      ]
     },
     "execution_count": 17,
     "metadata": {},
     "output_type": "execute_result"
    }
   ],
   "source": [
    "ht.get_item('Age')"
   ]
  },
  {
   "cell_type": "code",
   "execution_count": 18,
   "metadata": {},
   "outputs": [
    {
     "data": {
      "text/plain": [
       "['Name', 'Gender', 'Age']"
      ]
     },
     "execution_count": 18,
     "metadata": {},
     "output_type": "execute_result"
    }
   ],
   "source": [
    "ht.get_keys()"
   ]
  },
  {
   "cell_type": "markdown",
   "metadata": {},
   "source": [
    "### Using Linear Probing"
   ]
  },
  {
   "cell_type": "code",
   "execution_count": 20,
   "metadata": {},
   "outputs": [],
   "source": [
    "class Dicitionary:\n",
    "    def __init__(self, size) -> None:\n",
    "        self.size = size\n",
    "        self.solts = [None]*size\n",
    "        self.data = [None]*size\n",
    "\n",
    "    def __hash(self, key):\n",
    "        return abs(hash(key)) % self.size\n",
    "\n",
    "    def put(self, key, value):\n",
    "        hash_value = self.__hash(key)\n",
    "        \n",
    "        if self.solts[hash_value] is None:\n",
    "            self.solts[hash_value] = key\n",
    "            self.data[hash_value] = value\n",
    "        else:\n",
    "            if self.solts[hash_value] == key:\n",
    "                self.data[hash_value] = value\n",
    "            else:\n",
    "                new_hash_value = self.rehash(hash_value)\n",
    "\n",
    "                while self.solts[new_hash_value] != None and self.solts[new_hash_value] != key:\n",
    "                    new_hash_value = self.rehash(new_hash_value)\n",
    "\n",
    "                if self.slots[new_hash_value] == None:\n",
    "                    self.solts[new_hash_value] = key\n",
    "                    \n",
    "                self.data[new_hash_value] = value\n",
    "\n",
    "    def rehash(self, old_hash):\n",
    "        return old_hash + 1 % self.size\n"
   ]
  },
  {
   "cell_type": "code",
   "execution_count": null,
   "metadata": {},
   "outputs": [],
   "source": []
  },
  {
   "cell_type": "code",
   "execution_count": null,
   "metadata": {},
   "outputs": [],
   "source": []
  }
 ],
 "metadata": {
  "kernelspec": {
   "display_name": "Python 3",
   "language": "python",
   "name": "python3"
  },
  "language_info": {
   "codemirror_mode": {
    "name": "ipython",
    "version": 3
   },
   "file_extension": ".py",
   "mimetype": "text/x-python",
   "name": "python",
   "nbconvert_exporter": "python",
   "pygments_lexer": "ipython3",
   "version": "3.11.3"
  }
 },
 "nbformat": 4,
 "nbformat_minor": 2
}
