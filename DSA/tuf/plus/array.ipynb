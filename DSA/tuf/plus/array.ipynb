{
 "cells": [
  {
   "cell_type": "markdown",
   "metadata": {},
   "source": [
    "## Largest"
   ]
  },
  {
   "cell_type": "code",
   "execution_count": null,
   "metadata": {},
   "outputs": [],
   "source": [
    "\n"
   ]
  },
  {
   "cell_type": "markdown",
   "metadata": {},
   "source": [
    "### Second Largest"
   ]
  },
  {
   "cell_type": "code",
   "execution_count": 7,
   "metadata": {},
   "outputs": [
    {
     "data": {
      "text/plain": [
       "7"
      ]
     },
     "execution_count": 7,
     "metadata": {},
     "output_type": "execute_result"
    }
   ],
   "source": [
    "def secondLargestElement(nums):\n",
    "    nums.sort() # O(n log n)\n",
    "    max_num = nums[-1]\n",
    "\n",
    "    for i in range(len(nums)-1, -1, -1): # O(n)\n",
    "        if nums[i] < max_num:\n",
    "            # return nums[i]\n",
    "            pass\n",
    "\n",
    "    return -1\n",
    "\n",
    "secondLargestElement([6, 8, 8, 7, 6, 5])\n",
    "\n",
    "# Assuming no negative numbers\n",
    "def secondLargestElement(nums):\n",
    "    max_num = float('-inf')\n",
    "    second_max = float('-inf')\n",
    "\n",
    "    for i in nums:\n",
    "        if i > max_num:\n",
    "            second_max = max_num\n",
    "            max_num = i\n",
    "        elif i > second_max and i != max_num:\n",
    "            second_max = i\n",
    "\n",
    "    return second_max\n",
    "\n",
    "secondLargestElement([6, 8, 8, 7, 6, 5])"
   ]
  },
  {
   "cell_type": "code",
   "execution_count": 1,
   "metadata": {},
   "outputs": [
    {
     "name": "stdout",
     "output_type": "stream",
     "text": [
      "[1]\n"
     ]
    },
    {
     "data": {
      "text/plain": [
       "[1, 7]"
      ]
     },
     "execution_count": 1,
     "metadata": {},
     "output_type": "execute_result"
    }
   ],
   "source": [
    "n = 7\n",
    "from math import sqrt\n",
    "\n",
    "def divisors(n):\n",
    "    divisors = []\n",
    "\n",
    "    for i in range(1, int(sqrt(n)+1)):\n",
    "        if n%i==0:\n",
    "            divisors.append(i)\n",
    "\n",
    "    len_divisors = len(divisors)\n",
    "    for i in range(len_divisors-1, -1, -1):\n",
    "        divisors.append(int(n/divisors[i]))\n",
    "        \n",
    "    return divisors\n",
    "\n",
    "divisors(n)"
   ]
  },
  {
   "cell_type": "code",
   "execution_count": 3,
   "metadata": {},
   "outputs": [
    {
     "data": {
      "text/plain": [
       "5"
      ]
     },
     "execution_count": 3,
     "metadata": {},
     "output_type": "execute_result"
    }
   ],
   "source": [
    "def findMaxConsecutiveOnes(nums):\n",
    "    consecutive_ones = 0\n",
    "\n",
    "    for i in nums:\n",
    "        if i==1:\n",
    "            consecutive_ones = 1\n",
    "            break\n",
    "    \n",
    "    if consecutive_ones==0:\n",
    "        return 0\n",
    "    \n",
    "    temp = consecutive_ones\n",
    "\n",
    "    for i in range(1, len(nums)):\n",
    "        if nums[i]==nums[i-1]==1:\n",
    "            temp+=1\n",
    "        else:\n",
    "            consecutive_ones = max(consecutive_ones, temp)\n",
    "            temp=1\n",
    "    \n",
    "    return max(consecutive_ones, temp)\n",
    "\n",
    "findMaxConsecutiveOnes([1, 1, 1, 0, 1, 1, 1, 1, 1])"
   ]
  },
  {
   "cell_type": "code",
   "execution_count": 4,
   "metadata": {},
   "outputs": [
    {
     "data": {
      "text/plain": [
       "[1, 5, 3, -5, 3, 4]"
      ]
     },
     "execution_count": 4,
     "metadata": {},
     "output_type": "execute_result"
    }
   ],
   "source": [
    "def rotateArray(nums, k):\n",
    "    k = k%len(nums)\n",
    "    required_rotated = nums[:k][::-1] + nums[k:][::-1]\n",
    "\n",
    "    return required_rotated[::-1]\n",
    "\n",
    "rotateArray([3, 4, 1, 5, 3, -5], 8)"
   ]
  },
  {
   "cell_type": "code",
   "execution_count": 10,
   "metadata": {},
   "outputs": [
    {
     "data": {
      "text/plain": [
       "[1, 2, 4, 5, 0, 0, 0]"
      ]
     },
     "execution_count": 10,
     "metadata": {},
     "output_type": "execute_result"
    }
   ],
   "source": [
    "def moveZeroes(nums):\n",
    "    zeros_total = nums.count(0)\n",
    "    new_list = []\n",
    "\n",
    "    for i in nums:\n",
    "        if i!=0:\n",
    "            new_list.append(i)\n",
    "    \n",
    "    for i in range(zeros_total):\n",
    "        new_list.append(0)\n",
    "    \n",
    "    return new_list\n",
    "\n",
    "def moveZeroes(nums):\n",
    "    nums = sorted(nums)\n",
    "\n",
    "    for i in range(len(nums)):\n",
    "        if nums[0]==0:\n",
    "            nums.pop(0)\n",
    "            nums.append(0)\n",
    "\n",
    "    return nums\n",
    "\n",
    "moveZeroes([1,2,0,5,0,4,0])"
   ]
  },
  {
   "cell_type": "code",
   "execution_count": 11,
   "metadata": {},
   "outputs": [
    {
     "data": {
      "text/plain": [
       "56"
      ]
     },
     "execution_count": 11,
     "metadata": {},
     "output_type": "execute_result"
    }
   ],
   "source": [
    "from collections import Counter\n",
    "\n",
    "def singleNumber(nums):\n",
    "    count = Counter(nums)\n",
    "    for i, j in count.items():\n",
    "        if j==1:\n",
    "            return i\n",
    "\n",
    "singleNumber([2,2,4,4,1,1,56])"
   ]
  },
  {
   "cell_type": "code",
   "execution_count": 52,
   "metadata": {},
   "outputs": [
    {
     "data": {
      "text/plain": [
       "3"
      ]
     },
     "execution_count": 52,
     "metadata": {},
     "output_type": "execute_result"
    }
   ],
   "source": [
    "def missingNumber(nums):\n",
    "    count = 0\n",
    "    nums = sorted(nums)\n",
    "\n",
    "    for i in range(len(nums)):\n",
    "        if count==nums[i]:\n",
    "            count+=1\n",
    "    \n",
    "    return count\n",
    "\n",
    "def missingNumber(nums):\n",
    "    total_elements = len(nums)\n",
    "    total_sum = ((total_elements)*(total_elements+1))//2\n",
    "    return total_sum-sum(nums)\n",
    "        \n",
    "missingNumber([0, 2, 1, 4,5])"
   ]
  },
  {
   "cell_type": "code",
   "execution_count": 54,
   "metadata": {},
   "outputs": [
    {
     "data": {
      "text/plain": [
       "[0, 3, 5, 6]"
      ]
     },
     "execution_count": 54,
     "metadata": {},
     "output_type": "execute_result"
    }
   ],
   "source": [
    "def removeDuplicates(nums):\n",
    "    new_nums = [nums[0]]\n",
    "\n",
    "    for i in range(1, len(nums)):\n",
    "        if nums[i]!=nums[i-1]:\n",
    "            new_nums.append(nums[i])\n",
    "\n",
    "    # elements_remaining = len(nums)-len(new_nums)\n",
    "\n",
    "    # for i in range(elements_remaining):\n",
    "    #     new_nums.append(-1)\n",
    "\n",
    "    return new_nums\n",
    "\n",
    "removeDuplicates([0, 0, 3, 3, 5, 6])"
   ]
  },
  {
   "cell_type": "code",
   "execution_count": 19,
   "metadata": {},
   "outputs": [
    {
     "data": {
      "text/plain": [
       "[-45, 0, 0]"
      ]
     },
     "execution_count": 19,
     "metadata": {},
     "output_type": "execute_result"
    }
   ],
   "source": [
    "def intersectionArray(nums1, nums2):\n",
    "    n1 = len(nums1)\n",
    "    n2 = len(nums2)\n",
    "\n",
    "    i = 0\n",
    "    j = 0 \n",
    "\n",
    "    intersection = []\n",
    "\n",
    "    while i<n1 and j<n2:\n",
    "        if nums1[i]==nums2[j]:\n",
    "            # if not intersection or intersection[-1] != nums1[i]:\n",
    "            intersection.append(nums1[i])\n",
    "            i+=1\n",
    "            j+=1\n",
    "        elif nums1[i]<nums2[j]:\n",
    "            i+=1\n",
    "        else:\n",
    "            j+=1\n",
    "\n",
    "    return intersection\n",
    "    \n",
    "intersectionArray(nums1 = [-45, -45, 0, 0, 2], nums2 = [-50, -45, 0, 0, 5, 7])"
   ]
  },
  {
   "cell_type": "markdown",
   "metadata": {},
   "source": []
  },
  {
   "cell_type": "code",
   "execution_count": null,
   "metadata": {},
   "outputs": [],
   "source": []
  }
 ],
 "metadata": {
  "kernelspec": {
   "display_name": "Python 3",
   "language": "python",
   "name": "python3"
  },
  "language_info": {
   "codemirror_mode": {
    "name": "ipython",
    "version": 3
   },
   "file_extension": ".py",
   "mimetype": "text/x-python",
   "name": "python",
   "nbconvert_exporter": "python",
   "pygments_lexer": "ipython3",
   "version": "3.11.3"
  }
 },
 "nbformat": 4,
 "nbformat_minor": 2
}
