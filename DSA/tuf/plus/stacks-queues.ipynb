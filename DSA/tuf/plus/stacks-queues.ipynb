{
 "cells": [
  {
   "cell_type": "code",
   "execution_count": 7,
   "metadata": {},
   "outputs": [
    {
     "data": {
      "text/plain": [
       "True"
      ]
     },
     "execution_count": 7,
     "metadata": {},
     "output_type": "execute_result"
    }
   ],
   "source": [
    "string = '{([]){{()}}}'\n",
    "\n",
    "from queue import LifoQueue\n",
    "from collections import Counter\n",
    "\n",
    "stack = LifoQueue()\n",
    "\n",
    "hash_map = {\n",
    "    '{': '}',\n",
    "    '(': ')',\n",
    "    '[': ']',\n",
    "}\n",
    "\n",
    "for i in hash_map:\n",
    "    string = string.replace(i, hash_map[i])\n",
    "\n",
    "sum(Counter(string).values())%2==0\n"
   ]
  },
  {
   "cell_type": "code",
   "execution_count": 8,
   "metadata": {},
   "outputs": [
    {
     "data": {
      "text/plain": [
       "True"
      ]
     },
     "execution_count": 8,
     "metadata": {},
     "output_type": "execute_result"
    },
    {
     "ename": "",
     "evalue": "",
     "output_type": "error",
     "traceback": [
      "\u001b[1;31mThe Kernel crashed while executing code in the current cell or a previous cell. \n",
      "\u001b[1;31mPlease review the code in the cell(s) to identify a possible cause of the failure. \n",
      "\u001b[1;31mClick <a href='https://aka.ms/vscodeJupyterKernelCrash'>here</a> for more info. \n",
      "\u001b[1;31mView Jupyter <a href='command:jupyter.viewOutput'>log</a> for further details."
     ]
    }
   ],
   "source": [
    "\n",
    "from queue import LifoQueue\n",
    "\n",
    "stack = LifoQueue()\n",
    "\n",
    "string = '{([({})])}[]'\n",
    "\n",
    "hash_map_rev = {\n",
    "    '}':'{' ,\n",
    "    ')':'(' ,\n",
    "    ']':'[' ,\n",
    "}\n",
    "\n",
    "def balanced(string):\n",
    "    for i in string:\n",
    "        if i in '{([':\n",
    "            stack.put(i)\n",
    "        else:\n",
    "            if stack.empty():\n",
    "                return False\n",
    "            \n",
    "            lt = stack.get()\n",
    "\n",
    "            if lt != hash_map_rev[i]:\n",
    "                return False\n",
    "            \n",
    "    return True\n",
    "            \n",
    "\n",
    "balanced(string)"
   ]
  },
  {
   "cell_type": "code",
   "execution_count": null,
   "metadata": {},
   "outputs": [],
   "source": []
  },
  {
   "cell_type": "code",
   "execution_count": null,
   "metadata": {},
   "outputs": [],
   "source": []
  },
  {
   "cell_type": "code",
   "execution_count": null,
   "metadata": {},
   "outputs": [],
   "source": []
  }
 ],
 "metadata": {
  "kernelspec": {
   "display_name": "Python 3",
   "language": "python",
   "name": "python3"
  },
  "language_info": {
   "codemirror_mode": {
    "name": "ipython",
    "version": 3
   },
   "file_extension": ".py",
   "mimetype": "text/x-python",
   "name": "python",
   "nbconvert_exporter": "python",
   "pygments_lexer": "ipython3",
   "version": "3.11.3"
  }
 },
 "nbformat": 4,
 "nbformat_minor": 2
}
