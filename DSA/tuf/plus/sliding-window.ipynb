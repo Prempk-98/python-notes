{
 "cells": [
  {
   "cell_type": "code",
   "execution_count": 1,
   "metadata": {},
   "outputs": [
    {
     "data": {
      "text/plain": [
       "2"
      ]
     },
     "execution_count": 1,
     "metadata": {},
     "output_type": "execute_result"
    }
   ],
   "source": [
    "class Solution:\n",
    "    def longestNonRepeatingSubstring(self, s):\n",
    "        #your code goes here\n",
    "        l=0\n",
    "        r=0\n",
    "        ln = len(s)\n",
    "        hashed = {}\n",
    "        max_len = 1\n",
    "\n",
    "        while r<ln:\n",
    "            if s[r] not in hashed:\n",
    "                ln2 = r-l+1\n",
    "                max_len = max(max_len, ln2)\n",
    "            else:\n",
    "                if hashed[s[r]]>=l:\n",
    "                    l = hashed[s[r]]+1\n",
    "                ln2 = r-l+1\n",
    "                max_len = max(max_len, ln2)\n",
    "\n",
    "            hashed[s[r]]=r\n",
    "            r+=1\n",
    "\n",
    "        return max_len\n",
    "    \n",
    "Solution().longestNonRepeatingSubstring('aaaabbbbcccc')"
   ]
  },
  {
   "cell_type": "code",
   "execution_count": 3,
   "metadata": {},
   "outputs": [
    {
     "data": {
      "text/plain": [
       "10"
      ]
     },
     "execution_count": 3,
     "metadata": {},
     "output_type": "execute_result"
    }
   ],
   "source": [
    "def longestOnes( nums, k):\n",
    "    #your code goes here\n",
    "\n",
    "    l = 0\n",
    "    r = 0\n",
    "    max_length = 0\n",
    "    zeros = 0\n",
    "\n",
    "    while r<len(nums):\n",
    "        if nums[r]==0:\n",
    "            zeros+=1\n",
    "        \n",
    "        while zeros>k:\n",
    "            if nums[l]==0:\n",
    "                zeros-=1\n",
    "            l+=1\n",
    "\n",
    "        length = r-l+1\n",
    "        max_length = max(max_length, length)\n",
    "        \n",
    "        r+=1\n",
    "\n",
    "    return max_length\n",
    "\n",
    "longestOnes(nums = [1, 1, 1, 0, 0, 0, 1, 1, 1, 1, 0] , k = 3)"
   ]
  },
  {
   "cell_type": "code",
   "execution_count": 27,
   "metadata": {},
   "outputs": [],
   "source": [
    "def totalFruits(fruits):\n",
    "    #your code goes here\n",
    "    l,r = 0,0\n",
    "    max_fruits = 0\n",
    "\n",
    "    while r<len(fruits):\n",
    "        picked_fruit = fruits[l:r+1]\n",
    "        if len(set(picked_fruit))<=2:\n",
    "            max_fruits = max(max_fruits, len(picked_fruit))\n",
    "            r+=1\n",
    "        else:\n",
    "            l+=1\n",
    "            \n",
    "    return max_fruits\n",
    "\n",
    "totalFruits([3,3,3,1,2,1,1,2,3,3,4])"
   ]
  },
  {
   "cell_type": "code",
   "execution_count": 63,
   "metadata": {},
   "outputs": [
    {
     "data": {
      "text/plain": [
       "5"
      ]
     },
     "execution_count": 63,
     "metadata": {},
     "output_type": "execute_result"
    }
   ],
   "source": [
    "def numberOfSubstrings(s: str) -> int:\n",
    "    #your code goes here\n",
    "    l,r=0,1\n",
    "    max_substrings = 0\n",
    "\n",
    "    while r<len(s)+1:\n",
    "        temp = s[l:r]\n",
    "        if len(temp)>2:\n",
    "            if set(temp)==set('abc'):\n",
    "                l+=1\n",
    "                max_substrings=max_substrings+len(s[r:])+1\n",
    "                r-=1\n",
    "                \n",
    "        r+=1\n",
    "\n",
    "    return max_substrings\n",
    "\n",
    "numberOfSubstrings('abcba')"
   ]
  },
  {
   "cell_type": "code",
   "execution_count": 38,
   "metadata": {},
   "outputs": [
    {
     "data": {
      "text/plain": [
       "True"
      ]
     },
     "execution_count": 38,
     "metadata": {},
     "output_type": "execute_result"
    }
   ],
   "source": [
    "ccab, ccabc, ccabcc, cab, cabc, cabcc, abc, abcc"
   ]
  },
  {
   "cell_type": "code",
   "execution_count": 65,
   "metadata": {},
   "outputs": [
    {
     "ename": "AttributeError",
     "evalue": "'str' object has no attribute 'reverse'",
     "output_type": "error",
     "traceback": [
      "\u001b[1;31m---------------------------------------------------------------------------\u001b[0m",
      "\u001b[1;31mAttributeError\u001b[0m                            Traceback (most recent call last)",
      "Cell \u001b[1;32mIn[65], line 1\u001b[0m\n\u001b[1;32m----> 1\u001b[0m \u001b[38;5;124;43m'\u001b[39;49m\u001b[38;5;124;43mccabcc\u001b[39;49m\u001b[38;5;124;43m'\u001b[39;49m\u001b[38;5;241;43m.\u001b[39;49m\u001b[43mreverse\u001b[49m\n",
      "\u001b[1;31mAttributeError\u001b[0m: 'str' object has no attribute 'reverse'"
     ]
    }
   ],
   "source": [
    "'ccabcc'.reverse"
   ]
  }
 ],
 "metadata": {
  "kernelspec": {
   "display_name": "Python 3",
   "language": "python",
   "name": "python3"
  },
  "language_info": {
   "codemirror_mode": {
    "name": "ipython",
    "version": 3
   },
   "file_extension": ".py",
   "mimetype": "text/x-python",
   "name": "python",
   "nbconvert_exporter": "python",
   "pygments_lexer": "ipython3",
   "version": "3.11.3"
  }
 },
 "nbformat": 4,
 "nbformat_minor": 2
}
