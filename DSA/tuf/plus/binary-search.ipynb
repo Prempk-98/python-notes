{
 "cells": [
  {
   "cell_type": "code",
   "execution_count": 1,
   "metadata": {},
   "outputs": [
    {
     "data": {
      "text/plain": [
       "0"
      ]
     },
     "execution_count": 1,
     "metadata": {},
     "output_type": "execute_result"
    }
   ],
   "source": [
    "def search(nums, target):\n",
    "\n",
    "    low = 0\n",
    "    high = len(nums)-1\n",
    "\n",
    "    while low <= high:\n",
    "        mid = (high+low)//2\n",
    "\n",
    "        if nums[mid]==target:\n",
    "            return mid\n",
    "        elif nums[mid]>target:\n",
    "            high = mid - 1\n",
    "        else:\n",
    "            low = mid + 1\n",
    "\n",
    "    return -1\n",
    "\n",
    "search([-1,0,3,5,9,12], -1)"
   ]
  },
  {
   "cell_type": "code",
   "execution_count": 9,
   "metadata": {},
   "outputs": [
    {
     "data": {
      "text/plain": [
       "1"
      ]
     },
     "execution_count": 9,
     "metadata": {},
     "output_type": "execute_result"
    }
   ],
   "source": [
    "def lowerBound(nums, x):\n",
    "        low = 0\n",
    "        high = len(nums) - 1\n",
    "        ans = len(nums)\n",
    "        while low <=high:\n",
    "            mid= (high+low)//2\n",
    "\n",
    "            if nums[mid] >= x:\n",
    "                ans = mid\n",
    "                high = mid - 1\n",
    "            else:\n",
    "                low = mid + 1\n",
    "\n",
    "        return ans\n",
    "    \n",
    "lowerBound([1,2,2,3], 2)"
   ]
  },
  {
   "cell_type": "code",
   "execution_count": 13,
   "metadata": {},
   "outputs": [
    {
     "data": {
      "text/plain": [
       "1"
      ]
     },
     "execution_count": 13,
     "metadata": {},
     "output_type": "execute_result"
    }
   ],
   "source": [
    "def searchInsert(nums, target):\n",
    "    low = 0\n",
    "    high = len(nums) - 1\n",
    "    ans = len(nums)\n",
    "    while low <=high:\n",
    "        mid= (high+low)//2\n",
    "\n",
    "        if nums[mid] == target:\n",
    "            return mid\n",
    "        elif nums[mid]>target:\n",
    "            high = mid - 1\n",
    "            ans = mid - 1\n",
    "        else:\n",
    "            low = mid + 1\n",
    "            ans = mid + 1\n",
    "\n",
    "    return ans\n",
    "\n",
    "searchInsert([1, 3, 5, 6], 2)"
   ]
  },
  {
   "cell_type": "code",
   "execution_count": 17,
   "metadata": {},
   "outputs": [
    {
     "data": {
      "text/plain": [
       "(10, -1)"
      ]
     },
     "execution_count": 17,
     "metadata": {},
     "output_type": "execute_result"
    }
   ],
   "source": [
    "def getFloorAndCeil(nums, x):\n",
    "    low = 0\n",
    "    high = len(nums) - 1\n",
    "    floor = -1\n",
    "    ceil = -1\n",
    "\n",
    "    while low<=high:\n",
    "        mid = (high + low)//2\n",
    "\n",
    "        if nums[mid]==x:\n",
    "            return x, x\n",
    "        elif nums[mid]>x:\n",
    "            ceil =  nums[mid]\n",
    "            high = mid - 1\n",
    "        else:\n",
    "            floor = nums[mid]\n",
    "            low = mid + 1\n",
    "    return floor, ceil\n",
    "\n",
    "getFloorAndCeil(nums =[3, 4, 4, 7, 8, 10], x= 12)"
   ]
  },
  {
   "cell_type": "code",
   "execution_count": 25,
   "metadata": {},
   "outputs": [
    {
     "data": {
      "text/plain": [
       "[3, 4]"
      ]
     },
     "execution_count": 25,
     "metadata": {},
     "output_type": "execute_result"
    }
   ],
   "source": [
    "def searchRange(nums, target):\n",
    "        final = [-1, -1]\n",
    "\n",
    "        low = 0\n",
    "        high = len(nums) - 1\n",
    "\n",
    "        temp = []\n",
    "\n",
    "        # Get the first occurance, by eleminating right search space\n",
    "\n",
    "        while low<=high:\n",
    "            mid = (high+low)//2\n",
    "\n",
    "            if nums[mid]==target:\n",
    "                final[0] = mid\n",
    "                high = mid - 1\n",
    "            elif nums[mid]>target:\n",
    "                high = mid - 1\n",
    "            else:\n",
    "                low = mid + 1\n",
    "\n",
    "        low = 0\n",
    "        high = len(nums) - 1\n",
    "\n",
    "        # Get the last occurance, by eleminating left search space\n",
    "        while low<=high:\n",
    "            mid = (high+low)//2\n",
    "\n",
    "            if nums[mid]==target:\n",
    "                final[-1] = mid\n",
    "                low = mid + 1\n",
    "            elif nums[mid]>target:\n",
    "                high = mid - 1\n",
    "            else:\n",
    "                low = mid + 1\n",
    "        \n",
    "\n",
    "        return final\n",
    "\n",
    "searchRange(nums = [5, 7, 7, 8, 8, 10], target = 8)"
   ]
  },
  {
   "cell_type": "code",
   "execution_count": 38,
   "metadata": {},
   "outputs": [
    {
     "data": {
      "text/plain": [
       "1"
      ]
     },
     "execution_count": 38,
     "metadata": {},
     "output_type": "execute_result"
    }
   ],
   "source": [
    "# Search in rotated sorted  array having unique values\n",
    "\n",
    "def search(nums, k):\n",
    "    low = 0\n",
    "    high = len(nums) - 1\n",
    "    ans = -1\n",
    "\n",
    "    while low<=high:\n",
    "        mid = (high+low)//2\n",
    "\n",
    "        if nums[mid]==k:\n",
    "            return mid\n",
    "        elif nums[low]<=nums[mid]:\n",
    "            # left is sorted\n",
    "            if nums[low]<=k and k <= nums[mid]:\n",
    "                high = mid - 1\n",
    "            else:\n",
    "                low = mid + 1\n",
    "        else:\n",
    "            if nums[high]>= k and k >= nums[mid]:\n",
    "                low = mid + 1\n",
    "            else:\n",
    "                high = mid - 1\n",
    "\n",
    "    return ans\n",
    "\n",
    "# search([4, 5, 6, 7, 0, 1, 2], k = 0)\n",
    "search([4, 5, 6, 7, 0, 1, 2], k = 5)"
   ]
  },
  {
   "cell_type": "code",
   "execution_count": 42,
   "metadata": {},
   "outputs": [
    {
     "data": {
      "text/plain": [
       "True"
      ]
     },
     "execution_count": 42,
     "metadata": {},
     "output_type": "execute_result"
    }
   ],
   "source": [
    "# Search in rotated sorted  array having duplicate values\n",
    "def search(nums, k):\n",
    "    low = 0\n",
    "    high = len(nums) - 1\n",
    "    ans = -1\n",
    "\n",
    "    while low<=high:\n",
    "        mid = (high+low)//2\n",
    "\n",
    "        if nums[low]==nums[mid]==nums[high]:\n",
    "            ans = nums[low]\n",
    "            low = low + 1\n",
    "            high = high - 1\n",
    "            continue\n",
    "\n",
    "        if nums[mid]==k:\n",
    "            ans = mid\n",
    "        elif nums[low]<=nums[mid]:\n",
    "            # left is sorted\n",
    "            if nums[low]<=k and k <= nums[mid]:\n",
    "                high = mid - 1\n",
    "            else:\n",
    "                low = mid + 1\n",
    "        else:\n",
    "            if nums[high]>= k and k >= nums[mid]:\n",
    "                low = mid + 1\n",
    "            else:\n",
    "                high = mid - 1\n",
    "\n",
    "\n",
    "    return True if ans > -1 else False\n",
    "\n",
    "search(nums = [7, 8, 1, 2, 3, 3, 3, 4, 5, 6], k = 7)"
   ]
  },
  {
   "cell_type": "code",
   "execution_count": 48,
   "metadata": {},
   "outputs": [
    {
     "data": {
      "text/plain": [
       "1"
      ]
     },
     "execution_count": 48,
     "metadata": {},
     "output_type": "execute_result"
    }
   ],
   "source": [
    "# Find min val in rotated sorted  array having unique values\n",
    "\n",
    "def search(nums):\n",
    "    low = 0\n",
    "    high = len(nums) - 1\n",
    "    ans = nums[0]\n",
    "\n",
    "    while low<=high:\n",
    "        mid = (high+low)//2\n",
    "\n",
    "        if nums[low]<=nums[mid]:\n",
    "            ans = min(ans, nums[low])\n",
    "            low = mid + 1\n",
    "        else:\n",
    "            ans = min(ans, nums[mid])\n",
    "            high = mid -1\n",
    "\n",
    "    return ans\n",
    "\n",
    "# search([4, 5, 6, 7, 0, 1, 2], k = 0)\n",
    "search([4, 5, 6, 7, 9, 1, 2])"
   ]
  },
  {
   "cell_type": "code",
   "execution_count": 56,
   "metadata": {},
   "outputs": [
    {
     "data": {
      "text/plain": [
       "1"
      ]
     },
     "execution_count": 56,
     "metadata": {},
     "output_type": "execute_result"
    }
   ],
   "source": [
    "import math\n",
    "\n",
    "def helper(divisor, arr):\n",
    "    sum = 0\n",
    "\n",
    "    for i in arr:\n",
    "        sum+=math.ceil(i/divisor)\n",
    "\n",
    "    return sum\n",
    "\n",
    "def smallestDivisor(nums, limit):\n",
    "    low = 1\n",
    "    high = max(nums)\n",
    "\n",
    "    while low<=high:\n",
    "        mid = (high + low)//2\n",
    "\n",
    "        if helper(mid, nums)<=limit:\n",
    "            ans = mid\n",
    "            high = mid -1\n",
    "        else:\n",
    "            low = mid +1\n",
    "\n",
    "    return low\n",
    "\n",
    "# smallestDivisor( [1, 2, 3, 4, 5], limit = 8)\n",
    "smallestDivisor([8,4,2,3], limit = 17)\n",
    "    "
   ]
  },
  {
   "cell_type": "code",
   "execution_count": 61,
   "metadata": {},
   "outputs": [
    {
     "data": {
      "text/plain": [
       "29"
      ]
     },
     "execution_count": 61,
     "metadata": {},
     "output_type": "execute_result"
    }
   ],
   "source": [
    "def maxScore(cardScore, k):\n",
    "    #your code goes here\n",
    "    max_score = 0\n",
    "\n",
    "    i = k\n",
    "    j = 0\n",
    "\n",
    "    for _ in range(k+1):\n",
    "        if j==0:\n",
    "            temp_score = sum(cardScore[:i])\n",
    "        elif i == 0:\n",
    "            temp_score = sum(cardScore[-j:])\n",
    "        else:\n",
    "            temp_score = sum(cardScore[:i])+sum(cardScore[-j:])\n",
    "\n",
    "        j+=1\n",
    "        i-=1\n",
    "\n",
    "        max_score = max(max_score, temp_score)\n",
    "\n",
    "    return max_score\n",
    "\n",
    "maxScore( [1, 2, 3, 4, 5, 6] , k = 3)\n",
    "maxScore([9, 10, 1, 2, 3, 5] , k = 5)\n"
   ]
  },
  {
   "cell_type": "code",
   "execution_count": null,
   "metadata": {},
   "outputs": [],
   "source": []
  },
  {
   "cell_type": "code",
   "execution_count": null,
   "metadata": {},
   "outputs": [],
   "source": []
  }
 ],
 "metadata": {
  "kernelspec": {
   "display_name": "Python 3",
   "language": "python",
   "name": "python3"
  },
  "language_info": {
   "codemirror_mode": {
    "name": "ipython",
    "version": 3
   },
   "file_extension": ".py",
   "mimetype": "text/x-python",
   "name": "python",
   "nbconvert_exporter": "python",
   "pygments_lexer": "ipython3",
   "version": "3.11.3"
  }
 },
 "nbformat": 4,
 "nbformat_minor": 2
}
