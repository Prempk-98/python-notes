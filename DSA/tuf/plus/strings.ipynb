{
 "cells": [
  {
   "cell_type": "code",
   "execution_count": null,
   "metadata": {},
   "outputs": [],
   "source": [
    "def palindromeCheck(s):\n",
    "    size = len(s)\n",
    "    new_str = ''\n",
    "    for i in range(1, size+1):\n",
    "        new_str+=s[size-i]\n",
    "\n",
    "    return new_str\n",
    "\n",
    "palindromeCheck(\"aabbaaa\")"
   ]
  },
  {
   "cell_type": "code",
   "execution_count": 6,
   "metadata": {},
   "outputs": [
    {
     "data": {
      "text/plain": [
       "'2031'"
      ]
     },
     "execution_count": 6,
     "metadata": {},
     "output_type": "execute_result"
    }
   ],
   "source": [
    "def largeOddNum(s):\n",
    "    max_odd = 0\n",
    "    for i in range(len(s), 0, -1):\n",
    "        integer = int(s[0:i])\n",
    "        if integer%2!=0 and integer>max_odd:\n",
    "            max_odd=integer\n",
    "\n",
    "    return str(max_odd) if max_odd !=0 else ''\n",
    "\n",
    "largeOddNum('2031468')"
   ]
  },
  {
   "cell_type": "code",
   "execution_count": 9,
   "metadata": {},
   "outputs": [
    {
     "data": {
      "text/plain": [
       "[1, 2, 5]"
      ]
     },
     "execution_count": 9,
     "metadata": {},
     "output_type": "execute_result"
    }
   ],
   "source": [
    "sorted([2,1,5])"
   ]
  }
 ],
 "metadata": {
  "kernelspec": {
   "display_name": "Python 3",
   "language": "python",
   "name": "python3"
  },
  "language_info": {
   "codemirror_mode": {
    "name": "ipython",
    "version": 3
   },
   "file_extension": ".py",
   "mimetype": "text/x-python",
   "name": "python",
   "nbconvert_exporter": "python",
   "pygments_lexer": "ipython3",
   "version": "3.11.3"
  }
 },
 "nbformat": 4,
 "nbformat_minor": 2
}
