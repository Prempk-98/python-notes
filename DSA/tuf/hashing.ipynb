{
 "cells": [
  {
   "cell_type": "markdown",
   "metadata": {},
   "source": [
    "## Hashing\n",
    "\n",
    "Pre storing and fetching\n",
    "\n",
    "Methods\n",
    "1. Division Method\n",
    "2. Folding MEthod\n",
    "3. Mid Square Method"
   ]
  },
  {
   "cell_type": "code",
   "execution_count": 14,
   "metadata": {},
   "outputs": [
    {
     "data": {
      "text/plain": [
       "8"
      ]
     },
     "execution_count": 14,
     "metadata": {},
     "output_type": "execute_result"
    }
   ],
   "source": [
    "nums = [1,2,4]\n",
    "k = 5\n",
    "class Solution:\n",
    "    def maxFrequency(self, nums, k: int) -> int:\n",
    "        nums.sort()\n",
    "        left = 0\n",
    "        ans = 0\n",
    "        curr = 0\n",
    "        \n",
    "        for right in range(len(nums)):\n",
    "            target = nums[right]\n",
    "            curr += target\n",
    "            \n",
    "            while (right - left + 1) * target - curr > k:\n",
    "                curr -= nums[left]\n",
    "                left += 1\n",
    "            \n",
    "            ans = max(ans, right - left + 1)\n",
    "\n",
    "        return ans\n",
    "    \n",
    "Solution().maxFrequency(nums,k)"
   ]
  },
  {
   "cell_type": "code",
   "execution_count": 126,
   "metadata": {},
   "outputs": [
    {
     "data": {
      "text/plain": [
       "6"
      ]
     },
     "execution_count": 126,
     "metadata": {},
     "output_type": "execute_result"
    }
   ],
   "source": [
    "hashed = {}\n",
    "nums = [4, 4, 5, 5, 6, 7]\n",
    "max_freq = 0\n",
    "second_max_freq = 0\n",
    "\n",
    "max_element = 0\n",
    "second_max_element = 0\n",
    "\n",
    "for i in nums:\n",
    "    if i in hashed:\n",
    "        hashed[i] += 1\n",
    "    else:\n",
    "        hashed[i] = 1\n",
    "\n",
    "for ele, freq in hashed.items():\n",
    "\n",
    "    if freq > max_freq:\n",
    "        second_max_freq = max_freq\n",
    "        second_max_element = max_element\n",
    "        max_freq = freq\n",
    "        max_element = ele\n",
    "    elif freq == max_freq:\n",
    "        max_element = min(max_element, ele)\n",
    "    elif freq > second_max_freq:\n",
    "        second_max_freq = freq\n",
    "        second_max_element = ele\n",
    "    elif freq == second_max_freq:\n",
    "        second_max_element = min(second_max_element, ele)\n",
    "\n",
    "second_max_element\n"
   ]
  }
 ],
 "metadata": {
  "kernelspec": {
   "display_name": "Python 3",
   "language": "python",
   "name": "python3"
  },
  "language_info": {
   "codemirror_mode": {
    "name": "ipython",
    "version": 3
   },
   "file_extension": ".py",
   "mimetype": "text/x-python",
   "name": "python",
   "nbconvert_exporter": "python",
   "pygments_lexer": "ipython3",
   "version": "3.11.3"
  }
 },
 "nbformat": 4,
 "nbformat_minor": 2
}
