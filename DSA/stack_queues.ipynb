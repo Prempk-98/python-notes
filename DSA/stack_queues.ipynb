{
 "cells": [
  {
   "cell_type": "markdown",
   "metadata": {},
   "source": [
    "## Stacks"
   ]
  },
  {
   "cell_type": "markdown",
   "metadata": {},
   "source": [
    "### Stack implementaion through Linked List"
   ]
  },
  {
   "cell_type": "code",
   "execution_count": 2,
   "metadata": {},
   "outputs": [],
   "source": [
    "class Node:\n",
    "    def __init__(self, value):\n",
    "        self.value = value\n",
    "        self.next = None"
   ]
  },
  {
   "cell_type": "code",
   "execution_count": 94,
   "metadata": {},
   "outputs": [],
   "source": [
    "class Stack:\n",
    "    def __init__(self):\n",
    "        self.top = None\n",
    "        self.length = 0\n",
    "\n",
    "    def __repr__(self):\n",
    "        curr = self.top\n",
    "\n",
    "        while curr != None:\n",
    "            print(f'| {curr.value} |')\n",
    "            print('| _ |')\n",
    "            curr = curr.next\n",
    "\n",
    "        return ''\n",
    "\n",
    "    def isempty(self):\n",
    "        return self.top == None\n",
    "    \n",
    "    def push(self, value):\n",
    "        new_node = Node(value)\n",
    "\n",
    "        new_node.next = self.top\n",
    "\n",
    "        self.top = new_node\n",
    "\n",
    "        self.length += 1\n",
    "\n",
    "        return True\n",
    "    \n",
    "    def peek(self):\n",
    "        if self.isempty():\n",
    "            return False\n",
    "        \n",
    "        return self.top.value\n",
    "\n",
    "    def pop(self):\n",
    "        pop_val = self.top.value\n",
    "        self.top = self.top.next\n",
    "        self.length -= 1\n",
    "        return pop_val\n",
    "    \n"
   ]
  },
  {
   "cell_type": "markdown",
   "metadata": {},
   "source": [
    "## Queues"
   ]
  },
  {
   "cell_type": "code",
   "execution_count": 7,
   "metadata": {},
   "outputs": [],
   "source": [
    "class Queue:\n",
    "    def __init__(self):\n",
    "        self.first = None\n",
    "        self.last = None\n",
    "\n",
    "    def enqueue(self, value):\n",
    "\n",
    "        new_node = Node(value)\n",
    "\n",
    "        if self.last == None:\n",
    "            self.first = new_node\n",
    "            self.last = self.first\n",
    "        else:\n",
    "            self.last.next = new_node\n",
    "            self.last = new_node\n",
    "\n",
    "    def dequeue(self):\n",
    "\n",
    "        if self.first == None:\n",
    "            return\n",
    "        \n",
    "        self.first = self.first.next\n",
    "\n",
    "    def __repr__(self):\n",
    "        curr = self.first\n",
    "\n",
    "        while curr != None:\n",
    "            print(f'| {curr.value} |')\n",
    "            print('| _ |')\n",
    "            curr = curr.next\n",
    "\n",
    "        return ''\n",
    "        "
   ]
  },
  {
   "cell_type": "code",
   "execution_count": 9,
   "metadata": {},
   "outputs": [
    {
     "name": "stdout",
     "output_type": "stream",
     "text": [
      "| 5 |\n",
      "| _ |\n",
      "| 6 |\n",
      "| _ |\n",
      "| 7 |\n",
      "| _ |\n"
     ]
    },
    {
     "data": {
      "text/plain": []
     },
     "execution_count": 9,
     "metadata": {},
     "output_type": "execute_result"
    }
   ],
   "source": [
    "q = Queue()\n",
    "q.enqueue(5)\n",
    "q.enqueue(6)\n",
    "q.enqueue(7)\n",
    "\n",
    "q"
   ]
  },
  {
   "cell_type": "code",
   "execution_count": 10,
   "metadata": {},
   "outputs": [],
   "source": [
    "q.dequeue()"
   ]
  },
  {
   "cell_type": "code",
   "execution_count": 11,
   "metadata": {},
   "outputs": [
    {
     "name": "stdout",
     "output_type": "stream",
     "text": [
      "| 6 |\n",
      "| _ |\n",
      "| 7 |\n",
      "| _ |\n"
     ]
    },
    {
     "data": {
      "text/plain": []
     },
     "execution_count": 11,
     "metadata": {},
     "output_type": "execute_result"
    }
   ],
   "source": [
    "q"
   ]
  },
  {
   "cell_type": "code",
   "execution_count": 19,
   "metadata": {},
   "outputs": [
    {
     "data": {
      "text/plain": [
       "[3, 4, 5]"
      ]
     },
     "execution_count": 19,
     "metadata": {},
     "output_type": "execute_result"
    }
   ],
   "source": [
    "l = [2,3,4,5]\n",
    "l.pop(0)\n",
    "l"
   ]
  },
  {
   "cell_type": "code",
   "execution_count": null,
   "metadata": {},
   "outputs": [],
   "source": []
  },
  {
   "cell_type": "markdown",
   "metadata": {},
   "source": [
    "#### Problems"
   ]
  },
  {
   "cell_type": "markdown",
   "metadata": {},
   "source": [
    "##### 1 String Reversal"
   ]
  },
  {
   "cell_type": "code",
   "execution_count": 67,
   "metadata": {},
   "outputs": [],
   "source": [
    "class Promblem1(Stack):\n",
    "    def __init__(self):\n",
    "        super().__init__()\n",
    "\n",
    "    def reverse(self):\n",
    "        reverese_string = ''\n",
    "\n",
    "        while not self.isempty():\n",
    "            item = self.pop()\n",
    "            print(item)\n",
    "\n",
    "            reverese_string = str(item) + reverese_string\n",
    "\n",
    "        return reverese_string"
   ]
  },
  {
   "cell_type": "code",
   "execution_count": 68,
   "metadata": {},
   "outputs": [
    {
     "name": "stdout",
     "output_type": "stream",
     "text": [
      "| 8 |\n",
      "| _ |\n",
      "| 7 |\n",
      "| _ |\n",
      "| 6 |\n",
      "| _ |\n",
      "| 5 |\n",
      "| _ |\n"
     ]
    },
    {
     "data": {
      "text/plain": []
     },
     "execution_count": 68,
     "metadata": {},
     "output_type": "execute_result"
    }
   ],
   "source": [
    "s= Promblem1()\n",
    "s.push(5)\n",
    "s.push(6)\n",
    "s.push(7)\n",
    "s.push(8)\n",
    "s"
   ]
  },
  {
   "cell_type": "code",
   "execution_count": 69,
   "metadata": {},
   "outputs": [
    {
     "name": "stdout",
     "output_type": "stream",
     "text": [
      "8\n",
      "7\n",
      "6\n",
      "5\n"
     ]
    },
    {
     "data": {
      "text/plain": [
       "'5678'"
      ]
     },
     "execution_count": 69,
     "metadata": {},
     "output_type": "execute_result"
    }
   ],
   "source": [
    "s.reverse()"
   ]
  },
  {
   "cell_type": "markdown",
   "metadata": {},
   "source": [
    "##### 2 Text Editor"
   ]
  },
  {
   "cell_type": "code",
   "execution_count": 70,
   "metadata": {},
   "outputs": [],
   "source": [
    "class Promblem2(Stack):\n",
    "    def __init__(self):\n",
    "        super().__init__()"
   ]
  },
  {
   "cell_type": "code",
   "execution_count": 85,
   "metadata": {},
   "outputs": [],
   "source": [
    "def text_editor(text, operation_pattern):\n",
    "    undo  = Promblem2()\n",
    "    redo  = Promblem2()\n",
    "\n",
    "    for i in text:\n",
    "        undo.push(i)\n",
    "\n",
    "    for i in operation_pattern:\n",
    "        if i == 'u':\n",
    "            if not undo.isempty():\n",
    "                data = undo.pop()\n",
    "                redo.push(data)\n",
    "            else:\n",
    "                return \"Nothing to Undo\"\n",
    "        else:\n",
    "            if not redo.isempty():\n",
    "                data = redo.pop()\n",
    "                undo.push(data)\n",
    "            else:\n",
    "                return \"Nothing to Redo\"\n",
    "\n",
    "    return undo\n"
   ]
  },
  {
   "cell_type": "code",
   "execution_count": 92,
   "metadata": {},
   "outputs": [
    {
     "name": "stdout",
     "output_type": "stream",
     "text": [
      "| l |\n",
      "| _ |\n",
      "| l |\n",
      "| _ |\n",
      "| e |\n",
      "| _ |\n",
      "| H |\n",
      "| _ |\n"
     ]
    },
    {
     "data": {
      "text/plain": []
     },
     "execution_count": 92,
     "metadata": {},
     "output_type": "execute_result"
    }
   ],
   "source": [
    "text_editor('Hello', 'uuuurrr')"
   ]
  },
  {
   "cell_type": "markdown",
   "metadata": {},
   "source": [
    "##### 3 Celebrity Problem"
   ]
  },
  {
   "cell_type": "code",
   "execution_count": 93,
   "metadata": {},
   "outputs": [],
   "source": [
    "l = [\n",
    "    [0,0,1,1],\n",
    "    [0,0,1,0],\n",
    "    [0,0,0,1],\n",
    "    [0,0,1,0],\n",
    "    ]"
   ]
  },
  {
   "cell_type": "code",
   "execution_count": 97,
   "metadata": {},
   "outputs": [],
   "source": [
    "def find_celebrity(matr):\n",
    "\n",
    "    s = Stack()\n",
    "\n",
    "    for i in range(len(matr)):\n",
    "        s.push(i)\n",
    "\n",
    "    while s.length >= 2:\n",
    "        i = s.pop()\n",
    "        j = s.pop()\n",
    "\n",
    "        if matr[i][j] == 0:\n",
    "            # j is not celeb\n",
    "            s.push(i)\n",
    "        else:\n",
    "            # i is not celeb\n",
    "            s.push(j)\n",
    "\n",
    "    print(s)"
   ]
  },
  {
   "cell_type": "code",
   "execution_count": 98,
   "metadata": {},
   "outputs": [
    {
     "name": "stdout",
     "output_type": "stream",
     "text": [
      "| 3 |\n",
      "| _ |\n",
      "| 2 |\n",
      "| _ |\n",
      "| 1 |\n",
      "| _ |\n",
      "| 0 |\n",
      "| _ |\n",
      "\n",
      "| 2 |\n",
      "| _ |\n",
      "\n"
     ]
    }
   ],
   "source": [
    "find_celebrity(l)"
   ]
  },
  {
   "cell_type": "code",
   "execution_count": 51,
   "metadata": {},
   "outputs": [],
   "source": [
    "class Stack:\n",
    "    def __init__(self):\n",
    "        self.stack_list = []\n",
    "\n",
    "    def print_stack(self):\n",
    "        for i in range(len(self.stack_list)-1, -1, -1):\n",
    "            print(self.stack_list[i])\n",
    "\n",
    "    def is_empty(self):\n",
    "        return len(self.stack_list) == 0\n",
    "\n",
    "    def peek(self):\n",
    "        if self.is_empty():\n",
    "            return None\n",
    "        else:\n",
    "            return self.stack_list[-1]\n",
    "\n",
    "    def size(self):\n",
    "        return len(self.stack_list)\n",
    "\n",
    "    def push(self, value):\n",
    "        self.stack_list.append(value)\n",
    "\n",
    "    def pop(self):\n",
    "        if self.is_empty():\n",
    "            return None\n",
    "        else:\n",
    "            return self.stack_list.pop()\n",
    "        \n",
    "def is_balanced_parentheses(parentheses):\n",
    "    stack = Stack()\n",
    "    for p in parentheses:\n",
    "        if p == '(':\n",
    "            stack.push(p)\n",
    "        elif p == ')':\n",
    "            if stack.is_empty() or stack.pop() != '(':\n",
    "                return False\n",
    "    return stack.is_empty()\n",
    "\n",
    "\n",
    "def my_is_balanced_parentheses(string):\n",
    "    open_stack = Stack()\n",
    "    close_stack = Stack()\n",
    "    \n",
    "    for paren in string:\n",
    "        if paren == '(':\n",
    "            open_stack.push(paren)\n",
    "        else:\n",
    "            close_stack.push(paren)\n",
    "\n",
    "    open_stack.print_stack()\n",
    "    print('-'*10)\n",
    "    close_stack.print_stack()\n",
    "            \n",
    "    if len(string)==0:\n",
    "        return True\n",
    "            \n",
    "    if open_stack.size() != close_stack.size():\n",
    "        return False\n",
    "        \n",
    "    # for _ in range(open_stack.size()):\n",
    "    #     print(open_stack.pop(), close_stack.pop())\n",
    "    #     # if open_stack.pop() == close_stack.pop():\n",
    "    #     #     return False\n",
    "            \n",
    "    return True\n"
   ]
  },
  {
   "cell_type": "code",
   "execution_count": 53,
   "metadata": {},
   "outputs": [
    {
     "name": "stdout",
     "output_type": "stream",
     "text": [
      "(\n",
      "(\n",
      "(\n",
      "----------\n",
      ")\n",
      ")\n",
      ")\n",
      ")\n"
     ]
    },
    {
     "data": {
      "text/plain": [
       "False"
      ]
     },
     "execution_count": 53,
     "metadata": {},
     "output_type": "execute_result"
    }
   ],
   "source": [
    "is_balanced_parentheses('(())())')"
   ]
  },
  {
   "cell_type": "code",
   "execution_count": null,
   "metadata": {},
   "outputs": [],
   "source": [
    "\n",
    "def test_is_balanced_parentheses():\n",
    "    try:\n",
    "        assert is_balanced_parentheses('((()))') == True\n",
    "        print('Test case 1 passed')\n",
    "    except AssertionError:\n",
    "        print('Test case 1 failed')\n",
    "\n",
    "    try:\n",
    "        assert is_balanced_parentheses('()') == True\n",
    "        print('Test case 2 passed')\n",
    "    except AssertionError:\n",
    "        print('Test case 2 failed')\n",
    "\n",
    "    try:\n",
    "        assert is_balanced_parentheses('(()())') == True\n",
    "        print('Test case 3 passed')\n",
    "    except AssertionError:\n",
    "        print('Test case 3 failed')\n",
    "\n",
    "    try:\n",
    "        assert is_balanced_parentheses('(()') == False\n",
    "        print('Test case 4 passed')\n",
    "    except AssertionError:\n",
    "        print('Test case 4 failed')\n",
    "\n",
    "    try:\n",
    "        assert is_balanced_parentheses('())') == False\n",
    "        print('Test case 5 passed')\n",
    "    except AssertionError:\n",
    "        print('Test case 5 failed')\n",
    "\n",
    "    try:\n",
    "        assert is_balanced_parentheses(')(') == False\n",
    "        print('Test case 6 passed')\n",
    "    except AssertionError:\n",
    "        print('Test case 6 failed')\n",
    "\n",
    "    try:\n",
    "        assert is_balanced_parentheses('') == True\n",
    "        print('Test case 7 passed')\n",
    "    except AssertionError:\n",
    "        print('Test case 7 failed')\n",
    "\n",
    "    try:\n",
    "        assert is_balanced_parentheses('()()()()') == True\n",
    "        print('Test case 8 passed')\n",
    "    except AssertionError:\n",
    "        print('Test case 8 failed')\n",
    "\n",
    "    try:\n",
    "        assert is_balanced_parentheses('(())(())') == True\n",
    "        print('Test case 9 passed')\n",
    "    except AssertionError:\n",
    "        print('Test case 9 failed')\n",
    "\n",
    "    try:\n",
    "        assert is_balanced_parentheses('(()()())') == True\n",
    "        print('Test case 10 passed')\n",
    "    except AssertionError:\n",
    "        print('Test case 10 failed')\n",
    "\n",
    "    try:\n",
    "        assert is_balanced_parentheses('((())') == False\n",
    "        print('Test case 11 passed')\n",
    "    except AssertionError:\n",
    "        print('Test case 11 failed')\n",
    "\n",
    "test_is_balanced_parentheses()"
   ]
  },
  {
   "cell_type": "code",
   "execution_count": null,
   "metadata": {},
   "outputs": [],
   "source": []
  },
  {
   "cell_type": "code",
   "execution_count": null,
   "metadata": {},
   "outputs": [],
   "source": []
  },
  {
   "cell_type": "code",
   "execution_count": null,
   "metadata": {},
   "outputs": [],
   "source": []
  }
 ],
 "metadata": {
  "kernelspec": {
   "display_name": "Python 3",
   "language": "python",
   "name": "python3"
  },
  "language_info": {
   "codemirror_mode": {
    "name": "ipython",
    "version": 3
   },
   "file_extension": ".py",
   "mimetype": "text/x-python",
   "name": "python",
   "nbconvert_exporter": "python",
   "pygments_lexer": "ipython3",
   "version": "3.11.3"
  }
 },
 "nbformat": 4,
 "nbformat_minor": 2
}
