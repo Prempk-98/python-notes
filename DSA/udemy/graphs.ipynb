{
 "cells": [
  {
   "cell_type": "markdown",
   "metadata": {},
   "source": [
    "## [Graph](\"https://www.programiz.com/dsa/graph\")\n",
    "\n",
    "[Graph vs Tree](https://www.geeksforgeeks.org/difference-between-graph-and-tree/)"
   ]
  },
  {
   "cell_type": "code",
   "execution_count": 14,
   "metadata": {},
   "outputs": [],
   "source": [
    "class Graph:\n",
    "    def __init__(self):\n",
    "        self.adj_list = {}\n",
    "\n",
    "    def print_graph(self):\n",
    "        for vertex in self.adj_list:\n",
    "            print(vertex, ':', self.adj_list[vertex])\n",
    "\n",
    "    def add_vertex(self, vertex):\n",
    "        if vertex not in self.adj_list:\n",
    "            self.adj_list[vertex] = []\n",
    "            return True\n",
    "\n",
    "        return False\n",
    "\n",
    "    def add_edge(self, v1,v2):\n",
    "\n",
    "        if v1 in self.adj_list and v2 in self.adj_list:\n",
    "            self.adj_list[v1].append(v2)        \n",
    "            self.adj_list[v2].append(v1)\n",
    "\n",
    "            return True\n",
    "\n",
    "        return False\n",
    "\n",
    "    def remove_edge(self, v1,v2):\n",
    "        if v1 in self.adj_list and v2 in self.adj_list:\n",
    "            try:\n",
    "                self.adj_list[v1].remove(v2)        \n",
    "                self.adj_list[v2].remove(v1)\n",
    "            except ValueError:\n",
    "                pass\n",
    "            return True\n",
    "\n",
    "        return False\n",
    "\n",
    "    def remove_vertex(self, vertex):\n",
    "\n",
    "        if vertex in self.adj_list:\n",
    "            for vert in self.adj_list[vertex]:\n",
    "                self.adj_list[vert].remove(vertex)\n",
    "            del self.adj_list[vertex]\n",
    "\n",
    "            return True\n",
    "        \n",
    "        return False\n",
    "\n"
   ]
  },
  {
   "cell_type": "code",
   "execution_count": 15,
   "metadata": {},
   "outputs": [
    {
     "name": "stdout",
     "output_type": "stream",
     "text": [
      "A : ['B', 'C']\n",
      "B : ['A', 'C']\n",
      "C : ['B', 'A']\n"
     ]
    }
   ],
   "source": [
    "my_graph = Graph()\n",
    "my_graph.add_vertex('A')\n",
    "my_graph.add_vertex('B')\n",
    "my_graph.add_vertex('C')\n",
    "\n",
    "my_graph.add_edge('A', 'B')\n",
    "my_graph.add_edge('B', 'C')\n",
    "my_graph.add_edge('C', 'A')\n",
    "\n",
    "# my_graph.remove_edge('A', 'B')\n",
    "\n",
    "my_graph.print_graph()"
   ]
  },
  {
   "cell_type": "code",
   "execution_count": 16,
   "metadata": {},
   "outputs": [
    {
     "data": {
      "text/plain": [
       "True"
      ]
     },
     "execution_count": 16,
     "metadata": {},
     "output_type": "execute_result"
    }
   ],
   "source": [
    "my_graph.remove_vertex('A')"
   ]
  },
  {
   "cell_type": "code",
   "execution_count": 17,
   "metadata": {},
   "outputs": [
    {
     "name": "stdout",
     "output_type": "stream",
     "text": [
      "B : ['C']\n",
      "C : ['B']\n"
     ]
    }
   ],
   "source": [
    "my_graph.print_graph()"
   ]
  },
  {
   "cell_type": "markdown",
   "metadata": {},
   "source": [
    "### Problem 1"
   ]
  },
  {
   "cell_type": "markdown",
   "metadata": {},
   "source": []
  },
  {
   "cell_type": "code",
   "execution_count": null,
   "metadata": {},
   "outputs": [],
   "source": []
  },
  {
   "cell_type": "code",
   "execution_count": null,
   "metadata": {},
   "outputs": [],
   "source": []
  },
  {
   "cell_type": "code",
   "execution_count": null,
   "metadata": {},
   "outputs": [],
   "source": []
  },
  {
   "cell_type": "code",
   "execution_count": null,
   "metadata": {},
   "outputs": [],
   "source": []
  },
  {
   "cell_type": "code",
   "execution_count": null,
   "metadata": {},
   "outputs": [],
   "source": []
  },
  {
   "cell_type": "code",
   "execution_count": null,
   "metadata": {},
   "outputs": [],
   "source": []
  }
 ],
 "metadata": {
  "kernelspec": {
   "display_name": "Python 3",
   "language": "python",
   "name": "python3"
  },
  "language_info": {
   "codemirror_mode": {
    "name": "ipython",
    "version": 3
   },
   "file_extension": ".py",
   "mimetype": "text/x-python",
   "name": "python",
   "nbconvert_exporter": "python",
   "pygments_lexer": "ipython3",
   "version": "3.11.3"
  }
 },
 "nbformat": 4,
 "nbformat_minor": 2
}
