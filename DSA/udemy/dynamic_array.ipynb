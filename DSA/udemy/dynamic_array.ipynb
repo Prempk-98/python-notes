{
 "cells": [
  {
   "cell_type": "markdown",
   "metadata": {},
   "source": [
    "### Dynamic Array in Python\n",
    "\n",
    "Python internally uses dynamic array for `list` data structure"
   ]
  },
  {
   "cell_type": "code",
   "execution_count": 2,
   "metadata": {},
   "outputs": [],
   "source": [
    "import sys\n",
    "import ctypes"
   ]
  },
  {
   "cell_type": "code",
   "execution_count": 55,
   "metadata": {},
   "outputs": [],
   "source": [
    "class MyList:\n",
    "    def __init__(self):\n",
    "        self.size=1\n",
    "        self.n=0\n",
    "        self.A = self.__make_array(self.size)\n",
    "\n",
    "    def __len__(self):\n",
    "        return self.n\n",
    "    \n",
    "    def __str__(self):\n",
    "        return str([self.A[i] for i in range(self.n)])\n",
    "    \n",
    "    def __getitem__(self, index):\n",
    "        return self.A[index]\n",
    "    \n",
    "    def __delitem__(self, index):\n",
    "        for i in range(index, self.n-1):\n",
    "            self.A[i] = self.A[i+1]\n",
    "\n",
    "        self.n -= 1\n",
    "\n",
    "    def __make_array(self, size):\n",
    "        # this function creates ctype array and it is referential array\n",
    "        return (size * ctypes.py_object)()\n",
    "    \n",
    "    \n",
    "    def append(self, item):\n",
    "        if self.size == self.n:\n",
    "            self.__resize_array(self.size * 2)\n",
    "\n",
    "        self.A[self.n] = item\n",
    "        self.n+=1\n",
    "\n",
    "    def pop(self):\n",
    "        print(self.A[self.n-1])\n",
    "        self.n = self.n-1\n",
    "\n",
    "    def clear(self):\n",
    "        self.n = 0\n",
    "        self.size = 1\n",
    "\n",
    "    def insert(self, pos, item):\n",
    "        if self.n == self.size:\n",
    "            self.__resize_array(self.size*2)\n",
    "\n",
    "        for i in range(self.n, pos, -1):\n",
    "            self.A[i] = self.A[i-1]\n",
    "\n",
    "        self.A[pos] = item\n",
    "        self.n += 1\n",
    "\n",
    "    def __resize_array(self, new_size):\n",
    "        B = self.__make_array(new_size)\n",
    "        self.size = new_size\n",
    "\n",
    "        for i in range(self.n):\n",
    "            B[i] = self.A[i]\n",
    "\n",
    "        self.A = B\n",
    "    \n"
   ]
  },
  {
   "cell_type": "code",
   "execution_count": 56,
   "metadata": {},
   "outputs": [],
   "source": [
    "list_my = MyList()"
   ]
  },
  {
   "cell_type": "code",
   "execution_count": 57,
   "metadata": {},
   "outputs": [],
   "source": [
    "list_my.append(55)\n",
    "list_my.append(89)\n",
    "list_my.append(85)\n",
    "list_my.append(74)"
   ]
  },
  {
   "cell_type": "code",
   "execution_count": 58,
   "metadata": {},
   "outputs": [
    {
     "name": "stdout",
     "output_type": "stream",
     "text": [
      "[55, 89, 85, 74]\n"
     ]
    }
   ],
   "source": [
    "print(list_my)"
   ]
  },
  {
   "cell_type": "code",
   "execution_count": 59,
   "metadata": {},
   "outputs": [],
   "source": [
    "list_my.insert(1,77)"
   ]
  },
  {
   "cell_type": "code",
   "execution_count": 60,
   "metadata": {},
   "outputs": [
    {
     "name": "stdout",
     "output_type": "stream",
     "text": [
      "[55, 77, 89, 85, 74]\n"
     ]
    }
   ],
   "source": [
    "print(list_my)"
   ]
  },
  {
   "cell_type": "code",
   "execution_count": 54,
   "metadata": {},
   "outputs": [
    {
     "data": {
      "text/plain": [
       "2"
      ]
     },
     "execution_count": 54,
     "metadata": {},
     "output_type": "execute_result"
    }
   ],
   "source": [
    "len(list_my)"
   ]
  },
  {
   "cell_type": "code",
   "execution_count": 52,
   "metadata": {},
   "outputs": [
    {
     "name": "stdout",
     "output_type": "stream",
     "text": [
      "74\n"
     ]
    }
   ],
   "source": [
    "list_my.pop()"
   ]
  },
  {
   "cell_type": "code",
   "execution_count": null,
   "metadata": {},
   "outputs": [],
   "source": []
  },
  {
   "cell_type": "code",
   "execution_count": null,
   "metadata": {},
   "outputs": [],
   "source": []
  }
 ],
 "metadata": {
  "kernelspec": {
   "display_name": "Python 3",
   "language": "python",
   "name": "python3"
  },
  "language_info": {
   "codemirror_mode": {
    "name": "ipython",
    "version": 3
   },
   "file_extension": ".py",
   "mimetype": "text/x-python",
   "name": "python",
   "nbconvert_exporter": "python",
   "pygments_lexer": "ipython3",
   "version": "3.11.3"
  }
 },
 "nbformat": 4,
 "nbformat_minor": 2
}
