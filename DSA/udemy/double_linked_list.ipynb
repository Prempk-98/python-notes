{
 "cells": [
  {
   "cell_type": "code",
   "execution_count": 122,
   "metadata": {},
   "outputs": [],
   "source": [
    "class Node:\n",
    "    def __init__(self, value):\n",
    "        self.value = value\n",
    "        self.next = None\n",
    "        self.prev = None"
   ]
  },
  {
   "cell_type": "code",
   "execution_count": 123,
   "metadata": {},
   "outputs": [],
   "source": [
    "class DoublyLinkedList:\n",
    "    def __init__(self, value):\n",
    "        new_node = Node(value)\n",
    "        self.head = new_node\n",
    "        self.tail = new_node\n",
    "        self.length = 1\n",
    "\n",
    "    def __repr__(self):\n",
    "        temp = self.head\n",
    "\n",
    "        result = ''\n",
    "        while temp!= None:\n",
    "            result += str(temp.value) + ' <--> '\n",
    "            temp = temp.next\n",
    "\n",
    "        return result\n",
    "    \n",
    "    def append(self, value):\n",
    "        new_node = Node(value)\n",
    "\n",
    "        if self.head == None:\n",
    "            self.head = new_node\n",
    "        else:\n",
    "            self.tail.next = new_node\n",
    "            new_node.prev = self.tail\n",
    "        \n",
    "        self.tail = new_node\n",
    "        self.length+=1\n",
    "\n",
    "        return True\n",
    "    \n",
    "    def pop(self):\n",
    "        if self.length == 0:\n",
    "            return None\n",
    "        \n",
    "        temp = self.tail\n",
    "        \n",
    "        if self.length==1:\n",
    "            self.head = None\n",
    "            self.tail = None\n",
    "        else:\n",
    "            self.tail = self.tail.prev\n",
    "            self.tail.next = None\n",
    "            temp.prev = None\n",
    "\n",
    "        self.length-=1\n",
    "\n",
    "        return temp\n",
    "    \n",
    "    def prepend(self, value):\n",
    "        new_node = Node(value)\n",
    "\n",
    "        if self.length == 0:\n",
    "            self.head = new_node\n",
    "            self.tail = new_node\n",
    "        else:\n",
    "            new_node.next = self.head\n",
    "            self.head.prev = new_node\n",
    "            self.head = new_node\n",
    "\n",
    "        self.length+=1\n",
    "\n",
    "        return True\n",
    "    \n",
    "    def pop_first(self):\n",
    "        if self.length==0:\n",
    "            return None\n",
    "        \n",
    "        old = self.head\n",
    "\n",
    "        if self.length==1:\n",
    "            self.head=None\n",
    "            self.tail=None\n",
    "        else:\n",
    "            self.head = self.head.next\n",
    "            self.head.prev = None\n",
    "            old.next= None\n",
    "\n",
    "        self.length-=1\n",
    "\n",
    "        return old.value\n",
    "    \n",
    "    def get(self, index):\n",
    "        if index < 0 or index >= self.length:\n",
    "            return None\n",
    "        \n",
    "        if index < self.length/2:\n",
    "            temp = self.head\n",
    "            for _ in range(index):\n",
    "                temp = temp.next\n",
    "        else:\n",
    "            temp = self.tail\n",
    "\n",
    "            for _ in range(self.length-1, index, -1):\n",
    "                temp = temp.prev\n",
    "\n",
    "        return temp\n",
    "        \n",
    "    def set_value(self, index, value):\n",
    "        # if index < 0 or index >= self.length:\n",
    "        #     return None\n",
    "        \n",
    "        # if index < self.length/2:\n",
    "        #     temp = self.head\n",
    "        #     for _ in range(index):\n",
    "        #         temp = temp.next\n",
    "\n",
    "        #     temp.value = value\n",
    "        # else:\n",
    "        #     temp = self.tail\n",
    "        #     for _ in range(self.length-1, index, -1):\n",
    "        #         temp = temp.prev\n",
    "\n",
    "        #     temp.value = value\n",
    "\n",
    "        # return \n",
    "\n",
    "        temp = self.get(index)\n",
    "        if temp is not None:\n",
    "            temp.value = value\n",
    "            return True\n",
    "\n",
    "        return False\n",
    "    \n",
    "    def insert(self, index, value):\n",
    "        if index < 0 or index >= self.length:\n",
    "            return None\n",
    "\n",
    "        if index == 0:\n",
    "            self.prepend(value)\n",
    "            return True\n",
    "        \n",
    "        if index == self.length-1:\n",
    "            self.append(value)\n",
    "            return True\n",
    "\n",
    "        new_node = Node(value)\n",
    "\n",
    "        before = self.get(index-1)\n",
    "        after = before.next\n",
    "\n",
    "        new_node.prev = before\n",
    "        new_node.next = after\n",
    "\n",
    "        before.next = new_node\n",
    "        after.prev = new_node\n",
    "\n",
    "        self.length += 1\n",
    "\n",
    "        return True\n",
    "    \n",
    "    def remove(self, index):\n",
    "        if index < 0 or index >= self.length:\n",
    "            return None\n",
    "        \n",
    "        if index == 0:\n",
    "            return self.pop_first()\n",
    "\n",
    "        if index == self.length-1:\n",
    "            return self.pop()\n",
    "        \n",
    "        temp = self.get(index)\n",
    "\n",
    "        before = temp.prev\n",
    "        after = temp.next\n",
    "\n",
    "        before.next = after\n",
    "        after.prev = before\n",
    "\n",
    "        temp.prev, temp.next = None, None\n",
    "\n",
    "        self.length -= 1\n",
    "\n",
    "        return temp.value\n",
    "\n",
    "\n",
    "        \n",
    "        "
   ]
  },
  {
   "cell_type": "markdown",
   "metadata": {},
   "source": [
    "## Problems"
   ]
  },
  {
   "cell_type": "markdown",
   "metadata": {},
   "source": [
    "#### 1 Swap First and Last"
   ]
  },
  {
   "cell_type": "code",
   "execution_count": 124,
   "metadata": {},
   "outputs": [],
   "source": [
    "class Problem1(DoublyLinkedList):\n",
    "    def __init__(self, value):\n",
    "        super().__init__(value)\n",
    "\n",
    "    def swap_first_last(self):\n",
    "\n",
    "        if self.length in [1, 0]:\n",
    "            return True\n",
    "        \n",
    "        h_value = self.head.value\n",
    "        t_value = self.tail.value\n",
    "\n",
    "        self.head.value, self.tail.value = t_value, h_value\n",
    "\n",
    "        return True"
   ]
  },
  {
   "cell_type": "code",
   "execution_count": 125,
   "metadata": {},
   "outputs": [
    {
     "data": {
      "text/plain": [
       "1 <--> 65 <--> 36 <--> 85 <--> 12 <--> "
      ]
     },
     "execution_count": 125,
     "metadata": {},
     "output_type": "execute_result"
    }
   ],
   "source": [
    "dd = Problem1(1)\n",
    "dd.append(65)\n",
    "dd.append(36)\n",
    "dd.append(85)\n",
    "dd.append(12)\n",
    "dd"
   ]
  },
  {
   "cell_type": "code",
   "execution_count": 126,
   "metadata": {},
   "outputs": [
    {
     "data": {
      "text/plain": [
       "True"
      ]
     },
     "execution_count": 126,
     "metadata": {},
     "output_type": "execute_result"
    }
   ],
   "source": [
    "dd.swap_first_last()"
   ]
  },
  {
   "cell_type": "code",
   "execution_count": 127,
   "metadata": {},
   "outputs": [
    {
     "data": {
      "text/plain": [
       "12 <--> 65 <--> 36 <--> 85 <--> 1 <--> "
      ]
     },
     "execution_count": 127,
     "metadata": {},
     "output_type": "execute_result"
    }
   ],
   "source": [
    "dd"
   ]
  },
  {
   "cell_type": "markdown",
   "metadata": {},
   "source": [
    "#### 2 Reverse"
   ]
  },
  {
   "cell_type": "code",
   "execution_count": 128,
   "metadata": {},
   "outputs": [],
   "source": [
    "class Problem2(DoublyLinkedList):\n",
    "    def __init__(self, value):\n",
    "        super().__init__(value)\n",
    "\n",
    "    def reverse(self):\n",
    "        if self.length == 0:\n",
    "            return \n",
    "        \n",
    "        prev_node = self.head.prev\n",
    "        curr_node = self.head\n",
    "        next_node = self.head.next\n",
    "\n",
    "        while curr_node != None:\n",
    "            next_node = curr_node.next\n",
    "            curr_node.next = prev_node\n",
    "            prev_node = curr_node\n",
    "            curr_node = next_node\n",
    "\n",
    "        self.head = prev_node\n",
    "\n",
    "\n",
    "        "
   ]
  },
  {
   "cell_type": "code",
   "execution_count": 129,
   "metadata": {},
   "outputs": [
    {
     "data": {
      "text/plain": [
       "1 <--> 65 <--> 36 <--> 85 <--> 12 <--> "
      ]
     },
     "execution_count": 129,
     "metadata": {},
     "output_type": "execute_result"
    }
   ],
   "source": [
    "dd = Problem2(1)\n",
    "dd.append(65)\n",
    "dd.append(36)\n",
    "dd.append(85)\n",
    "dd.append(12)\n",
    "dd"
   ]
  },
  {
   "cell_type": "code",
   "execution_count": 130,
   "metadata": {},
   "outputs": [
    {
     "data": {
      "text/plain": [
       "12 <--> 85 <--> 36 <--> 65 <--> 1 <--> "
      ]
     },
     "execution_count": 130,
     "metadata": {},
     "output_type": "execute_result"
    }
   ],
   "source": [
    "dd.reverse()\n",
    "dd"
   ]
  },
  {
   "cell_type": "code",
   "execution_count": null,
   "metadata": {},
   "outputs": [],
   "source": []
  },
  {
   "cell_type": "code",
   "execution_count": null,
   "metadata": {},
   "outputs": [],
   "source": []
  },
  {
   "cell_type": "code",
   "execution_count": null,
   "metadata": {},
   "outputs": [],
   "source": []
  },
  {
   "cell_type": "code",
   "execution_count": null,
   "metadata": {},
   "outputs": [],
   "source": []
  }
 ],
 "metadata": {
  "kernelspec": {
   "display_name": "Python 3",
   "language": "python",
   "name": "python3"
  },
  "language_info": {
   "codemirror_mode": {
    "name": "ipython",
    "version": 3
   },
   "file_extension": ".py",
   "mimetype": "text/x-python",
   "name": "python",
   "nbconvert_exporter": "python",
   "pygments_lexer": "ipython3",
   "version": "3.11.3"
  }
 },
 "nbformat": 4,
 "nbformat_minor": 2
}
