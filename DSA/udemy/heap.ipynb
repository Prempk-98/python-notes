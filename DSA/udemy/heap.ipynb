{
 "cells": [
  {
   "cell_type": "markdown",
   "metadata": {},
   "source": [
    "## [Heap](https://www.programiz.com/dsa/heap-data-structure) \n",
    "\n",
    "[Heap vs Tree](https://www.geeksforgeeks.org/comparison-between-heap-and-tree/)"
   ]
  },
  {
   "cell_type": "markdown",
   "metadata": {},
   "source": [
    "### Maxheap"
   ]
  },
  {
   "cell_type": "code",
   "execution_count": 66,
   "metadata": {},
   "outputs": [],
   "source": [
    "class MaxHeap:\n",
    "    def __init__(self):\n",
    "        self.heap = []\n",
    "\n",
    "    def _left_child(self, index):\n",
    "        return (2 * index) + 1\n",
    "    \n",
    "    def _right_child(self, index):\n",
    "        return (2 * index) + 2\n",
    "    \n",
    "    def _parent(self, index):\n",
    "        return (index-1)//2\n",
    "\n",
    "    def _swap(self, index1, index2):\n",
    "        self.heap[index1], self.heap[index2] = self.heap[index2], self.heap[index1]\n",
    "\n",
    "    def insert(self, value):\n",
    "        self.heap.append(value)\n",
    "        current = len(self.heap) - 1\n",
    "\n",
    "        while current > 0 and self.heap[current] > self.heap[self._parent(current)]:\n",
    "            self._swap(current, self._parent(current))\n",
    "            current = self._parent(current)\n",
    "\n",
    "    def remove(self):\n",
    "        if len(self.heap) == 0:\n",
    "            return None\n",
    "\n",
    "        if len(self.heap) == 1:\n",
    "            return self.heap.pop()\n",
    "\n",
    "        max_value = self.heap[0]\n",
    "        self.heap[0] = self.heap.pop()\n",
    "        self._sink_down(0)\n",
    "\n",
    "        return max_value\n",
    "\n",
    "    def _sink_down(self, index):\n",
    "        max_index = index\n",
    "\n",
    "        while True:\n",
    "            left_index = self._left_child(index)\n",
    "            right_index = self._right_child(index)\n",
    "\n",
    "            if (left_index < len(self.heap))  and (self.heap[left_index] > self.heap[max_index]):\n",
    "                max_index = left_index\n",
    "\n",
    "            if (right_index < len(self.heap)) and (self.heap[right_index] > self.heap[max_index]):\n",
    "                max_index = right_index\n",
    "            \n",
    "\n",
    "            if max_index != index:\n",
    "                self._swap(index, max_index)\n",
    "                index = max_index\n",
    "            else:\n",
    "                return"
   ]
  },
  {
   "cell_type": "code",
   "execution_count": 67,
   "metadata": {},
   "outputs": [
    {
     "name": "stdout",
     "output_type": "stream",
     "text": [
      "[99]\n",
      "[99, 72]\n",
      "[99, 72, 61]\n",
      "[99, 72, 61, 58]\n"
     ]
    }
   ],
   "source": [
    "myheap = MaxHeap()\n",
    "myheap.insert(99)\n",
    "print(myheap.heap)\n",
    "myheap.insert(72)\n",
    "print(myheap.heap)\n",
    "myheap.insert(61)\n",
    "print(myheap.heap)\n",
    "myheap.insert(58)\n",
    "print(myheap.heap)"
   ]
  },
  {
   "cell_type": "code",
   "execution_count": 68,
   "metadata": {},
   "outputs": [
    {
     "name": "stdout",
     "output_type": "stream",
     "text": [
      "[100, 99, 61, 58, 72]\n"
     ]
    }
   ],
   "source": [
    "myheap.insert(100)\n",
    "print(myheap.heap)"
   ]
  },
  {
   "cell_type": "code",
   "execution_count": 69,
   "metadata": {},
   "outputs": [
    {
     "name": "stdout",
     "output_type": "stream",
     "text": [
      "[100, 99, 75, 58, 72, 61]\n"
     ]
    }
   ],
   "source": [
    "myheap.insert(75)\n",
    "print(myheap.heap)"
   ]
  },
  {
   "cell_type": "code",
   "execution_count": 70,
   "metadata": {},
   "outputs": [
    {
     "name": "stdout",
     "output_type": "stream",
     "text": [
      "[99, 72, 75, 58, 61]\n"
     ]
    }
   ],
   "source": [
    "myheap.remove()\n",
    "print(myheap.heap)"
   ]
  },
  {
   "cell_type": "code",
   "execution_count": 71,
   "metadata": {},
   "outputs": [
    {
     "name": "stdout",
     "output_type": "stream",
     "text": [
      "[95, 75, 80, 55, 60, 50, 65]\n"
     ]
    }
   ],
   "source": [
    "myheap = MaxHeap()\n",
    "myheap.insert(95)\n",
    "myheap.insert(75)\n",
    "myheap.insert(80)\n",
    "myheap.insert(55)\n",
    "myheap.insert(60)\n",
    "myheap.insert(50)\n",
    "myheap.insert(65)\n",
    "print(myheap.heap)"
   ]
  },
  {
   "cell_type": "code",
   "execution_count": 72,
   "metadata": {},
   "outputs": [
    {
     "name": "stdout",
     "output_type": "stream",
     "text": [
      "[80, 75, 65, 55, 60, 50]\n"
     ]
    }
   ],
   "source": [
    "myheap.remove()\n",
    "print(myheap.heap)"
   ]
  },
  {
   "cell_type": "markdown",
   "metadata": {},
   "source": [
    "### MinHeap"
   ]
  },
  {
   "cell_type": "code",
   "execution_count": null,
   "metadata": {},
   "outputs": [],
   "source": [
    "class MinHeap:\n",
    "    def __init__(self):\n",
    "        self.heap = []\n",
    "\n",
    "    def _left_child(self, index):\n",
    "        return (2 * index) + 1\n",
    "    \n",
    "    def _right_child(self, index):\n",
    "        return (2 * index) + 2\n",
    "    \n",
    "    def _parent(self, index):\n",
    "        return (index-1)//2\n",
    "\n",
    "    def _swap(self, index1, index2):\n",
    "        self.heap[index1], self.heap[index2] = self.heap[index2], self.heap[index1]\n",
    "\n",
    "    def insert(self, value):\n",
    "        self.heap.append(value)\n",
    "        current = len(self.heap) - 1\n",
    "\n",
    "        while current > 0 and self.heap[current] > self.heap[self._parent(current)]:\n",
    "            self._swap(current, self._parent(current))\n",
    "            current = self._parent(current)\n",
    "\n",
    "    def remove(self):\n",
    "        if len(self.heap) == 0:\n",
    "            return None\n",
    "\n",
    "        if len(self.heap) == 1:\n",
    "            return self.heap.pop()\n",
    "\n",
    "        max_value = self.heap[0]\n",
    "        self.heap[0] = self.heap.pop()\n",
    "        self._sink_down(0)\n",
    "\n",
    "        return max_value\n",
    "\n",
    "    def _sink_down(self, index):\n",
    "        max_index = index\n",
    "\n",
    "        while True:\n",
    "            left_index = self._left_child(index)\n",
    "            right_index = self._right_child(index)\n",
    "\n",
    "            if (left_index < len(self.heap))  and (self.heap[left_index] > self.heap[max_index]):\n",
    "                max_index = left_index\n",
    "\n",
    "            if (right_index < len(self.heap)) and (self.heap[right_index] > self.heap[max_index]):\n",
    "                max_index = right_index\n",
    "            \n",
    "\n",
    "            if max_index != index:\n",
    "                self._swap(index, max_index)\n",
    "                index = max_index\n",
    "            else:\n",
    "                return"
   ]
  },
  {
   "cell_type": "code",
   "execution_count": null,
   "metadata": {},
   "outputs": [],
   "source": []
  },
  {
   "cell_type": "markdown",
   "metadata": {},
   "source": [
    "### Problem 1\n",
    "\n",
    "**Heap: Kth Smallest Element in an Array**\n",
    "\n",
    "You are given a list of numbers called nums and a number k.\n",
    "\n",
    "Your task is to write a function find_kth_smallest(nums, k) to find the kth smallest number in the list.\n",
    "\n",
    "The list can contain duplicate numbers and k is guaranteed to be within the range of the length of the list.\n",
    "\n",
    "This function will take the following parameters:\n",
    "\n",
    "nums: A list of integers.\n",
    "\n",
    "k: An integer.\n",
    "\n",
    "\n",
    "This function should return the kth smallest number in nums.\n",
    "\n",
    "<hr />\n",
    "\n",
    "Example 1:\n",
    "\n",
    "nums = [3, 2, 1, 5, 6, 4]\n",
    "k = 2\n",
    "print(find_kth_smallest(nums, k))\n",
    "In the example above, the function should return 2. If we sort the list, it becomes [1, 2, 3, 4, 5, 6]. The 2nd smallest number is 2, so the function returns 2.\n",
    "\n",
    "<hr />\n",
    "\n",
    "Example 2:\n",
    "\n",
    "nums = [3, 2, 3, 1, 2, 4, 5, 5, 6]\n",
    "k = 4\n",
    "print(find_kth_smallest(nums, k))\n",
    "In the example above, the function should return 3. If we sort the list, it becomes [1, 2, 2, 3, 3, 4, 5, 5, 6]. The 4th smallest number is 3, so the function returns 3.\n",
    "\n",
    "Note: For the purpose of this problem, we assume that duplicate numbers are counted as separate numbers. For example, in the second example above, the two 2s are counted as the 2nd and 3rd smallest numbers, and the two 3s are counted as the 4th and 5th smallest numbers.\n",
    "\n",
    "Please write your solution in Python and use a max heap data structure to solve this problem. The MaxHeap class is provided for you.\n",
    "\n",
    "Note: This is a separate function, not a method in the MaxHeap class so you will need to indent all the way to the left.\n",
    "\n"
   ]
  },
  {
   "cell_type": "code",
   "execution_count": 119,
   "metadata": {},
   "outputs": [],
   "source": [
    "class MaxHeap:\n",
    "    def __init__(self):\n",
    "        self.heap = []\n",
    "\n",
    "    def _left_child(self, index):\n",
    "        return (2 * index) + 1\n",
    "\n",
    "    def _right_child(self, index):\n",
    "        return (2 * index) + 2\n",
    "\n",
    "    def _parent(self, index):\n",
    "        return (index - 1) // 2\n",
    "\n",
    "    def _swap(self, index1, index2):\n",
    "        self.heap[index1], self.heap[index2] = self.heap[index2], self.heap[index1]\n",
    "\n",
    "    def insert(self, value):\n",
    "        self.heap.append(value)\n",
    "        current = len(self.heap) - 1\n",
    "\n",
    "        while current > 0 and self.heap[current] > self.heap[self._parent(current)]:\n",
    "            self._swap(current, self._parent(current))\n",
    "            current = self._parent(current)\n",
    "\n",
    "    def _sink_down(self, index):\n",
    "        max_index = index\n",
    "        while True:\n",
    "            left_index = self._left_child(index)\n",
    "            right_index = self._right_child(index)\n",
    "\n",
    "            if (left_index < len(self.heap) and \n",
    "                    self.heap[left_index] > self.heap[max_index]):\n",
    "                max_index = left_index\n",
    "\n",
    "            if (right_index < len(self.heap) and \n",
    "                    self.heap[right_index] > self.heap[max_index]):\n",
    "                max_index = right_index\n",
    "\n",
    "            if max_index != index:\n",
    "                self._swap(index, max_index)\n",
    "                index = max_index\n",
    "            else:\n",
    "                return\n",
    "\n",
    "    def remove(self):\n",
    "        if len(self.heap) == 0:\n",
    "            return None\n",
    "\n",
    "        if len(self.heap) == 1:\n",
    "            return self.heap.pop()\n",
    "\n",
    "        max_value = self.heap[0]\n",
    "        self.heap[0] = self.heap.pop()\n",
    "        self._sink_down(0)\n",
    "\n",
    "        return max_value\n",
    "\n",
    "\n",
    "\n",
    "def find_kth_smallest(num_list, k):\n",
    "    myHeap = MaxHeap()\n",
    "    for num in num_list:\n",
    "        myHeap.insert(num)\n",
    "\n",
    "        if len(myHeap.heap) > k:\n",
    "            myHeap.remove()\n",
    "\n",
    "    return myHeap.remove()\n",
    "\n",
    "def stream_max(nums):\n",
    "    output = []\n",
    "    myHeap = MaxHeap()\n",
    "\n",
    "    for i in nums:\n",
    "        myHeap.insert(i)\n",
    "        max_Val = myHeap.heap[0]\n",
    "        output.append(max_Val)\n",
    "\n",
    "    return output\n",
    "\n",
    "\n"
   ]
  },
  {
   "cell_type": "code",
   "execution_count": 121,
   "metadata": {},
   "outputs": [
    {
     "data": {
      "text/plain": [
       "[7, 7, 7, 7, 7]"
      ]
     },
     "execution_count": 121,
     "metadata": {},
     "output_type": "execute_result"
    }
   ],
   "source": [
    "stream_max([7, 2, 4, 6, 1])"
   ]
  },
  {
   "cell_type": "code",
   "execution_count": 113,
   "metadata": {},
   "outputs": [
    {
     "name": "stdout",
     "output_type": "stream",
     "text": [
      "Test case 1...\n",
      "Input: [3, 2, 1, 5, 6, 4] with k = 2\n",
      "Output: 2\n",
      "Expected output: 2\n",
      "Test passed: True\n",
      "---------------------------------------\n",
      "Test case 2...\n",
      "Input: [6, 5, 4, 3, 2, 1] with k = 3\n",
      "Output: 3\n",
      "Expected output: 3\n",
      "Test passed: True\n",
      "---------------------------------------\n",
      "Test case 3...\n",
      "Input: [1, 2, 3, 4, 5, 6] with k = 4\n",
      "Output: 4\n",
      "Expected output: 4\n",
      "Test passed: True\n",
      "---------------------------------------\n",
      "Test case 4...\n",
      "Input: [3, 2, 3, 1, 2, 4, 5, 5, 6] with k = 7\n",
      "Output: 5\n",
      "Expected output: 5\n",
      "Test passed: True\n",
      "---------------------------------------\n"
     ]
    }
   ],
   "source": [
    "# Problem 1\n",
    "# Test cases\n",
    "nums = [[3,2,1,5,6,4], [6,5,4,3,2,1], [1,2,3,4,5,6], [3,2,3,1,2,4,5,5,6]]\n",
    "ks = [2, 3, 4, 7]\n",
    "expected_outputs = [2, 3, 4, 5]\n",
    "\n",
    "for i in range(len(nums)):\n",
    "    print(f'Test case {i+1}...')\n",
    "    print(f'Input: {nums[i]} with k = {ks[i]}')\n",
    "    result = find_kth_smallest(nums[i], ks[i])\n",
    "    print(f'Output: {result}')\n",
    "    print(f'Expected output: {expected_outputs[i]}')\n",
    "    print(f'Test passed: {result == expected_outputs[i]}')\n",
    "    print('---------------------------------------')"
   ]
  },
  {
   "cell_type": "code",
   "execution_count": 122,
   "metadata": {},
   "outputs": [
    {
     "name": "stdout",
     "output_type": "stream",
     "text": [
      "\n",
      "Test 1\n",
      "Input: []\n",
      "Expected Output: []\n",
      "Actual Output: []\n",
      "Status: Passed\n",
      "\n",
      "Test 2\n",
      "Input: [1]\n",
      "Expected Output: [1]\n",
      "Actual Output: [1]\n",
      "Status: Passed\n",
      "\n",
      "Test 3\n",
      "Input: [1, 2, 3, 4, 5]\n",
      "Expected Output: [1, 2, 3, 4, 5]\n",
      "Actual Output: [1, 2, 3, 4, 5]\n",
      "Status: Passed\n",
      "\n",
      "Test 4\n",
      "Input: [1, 2, 2, 1, 3, 3, 3, 2, 2]\n",
      "Expected Output: [1, 2, 2, 2, 3, 3, 3, 3, 3]\n",
      "Actual Output: [1, 2, 2, 2, 3, 3, 3, 3, 3]\n",
      "Status: Passed\n",
      "\n",
      "Test 5\n",
      "Input: [-1, -2, -3, -4, -5]\n",
      "Expected Output: [-1, -1, -1, -1, -1]\n",
      "Actual Output: [-1, -1, -1, -1, -1]\n",
      "Status: Passed\n"
     ]
    }
   ],
   "source": [
    "#Problem 2\n",
    "test_cases = [\n",
    "    ([], []),\n",
    "    ([1], [1]),\n",
    "    ([1, 2, 3, 4, 5], [1, 2, 3, 4, 5]),\n",
    "    ([1, 2, 2, 1, 3, 3, 3, 2, 2], [1, 2, 2, 2, 3, 3, 3, 3, 3]),\n",
    "    ([-1, -2, -3, -4, -5], [-1, -1, -1, -1, -1])\n",
    "]\n",
    "\n",
    "for i, (nums, expected) in enumerate(test_cases):\n",
    "    result = stream_max(nums)\n",
    "    print(f'\\nTest {i+1}')\n",
    "    print(f'Input: {nums}')\n",
    "    print(f'Expected Output: {expected}')\n",
    "    print(f'Actual Output: {result}')\n",
    "    if result == expected:\n",
    "        print('Status: Passed')\n",
    "    else:\n",
    "        print('Status: Failed')"
   ]
  },
  {
   "cell_type": "code",
   "execution_count": null,
   "metadata": {},
   "outputs": [],
   "source": []
  },
  {
   "cell_type": "code",
   "execution_count": null,
   "metadata": {},
   "outputs": [],
   "source": []
  },
  {
   "cell_type": "code",
   "execution_count": null,
   "metadata": {},
   "outputs": [],
   "source": []
  },
  {
   "cell_type": "code",
   "execution_count": null,
   "metadata": {},
   "outputs": [],
   "source": []
  }
 ],
 "metadata": {
  "kernelspec": {
   "display_name": "Python 3",
   "language": "python",
   "name": "python3"
  },
  "language_info": {
   "codemirror_mode": {
    "name": "ipython",
    "version": 3
   },
   "file_extension": ".py",
   "mimetype": "text/x-python",
   "name": "python",
   "nbconvert_exporter": "python",
   "pygments_lexer": "ipython3",
   "version": "3.11.3"
  }
 },
 "nbformat": 4,
 "nbformat_minor": 2
}
