{
 "cells": [
  {
   "cell_type": "markdown",
   "metadata": {},
   "source": [
    "## Linked List\n",
    "\n",
    "1. It is `linear` data structure\n",
    "2. \n",
    "3. Collection of Nodes\n",
    "   1. Store `data` and `address`\n",
    "4. Works simillarliy to dict i.e, mutuable data structure\n",
    "5. Can be used instead of Arrays\n",
    "\n",
    "### Array vs Linkend List\n",
    "\n",
    "| Operation | Array | LL |\n",
    "|----------|----------|----------|\n",
    "| Write(insert, delete) | O(n) | O(1) |\n",
    "| Read | O(1) | O(n) |\n",
    "| Untutilised Memory | More | Nil |\n",
    "| Can be used in other DS | No | Yes (Stack, Queue, Double LL) |\n",
    "| Memory Location | Continous | Non-continous |\n",
    "\n",
    "<br>\n",
    "\n",
    "> Note\n",
    "> For **Read** heavy operation use `Array` and for **Write** heavy operation use `Linked List`\n",
    "\n",
    "\n",
    "#### 4 operations in LL\n",
    "\n",
    "1. Insert\n",
    "   1. head\n",
    "   2. tail (append)\n",
    "   3. middle (insert)\n",
    "2. Traverse\n",
    "   1. print\n",
    "3. Delete\n",
    "   1. head\n",
    "   2. tail (pop)\n",
    "   3. value (remove)\n",
    "   4. index\n",
    "4. Search\n",
    "   1. value\n",
    "   2. index\n"
   ]
  },
  {
   "cell_type": "code",
   "execution_count": 1,
   "metadata": {},
   "outputs": [],
   "source": [
    "class Node:\n",
    "    def __init__(self, value):\n",
    "        self.data = value\n",
    "        self.next = None"
   ]
  },
  {
   "cell_type": "code",
   "execution_count": 100,
   "metadata": {},
   "outputs": [],
   "source": [
    "class LinkedList:\n",
    "    def __init__(self):\n",
    "        self.head = None\n",
    "        self.n = 0\n",
    "\n",
    "    def __len__(self):\n",
    "        return self.n\n",
    "    \n",
    "    def __str__(self):\n",
    "\n",
    "        curr = self.head\n",
    "\n",
    "        result = ''\n",
    "\n",
    "        while curr != None:\n",
    "            result+=str(curr.data) + ' -> '\n",
    "            curr = curr.next\n",
    "    \n",
    "        return result\n",
    "    \n",
    "    def insert_head(self, value):\n",
    "        new_node = Node(value)\n",
    "        new_node.next = self.head\n",
    "        self.head = new_node\n",
    "        self.n += 1\n",
    "\n",
    "    def insert_tail(self, value):\n",
    "        if self.head == None:\n",
    "\n",
    "            self.insert_head(value)\n",
    "\n",
    "            return\n",
    "        \n",
    "        new_node = Node(value)\n",
    "\n",
    "        curr = self.head\n",
    "\n",
    "        while curr.next != None:\n",
    "            curr = curr.next\n",
    "\n",
    "        curr.next = new_node\n",
    "        self.n += 1\n",
    "\n",
    "    def insert_after_index(self, pos, value):\n",
    "        new_node = Node(value)\n",
    "\n",
    "        curr_pos = 0\n",
    "        curr_node = self.head\n",
    "\n",
    "        while curr_pos != pos:\n",
    "            curr_node = curr_node.next\n",
    "            curr_pos += 1\n",
    "\n",
    "        nxt_node = curr_node.next\n",
    "        curr_node.next = new_node\n",
    "        new_node.next = nxt_node\n",
    "\n",
    "        self.n += 1\n",
    "\n",
    "    def insert_after_value(self, after, value):\n",
    "        new_node = Node(value)\n",
    "\n",
    "        curr_node = self.head\n",
    "\n",
    "        while curr_node!=None:\n",
    "            if curr_node.data == after:\n",
    "                break\n",
    "\n",
    "            curr_node = curr_node.next\n",
    "\n",
    "        if curr_node == None:\n",
    "            return f'Value {after} not Found'\n",
    "        else:\n",
    "            new_node.next = curr_node.next\n",
    "            curr_node.next = new_node\n",
    "\n",
    "        self.n += 1\n",
    "\n",
    "    def clear(self):\n",
    "        self.head = None\n",
    "        self.n = 0\n",
    "\n",
    "    def delete_from_head(self):\n",
    "        self.head = self.head.next\n",
    "\n",
    "        self.n -= 1\n",
    "\n",
    "    def delete_from_tail(self):\n",
    "        curr = self.head\n",
    "        prev = None\n",
    "\n",
    "        while curr.next!= None:\n",
    "            prev = curr\n",
    "            if curr.next == None:\n",
    "                break\n",
    "            curr = curr.next\n",
    "\n",
    "        prev.next = None\n",
    "        self.n -= 1\n",
    "\n",
    "    def delete_value(self, value):\n",
    "\n",
    "        if self.head.data == value:\n",
    "            return self.delete_from_head()\n",
    "        \n",
    "        curr = self.head\n",
    "\n",
    "        while curr.next.data != value:\n",
    "            curr = curr.next\n",
    "\n",
    "        curr.next = curr.next.next\n",
    "        self.n -= 1\n",
    "        "
   ]
  },
  {
   "cell_type": "code",
   "execution_count": 101,
   "metadata": {},
   "outputs": [],
   "source": [
    "ll = LinkedList()\n",
    "\n",
    "# insert at head\n",
    "ll.insert_head(25)\n",
    "ll.insert_head(55)\n",
    "ll.insert_head(15)\n",
    "\n",
    "# inster at tail\n",
    "ll.insert_tail(65)\n",
    "ll.insert_head(45)\n",
    "ll.insert_tail(5)\n",
    "\n",
    "# inster after index\n",
    "ll.insert_after_index(2, 76)\n",
    "\n",
    "# insert after value\n",
    "ll.insert_after_value(55, 96)"
   ]
  },
  {
   "cell_type": "code",
   "execution_count": 87,
   "metadata": {},
   "outputs": [
    {
     "name": "stdout",
     "output_type": "stream",
     "text": [
      "45 -> 15 -> 55 -> 96 -> 76 -> 25 -> \n",
      "45 -> 15 -> 55 -> 96 -> 76 -> \n"
     ]
    }
   ],
   "source": [
    "print(ll)\n",
    "ll.delete_from_tail()\n",
    "print(ll)"
   ]
  },
  {
   "cell_type": "code",
   "execution_count": 102,
   "metadata": {},
   "outputs": [
    {
     "name": "stdout",
     "output_type": "stream",
     "text": [
      "45 -> 15 -> 55 -> 96 -> 76 -> 25 -> 65 -> 5 -> \n",
      "15 -> 55 -> 96 -> 76 -> 25 -> 65 -> 5 -> \n"
     ]
    }
   ],
   "source": [
    "print(ll)\n",
    "ll.delete_value(45)\n",
    "print(ll)"
   ]
  },
  {
   "cell_type": "code",
   "execution_count": 54,
   "metadata": {},
   "outputs": [],
   "source": [
    "ll.delete_from_head()"
   ]
  },
  {
   "cell_type": "code",
   "execution_count": 55,
   "metadata": {},
   "outputs": [
    {
     "name": "stdout",
     "output_type": "stream",
     "text": [
      "96 -> 76 -> 25 -> 65 -> 5 -> \n"
     ]
    }
   ],
   "source": [
    "print(ll)"
   ]
  },
  {
   "cell_type": "markdown",
   "metadata": {},
   "source": [
    "#### Examples"
   ]
  },
  {
   "cell_type": "markdown",
   "metadata": {},
   "source": [
    "##### 1 What is the output of this function?\n",
    "\n",
    "```python\n",
    "def fun(head):\n",
    "    if head==None:\n",
    "        return\n",
    "    \n",
    "    if head.next.next != None:\n",
    "        print(head.data, '', end='')\n",
    "        fun(head.next)\n",
    "\n",
    "    print(head.data, '', end='')\n",
    "```"
   ]
  },
  {
   "cell_type": "code",
   "execution_count": 107,
   "metadata": {},
   "outputs": [],
   "source": [
    "def fun(head):\n",
    "    if head==None:\n",
    "        return\n",
    "    \n",
    "    if head.next.next != None:\n",
    "        print(head.data, '', end='')\n",
    "        fun(head.next)\n",
    "\n",
    "    print(head.data, '', end='')"
   ]
  },
  {
   "cell_type": "code",
   "execution_count": 104,
   "metadata": {},
   "outputs": [],
   "source": [
    "ll = LinkedList()\n",
    "ll.insert_head(1)\n",
    "ll.insert_tail(2)\n",
    "ll.insert_tail(3)\n",
    "ll.insert_tail(4)\n",
    "ll.insert_tail(5)"
   ]
  },
  {
   "cell_type": "code",
   "execution_count": 105,
   "metadata": {},
   "outputs": [
    {
     "name": "stdout",
     "output_type": "stream",
     "text": [
      "1 -> 2 -> 3 -> 4 -> 5 -> \n"
     ]
    }
   ],
   "source": [
    "print(ll)"
   ]
  },
  {
   "cell_type": "code",
   "execution_count": 109,
   "metadata": {},
   "outputs": [
    {
     "name": "stdout",
     "output_type": "stream",
     "text": [
      "1 2 3 4 3 2 1 "
     ]
    }
   ],
   "source": [
    "fun(ll.head)"
   ]
  },
  {
   "cell_type": "markdown",
   "metadata": {},
   "source": [
    "##### 2 Find the sum of odd placed values"
   ]
  },
  {
   "cell_type": "code",
   "execution_count": 137,
   "metadata": {},
   "outputs": [],
   "source": [
    "class Problem2(LinkedList):\n",
    "    def __init__(self):\n",
    "        super().__init__()\n",
    "\n",
    "    def sum_odd(self):\n",
    "        curr = self.head\n",
    "        odd_sum = 0\n",
    "        curr_index = 0\n",
    "\n",
    "        while curr != None:\n",
    "            if curr_index % 2 != 0:\n",
    "                odd_sum += curr.data\n",
    "            curr_index += 1\n",
    "            curr = curr.next\n",
    "\n",
    "        return odd_sum\n"
   ]
  },
  {
   "cell_type": "code",
   "execution_count": 138,
   "metadata": {},
   "outputs": [],
   "source": [
    "ll = Problem2()\n",
    "ll.insert_head(5)\n",
    "ll.insert_tail(9)\n",
    "ll.insert_tail(15)\n",
    "ll.insert_tail(35)\n",
    "ll.insert_tail(2)\n",
    "ll.insert_tail(6)\n",
    "\n",
    "print(ll)"
   ]
  },
  {
   "cell_type": "code",
   "execution_count": 131,
   "metadata": {},
   "outputs": [
    {
     "data": {
      "text/plain": [
       "50"
      ]
     },
     "execution_count": 131,
     "metadata": {},
     "output_type": "execute_result"
    }
   ],
   "source": [
    "ll.sum_odd()"
   ]
  },
  {
   "cell_type": "code",
   "execution_count": 118,
   "metadata": {},
   "outputs": [
    {
     "data": {
      "text/plain": [
       "0"
      ]
     },
     "execution_count": 118,
     "metadata": {},
     "output_type": "execute_result"
    }
   ],
   "source": [
    "0%2"
   ]
  },
  {
   "cell_type": "markdown",
   "metadata": {},
   "source": [
    "##### 3 Reverse a linked list containing integer data"
   ]
  },
  {
   "cell_type": "code",
   "execution_count": 145,
   "metadata": {},
   "outputs": [],
   "source": [
    "class Problem3(LinkedList):\n",
    "    def __init__(self):\n",
    "        super().__init__()\n",
    "\n",
    "    def reverse(self):\n",
    "        prev_node = None\n",
    "        curr_node = self.head\n",
    "\n",
    "        while curr_node != None:\n",
    "            next_node = curr_node.next\n",
    "            curr_node.next = prev_node\n",
    "            prev_node = curr_node\n",
    "            curr_node = next_node\n",
    "\n",
    "        self.head = prev_node"
   ]
  },
  {
   "cell_type": "code",
   "execution_count": 146,
   "metadata": {},
   "outputs": [
    {
     "name": "stdout",
     "output_type": "stream",
     "text": [
      "5 -> 9 -> 15 -> 35 -> 2 -> 6 -> \n"
     ]
    }
   ],
   "source": [
    "ll = Problem3()\n",
    "ll.insert_head(5)\n",
    "ll.insert_tail(9)\n",
    "ll.insert_tail(15)\n",
    "ll.insert_tail(35)\n",
    "ll.insert_tail(2)\n",
    "ll.insert_tail(6)\n",
    "\n",
    "print(ll)"
   ]
  },
  {
   "cell_type": "code",
   "execution_count": 147,
   "metadata": {},
   "outputs": [
    {
     "name": "stdout",
     "output_type": "stream",
     "text": [
      "5\n",
      "9\n",
      "15\n",
      "35\n",
      "2\n",
      "6\n"
     ]
    }
   ],
   "source": [
    "ll.reverse()"
   ]
  },
  {
   "cell_type": "code",
   "execution_count": 144,
   "metadata": {},
   "outputs": [
    {
     "name": "stdout",
     "output_type": "stream",
     "text": [
      "6 -> 2 -> 35 -> 15 -> 9 -> 5 -> \n"
     ]
    }
   ],
   "source": [
    "print(ll)"
   ]
  },
  {
   "cell_type": "markdown",
   "metadata": {},
   "source": [
    "#### 4 Given linked list of characters. Write function to return a new string that is created by appending all the characters given in the linked list as per the rules below\n",
    "\n",
    "1. Replace `*` or `/` by single space\n",
    "2. Replace double `*` or `/` by single space and next character by Upper Case\n",
    "\n",
    "> A,n,\\*,/,a,p,p,l,e,*,a,/,d,a,y,*,*,k,e,e,p,s,/,\\*,a,/,/,d,o,c,t,o,r,\\*,A,w,a,y"
   ]
  },
  {
   "cell_type": "code",
   "execution_count": 165,
   "metadata": {},
   "outputs": [],
   "source": [
    "class Problem4(LinkedList):\n",
    "    def __init__(self):\n",
    "        super().__init__()\n",
    "\n",
    "    def __str__(self):\n",
    "\n",
    "        curr = self.head\n",
    "\n",
    "        result = ''\n",
    "\n",
    "        while curr != None:\n",
    "            result+=str(curr.data)\n",
    "            curr = curr.next\n",
    "    \n",
    "        return result\n",
    "\n",
    "    def clean(self):\n",
    "        curr = self.head\n",
    "\n",
    "        char = ['*', '/']\n",
    "\n",
    "        while curr != None:\n",
    "            if curr.data in char and curr.next.data in char:\n",
    "                curr.data = ''\n",
    "                curr.next.next.data = str(curr.next.next.data).upper()\n",
    "            elif curr.data in char:\n",
    "                curr.data = ' '\n",
    "\n",
    "            curr = curr.next\n"
   ]
  },
  {
   "cell_type": "code",
   "execution_count": 166,
   "metadata": {},
   "outputs": [
    {
     "name": "stdout",
     "output_type": "stream",
     "text": [
      "An*/apple*a/day**keeps/*a//doctor*Away\n",
      "An Apple a day Keeps A Doctor Away\n"
     ]
    }
   ],
   "source": [
    "ll = Problem4()\n",
    "ll.insert_head('A')\n",
    "\n",
    "strings = ['n','*','/','a','p','p','l','e','*','a','/','d','a','y','*','*','k','e','e','p','s','/','*','a','/','/','d','o','c','t','o','r','*','A','w','a','y']\n",
    "\n",
    "for i in strings:\n",
    "    ll.insert_tail(i)\n",
    "\n",
    "print(ll)\n",
    "\n",
    "ll.clean()\n",
    "\n",
    "print(ll)"
   ]
  },
  {
   "cell_type": "markdown",
   "metadata": {},
   "source": [
    "#### 5 Remove Duplicates\n",
    "\n",
    "**Input:**\n",
    "\n",
    "LinkedList: 1 -> 2 -> 3 -> 1 -> 4 -> 2 -> 5\n",
    "\n",
    "**Output:**\n",
    "\n",
    "LinkedList: 1 -> 2 -> 3 -> 4 -> 5"
   ]
  },
  {
   "cell_type": "code",
   "execution_count": 173,
   "metadata": {},
   "outputs": [],
   "source": [
    "class Problem5(LinkedList):\n",
    "    def __init__(self):\n",
    "        super().__init__()\n",
    "\n",
    "    def remove_duplicate(self):\n",
    "        curr, prev = self.head, self.head\n",
    "\n",
    "        unique_list = []\n",
    "\n",
    "        while curr != None:\n",
    "\n",
    "            if curr.data in unique_list:\n",
    "                prev.next = curr.next\n",
    "            else:\n",
    "                unique_list.append(curr.data)\n",
    "                prev = curr\n",
    "\n",
    "            curr = curr.next\n"
   ]
  },
  {
   "cell_type": "code",
   "execution_count": 174,
   "metadata": {},
   "outputs": [
    {
     "name": "stdout",
     "output_type": "stream",
     "text": [
      "1 -> 2 -> 3 -> 1 -> 4 -> 2 -> 5 -> \n"
     ]
    }
   ],
   "source": [
    "ll = Problem5()\n",
    "ll.insert_head(1)\n",
    "ll.insert_tail(2)\n",
    "ll.insert_tail(3)\n",
    "ll.insert_tail(1)\n",
    "ll.insert_tail(4)\n",
    "ll.insert_tail(2)\n",
    "ll.insert_tail(5)\n",
    "\n",
    "print(ll)"
   ]
  },
  {
   "cell_type": "code",
   "execution_count": 175,
   "metadata": {},
   "outputs": [
    {
     "name": "stdout",
     "output_type": "stream",
     "text": [
      "1 -> 2 -> 3 -> 4 -> 5 -> \n"
     ]
    }
   ],
   "source": [
    "ll.remove_duplicate()\n",
    "print(ll)"
   ]
  },
  {
   "cell_type": "markdown",
   "metadata": {},
   "source": [
    "#### 6 Binary to decimal"
   ]
  },
  {
   "cell_type": "code",
   "execution_count": 204,
   "metadata": {},
   "outputs": [],
   "source": [
    "class Problem6(LinkedList):\n",
    "    def __init__(self):\n",
    "        super().__init__()\n",
    "\n",
    "    def binary_to_decimal(self):\n",
    "        powr = self.n -1\n",
    "        sum = 0\n",
    "\n",
    "        curr = self.head\n",
    "        while curr != None:\n",
    "            sum+=curr.data*pow(2, powr)\n",
    "            print(curr.data, (2,powr))\n",
    "            powr-=1\n",
    "            curr = curr.next\n",
    "\n",
    "        return sum\n",
    "\n"
   ]
  },
  {
   "cell_type": "code",
   "execution_count": 205,
   "metadata": {},
   "outputs": [
    {
     "name": "stdout",
     "output_type": "stream",
     "text": [
      "1 -> 1 -> 0 -> 1 -> \n"
     ]
    }
   ],
   "source": [
    "ll = Problem6()\n",
    "ll.insert_head(1)\n",
    "ll.insert_tail(1)\n",
    "ll.insert_tail(0)\n",
    "ll.insert_tail(1)\n",
    "# ll.insert_tail(0)\n",
    "\n",
    "print(ll)"
   ]
  },
  {
   "cell_type": "code",
   "execution_count": 206,
   "metadata": {},
   "outputs": [
    {
     "name": "stdout",
     "output_type": "stream",
     "text": [
      "1 (2, 3)\n",
      "1 (2, 2)\n",
      "0 (2, 1)\n",
      "1 (2, 0)\n"
     ]
    },
    {
     "data": {
      "text/plain": [
       "13"
      ]
     },
     "execution_count": 206,
     "metadata": {},
     "output_type": "execute_result"
    }
   ],
   "source": [
    "ll.binary_to_decimal()"
   ]
  },
  {
   "cell_type": "code",
   "execution_count": null,
   "metadata": {},
   "outputs": [],
   "source": []
  },
  {
   "cell_type": "code",
   "execution_count": null,
   "metadata": {},
   "outputs": [],
   "source": []
  },
  {
   "cell_type": "code",
   "execution_count": null,
   "metadata": {},
   "outputs": [],
   "source": []
  },
  {
   "cell_type": "code",
   "execution_count": null,
   "metadata": {},
   "outputs": [],
   "source": []
  },
  {
   "cell_type": "code",
   "execution_count": null,
   "metadata": {},
   "outputs": [],
   "source": []
  },
  {
   "cell_type": "code",
   "execution_count": null,
   "metadata": {},
   "outputs": [],
   "source": []
  },
  {
   "cell_type": "code",
   "execution_count": null,
   "metadata": {},
   "outputs": [],
   "source": []
  },
  {
   "cell_type": "code",
   "execution_count": null,
   "metadata": {},
   "outputs": [],
   "source": []
  }
 ],
 "metadata": {
  "kernelspec": {
   "display_name": "Python 3",
   "language": "python",
   "name": "python3"
  },
  "language_info": {
   "codemirror_mode": {
    "name": "ipython",
    "version": 3
   },
   "file_extension": ".py",
   "mimetype": "text/x-python",
   "name": "python",
   "nbconvert_exporter": "python",
   "pygments_lexer": "ipython3",
   "version": "3.11.3"
  }
 },
 "nbformat": 4,
 "nbformat_minor": 2
}
