{
 "cells": [
  {
   "cell_type": "markdown",
   "metadata": {},
   "source": [
    "### Linked List\n",
    "\n",
    "1. It is `linear` data structure\n",
    "2. Consists of Node\n",
    "   1. Store `data` and `address`\n",
    "3. Works simillarliy to dict i.e, mutuable data structure\n",
    "4. Can be used instead of Arrays\n",
    "\n",
    "| Operation | Array | LL |\n",
    "|----------|----------|----------|\n",
    "| Write(insert, delete) | O(n) | O(1) |\n",
    "| Read | O(1) | O(n) |\n",
    "| Untutilised Memory | More | Nil |\n",
    "| Can be used in other DS | No | Yes (Stack, Queue, Double LL) |\n",
    "\n",
    "<br>\n",
    "\n",
    "> Note\n",
    "> For **Read** heavy operation use `Array` and for **Write** heavy operation use `Linked List`\n"
   ]
  },
  {
   "cell_type": "code",
   "execution_count": null,
   "metadata": {},
   "outputs": [],
   "source": []
  },
  {
   "cell_type": "code",
   "execution_count": null,
   "metadata": {},
   "outputs": [],
   "source": []
  },
  {
   "cell_type": "code",
   "execution_count": null,
   "metadata": {},
   "outputs": [],
   "source": []
  },
  {
   "cell_type": "code",
   "execution_count": null,
   "metadata": {},
   "outputs": [],
   "source": []
  },
  {
   "cell_type": "code",
   "execution_count": null,
   "metadata": {},
   "outputs": [],
   "source": []
  }
 ],
 "metadata": {
  "language_info": {
   "name": "python"
  }
 },
 "nbformat": 4,
 "nbformat_minor": 2
}
