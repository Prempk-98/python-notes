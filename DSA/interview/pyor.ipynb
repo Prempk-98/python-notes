{
 "cells": [
  {
   "cell_type": "markdown",
   "metadata": {},
   "source": [
    "### Design LRU Cache\n",
    "\n",
    "1. [Resource 1](https://www.youtube.com/watch?v=7ABFKPK2hD4)\n",
    "2. [Resource 2]()"
   ]
  },
  {
   "cell_type": "code",
   "execution_count": 33,
   "metadata": {},
   "outputs": [
    {
     "name": "stdout",
     "output_type": "stream",
     "text": [
      "-> 0 -> 4 -> 3 -> 0 "
     ]
    },
    {
     "ename": "",
     "evalue": "",
     "output_type": "error",
     "traceback": [
      "\u001b[1;31mThe Kernel crashed while executing code in the current cell or a previous cell. \n",
      "\u001b[1;31mPlease review the code in the cell(s) to identify a possible cause of the failure. \n",
      "\u001b[1;31mClick <a href='https://aka.ms/vscodeJupyterKernelCrash'>here</a> for more info. \n",
      "\u001b[1;31mView Jupyter <a href='command:jupyter.viewOutput'>log</a> for further details."
     ]
    }
   ],
   "source": [
    "class Node:\n",
    "    def __init__(self, key, val):\n",
    "        self.next = None\n",
    "        self.prev = None\n",
    "        self.key = key\n",
    "        self.val = val\n",
    "\n",
    "class LRUCache:\n",
    "    def __init__(self, capacity):\n",
    "        self.capacity = capacity\n",
    "        self.cache = {}\n",
    "\n",
    "        # left is LRU right is MRU\n",
    "        self.head = Node(0,0)\n",
    "        self.tail = Node(0,0)\n",
    "        self.head.next, self.tail.prev = self.tail, self.head\n",
    "\n",
    "    # remove from left\n",
    "    def remove(self, node):\n",
    "        prev, next = node.prev, node.next\n",
    "        prev.next, next.prev = next, prev\n",
    "\n",
    "    # insert to right\n",
    "    def insert(self, node):\n",
    "        self.head.next.prev = node\n",
    "        node.next, node.prev = self.head.next, self.head\n",
    "        self.head.next = node\n",
    "\n",
    "    def get(self, key):\n",
    "        if key in self.cache:\n",
    "            self.remove(self.cache[key])\n",
    "            self.insert(self.cache[key])\n",
    "            return self.cache[key].val\n",
    "        return -1\n",
    "    \n",
    "    def put(self, key, val):\n",
    "        if key in self.cache:\n",
    "            self.remove(self.cache[key])\n",
    "\n",
    "        self.cache[key] = Node(key, val)\n",
    "        self.insert(self.cache[key])\n",
    "\n",
    "        if len(self.cache) > self.capacity:\n",
    "            lru = self.tail.prev\n",
    "            self.remove(lru)\n",
    "            del self.cache[lru.key]\n",
    "\n",
    "    def print(self):\n",
    "        temp = self.head\n",
    "\n",
    "        while temp:\n",
    "            print(\"->\", temp.val, end = \" \")\n",
    "            temp = temp.next\n",
    "\n",
    "lru = LRUCache(2)\n",
    "lru.put(1,1)\n",
    "lru.put(2,2)\n",
    "lru.get(1)\n",
    "lru.put(3,3)\n",
    "lru.get(2)\n",
    "lru.put(4,4)\n",
    "lru.print()\n"
   ]
  },
  {
   "cell_type": "markdown",
   "metadata": {},
   "source": []
  },
  {
   "cell_type": "code",
   "execution_count": null,
   "metadata": {},
   "outputs": [],
   "source": []
  },
  {
   "cell_type": "code",
   "execution_count": null,
   "metadata": {},
   "outputs": [],
   "source": []
  }
 ],
 "metadata": {
  "kernelspec": {
   "display_name": "Python 3",
   "language": "python",
   "name": "python3"
  },
  "language_info": {
   "codemirror_mode": {
    "name": "ipython",
    "version": 3
   },
   "file_extension": ".py",
   "mimetype": "text/x-python",
   "name": "python",
   "nbconvert_exporter": "python",
   "pygments_lexer": "ipython3",
   "version": "3.11.3"
  }
 },
 "nbformat": 4,
 "nbformat_minor": 2
}
