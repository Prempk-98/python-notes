{
 "cells": [
  {
   "cell_type": "markdown",
   "metadata": {},
   "source": [
    "## Iterator\n",
    "\n",
    "It is a protocol\n",
    "\n",
    "A class to be iterator must include the below 2 methods:\n",
    "1. `__iter__` -> returns the object itself\n",
    "2. `__next__` -> should raise the StopIteration exception\n",
    "\n",
    "## Iterable\n",
    "\n",
    "Is a collection\n",
    "\n",
    "A class must contain `__iter__` method\n",
    "\n",
    "When iterable is called it returns new iterator so it can be looped many times,\n",
    "whereas the iterator when called returns itself, so can be called only one.\n",
    "\n",
    "list -> iterable\n",
    "with open() -> iterator\n",
    "zip -> iterator"
   ]
  },
  {
   "cell_type": "code",
   "execution_count": 9,
   "metadata": {},
   "outputs": [],
   "source": [
    "class Cities:\n",
    "    def __init__(self):\n",
    "        self.index_ = 0\n",
    "        self.cities = ['India', 'Mandya']\n",
    "\n",
    "    def __next__(self):\n",
    "        if self.index_ > len(self.cities):\n",
    "            raise StopIteration\n",
    "        else:\n",
    "            result = self.cities[self.index_]\n",
    "            self.index_+=1\n",
    "            return result\n",
    "        \n",
    "    def __iter__(self):\n",
    "        return self\n"
   ]
  },
  {
   "cell_type": "code",
   "execution_count": 11,
   "metadata": {},
   "outputs": [
    {
     "name": "stdout",
     "output_type": "stream",
     "text": [
      "India\n",
      "Mandya\n"
     ]
    },
    {
     "ename": "IndexError",
     "evalue": "list index out of range",
     "output_type": "error",
     "traceback": [
      "\u001b[1;31m---------------------------------------------------------------------------\u001b[0m",
      "\u001b[1;31mIndexError\u001b[0m                                Traceback (most recent call last)",
      "Cell \u001b[1;32mIn[11], line 3\u001b[0m\n\u001b[0;32m      1\u001b[0m sq \u001b[38;5;241m=\u001b[39m Cities()\n\u001b[1;32m----> 3\u001b[0m \u001b[38;5;28;43;01mfor\u001b[39;49;00m\u001b[43m \u001b[49m\u001b[43mi\u001b[49m\u001b[43m \u001b[49m\u001b[38;5;129;43;01min\u001b[39;49;00m\u001b[43m \u001b[49m\u001b[43msq\u001b[49m\u001b[43m:\u001b[49m\n\u001b[0;32m      4\u001b[0m \u001b[43m    \u001b[49m\u001b[38;5;28;43mprint\u001b[39;49m\u001b[43m(\u001b[49m\u001b[43mi\u001b[49m\u001b[43m)\u001b[49m\n\u001b[0;32m      6\u001b[0m \u001b[38;5;28;01mfor\u001b[39;00m i \u001b[38;5;129;01min\u001b[39;00m sq:\n",
      "Cell \u001b[1;32mIn[9], line 10\u001b[0m, in \u001b[0;36mCities.__next__\u001b[1;34m(self)\u001b[0m\n\u001b[0;32m      8\u001b[0m     \u001b[38;5;28;01mraise\u001b[39;00m \u001b[38;5;167;01mStopIteration\u001b[39;00m\n\u001b[0;32m      9\u001b[0m \u001b[38;5;28;01melse\u001b[39;00m:\n\u001b[1;32m---> 10\u001b[0m     result \u001b[38;5;241m=\u001b[39m \u001b[38;5;28;43mself\u001b[39;49m\u001b[38;5;241;43m.\u001b[39;49m\u001b[43mcities\u001b[49m\u001b[43m[\u001b[49m\u001b[38;5;28;43mself\u001b[39;49m\u001b[38;5;241;43m.\u001b[39;49m\u001b[43mindex_\u001b[49m\u001b[43m]\u001b[49m\n\u001b[0;32m     11\u001b[0m     \u001b[38;5;28mself\u001b[39m\u001b[38;5;241m.\u001b[39mindex_\u001b[38;5;241m+\u001b[39m\u001b[38;5;241m=\u001b[39m\u001b[38;5;241m1\u001b[39m\n\u001b[0;32m     12\u001b[0m     \u001b[38;5;28;01mreturn\u001b[39;00m result\n",
      "\u001b[1;31mIndexError\u001b[0m: list index out of range"
     ]
    }
   ],
   "source": [
    "sq = Cities()\n",
    "\n",
    "for i in sq:\n",
    "    print(i)\n",
    "\n",
    "for i in sq:\n",
    "    print(i)\n",
    "\n",
    "\"\"\"\n",
    "The first time it returns but second time the iterator is exhausted so can't run further.\n",
    "This has 2 parts one is data or collection and other is iterator.\n",
    "The collection part is iterable\n",
    "\"\"\""
   ]
  },
  {
   "cell_type": "code",
   "execution_count": 19,
   "metadata": {},
   "outputs": [
    {
     "name": "stdout",
     "output_type": "stream",
     "text": [
      "here 1\n",
      "India\n",
      "Mandya\n",
      "here 1\n",
      "India\n",
      "Mandya\n",
      "here 1\n",
      "India\n",
      "Mandya\n"
     ]
    }
   ],
   "source": [
    "class Cities:\n",
    "    def __init__(self):\n",
    "        self.cities = ['India', 'Mandya']\n",
    "\n",
    "    def __len__(self):\n",
    "        return len(self.cities)\n",
    "        \n",
    "    def __iter__(self):\n",
    "        return CityIterator(self)\n",
    "    \n",
    "class CityIterator:\n",
    "    def __init__(self, cities_obj):\n",
    "        self.index_ = 0\n",
    "        self.cities_obj = cities_obj\n",
    "\n",
    "    def __next__(self):\n",
    "        if self.index_ > len(self.cities_obj)-1:\n",
    "            raise StopIteration\n",
    "        else:\n",
    "            result = self.cities_obj.cities[self.index_]\n",
    "            self.index_+=1\n",
    "            return result\n",
    "        \n",
    "    def __iter__(self):\n",
    "        return self\n",
    "    \n",
    "cities = Cities()\n",
    "\n",
    "for i in cities:\n",
    "    print(i)\n",
    "\n",
    "for i in cities:\n",
    "    print(i)\n",
    "\n",
    "for i in cities:\n",
    "    print(i)"
   ]
  },
  {
   "cell_type": "code",
   "execution_count": 21,
   "metadata": {},
   "outputs": [
    {
     "name": "stdout",
     "output_type": "stream",
     "text": [
      "False\n",
      "1\n",
      "2\n",
      "3\n",
      "1\n",
      "2\n",
      "3\n"
     ]
    }
   ],
   "source": [
    "l1 = [1,2,3]\n",
    "l2 = [4,5,6]\n",
    "\n",
    "print(iter(l1) is l1)\n",
    "\n",
    "# gets new iterator\n",
    "for i in l1:\n",
    "    print(i)\n",
    "\n",
    "# gets new iterator\n",
    "for i in l1:\n",
    "    print(i)"
   ]
  },
  {
   "cell_type": "code",
   "execution_count": 22,
   "metadata": {},
   "outputs": [
    {
     "name": "stdout",
     "output_type": "stream",
     "text": [
      "True\n",
      "(1, 4)\n",
      "(2, 5)\n",
      "(3, 6)\n"
     ]
    }
   ],
   "source": [
    "z = zip(l1, l2)\n",
    "\n",
    "print(iter(z) is z)\n",
    "\n",
    "# gets new iterator\n",
    "for i in z:\n",
    "    print(i)\n",
    "\n",
    "# still has the old iterator\n",
    "# here iterator is exhausted\n",
    "for i in z:\n",
    "    print(i)"
   ]
  },
  {
   "cell_type": "code",
   "execution_count": null,
   "metadata": {},
   "outputs": [],
   "source": []
  }
 ],
 "metadata": {
  "kernelspec": {
   "display_name": "Python 3",
   "language": "python",
   "name": "python3"
  },
  "language_info": {
   "codemirror_mode": {
    "name": "ipython",
    "version": 3
   },
   "file_extension": ".py",
   "mimetype": "text/x-python",
   "name": "python",
   "nbconvert_exporter": "python",
   "pygments_lexer": "ipython3",
   "version": "3.11.3"
  }
 },
 "nbformat": 4,
 "nbformat_minor": 2
}
