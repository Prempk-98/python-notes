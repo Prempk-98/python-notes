{
 "cells": [
  {
   "cell_type": "markdown",
   "metadata": {},
   "source": [
    "## Sequence\n",
    "\n",
    "1. Any item in a sequence can be accessed using an index\n",
    "2. List is a sequence but not set\n",
    "3. Even strings, tuples, range are sequence types\n",
    "4. Types\n",
    "   1. Homogenous -> string\n",
    "   2. Heterogenous -> list\n",
    "\n",
    "## Iterable\n",
    "\n",
    "1. Any sequence type is iterable\n",
    "2. But not all iterables are sequence type\n",
    "   1. Example **set** can be iterable but it is not sequence type (i.e, it cannot be accessed by index)\n",
    "\n",
    "### Standard Sequence methods\n",
    "\n",
    "```python\n",
    "x in s\n",
    "x not in s\n",
    "s1 + s2\n",
    "\n",
    "len(s)\n",
    "max(s)\n",
    "min(s)\n",
    "s.index(x)\n",
    "```\n",
    "\n",
    "Note: Concatenation works differently for mutable and immutable objects\n"
   ]
  },
  {
   "cell_type": "code",
   "execution_count": 5,
   "metadata": {},
   "outputs": [
    {
     "name": "stdout",
     "output_type": "stream",
     "text": [
      "[1, 5, 2, 5]\n",
      "[[2, 10], [2, 10]]\n"
     ]
    }
   ],
   "source": [
    "'''\n",
    "In the below two cases, in the first example the items of iterable is immutable so new objects are created\n",
    "But in other the case the item is mutable, so when the two iterables are added, only the address are copied \n",
    "but not the whole content\n",
    "'''\n",
    "\n",
    "a = [2,5]\n",
    "x = a+a\n",
    "x[0]=1\n",
    "print(x)\n",
    "\n",
    "a = [[2,5]]\n",
    "x = a+a\n",
    "x[0][1]=10\n",
    "print(x)"
   ]
  },
  {
   "cell_type": "code",
   "execution_count": 6,
   "metadata": {},
   "outputs": [
    {
     "data": {
      "text/plain": [
       "[]"
      ]
     },
     "execution_count": 6,
     "metadata": {},
     "output_type": "execute_result"
    }
   ],
   "source": [
    "a = [5,6,7]\n",
    "a.clear()\n",
    "a"
   ]
  },
  {
   "cell_type": "code",
   "execution_count": 13,
   "metadata": {},
   "outputs": [
    {
     "data": {
      "text/plain": [
       "({'pr': 5, 'hj': 6}, {'hj': 6, 'kl': 56}, 2302397369792, 2302397378816)"
      ]
     },
     "execution_count": 13,
     "metadata": {},
     "output_type": "execute_result"
    }
   ],
   "source": [
    "a = {'pr':5, 'hj':6}\n",
    "b = a.copy()\n",
    "b.pop('pr')\n",
    "b.update({'kl':56})\n",
    "\n",
    "a,b ,id(a), id(b)"
   ]
  },
  {
   "cell_type": "code",
   "execution_count": 15,
   "metadata": {},
   "outputs": [
    {
     "name": "stdout",
     "output_type": "stream",
     "text": [
      "2302397184832\n",
      "2302397184832\n",
      "2302397484672\n",
      "2302397177792\n",
      "2302397404800\n",
      "2302397484672\n"
     ]
    }
   ],
   "source": [
    "# concatenate creates new object\n",
    "\n",
    "a = [1,2,3]\n",
    "print(id(a))\n",
    "a.append(5)\n",
    "print(id(a))\n",
    "\n",
    "\n",
    "b=[1,2,3]\n",
    "print(id(b))\n",
    "b=b+[5]\n",
    "print(id(b))\n",
    "\n",
    "b=[1,2,3]\n",
    "print(id(b))\n",
    "b=b+b\n",
    "print(id(b))"
   ]
  },
  {
   "cell_type": "code",
   "execution_count": 18,
   "metadata": {},
   "outputs": [
    {
     "name": "stdout",
     "output_type": "stream",
     "text": [
      "[1, 2, 3, 'x', 5, 'z']\n",
      "[1, 2, 3, 'z', 5, 'x']\n"
     ]
    }
   ],
   "source": [
    "a = [1,2,3]\n",
    "b = ['x', 5, 'z']\n",
    "a.extend(b)\n",
    "print(a)\n",
    "\n",
    "a = [1,2,3]\n",
    "b = {'x', 5, 'z'}\n",
    "a.extend(b)\n",
    "\n",
    "print(a)"
   ]
  },
  {
   "cell_type": "code",
   "execution_count": 23,
   "metadata": {},
   "outputs": [
    {
     "name": "stdout",
     "output_type": "stream",
     "text": [
      "2302403316992 2302403329472 140721521681256\n",
      "2302403316992 2302403329472 140721521681256\n"
     ]
    }
   ],
   "source": [
    "a = [[1,2], 3, 4]\n",
    "b=a\n",
    "print(id(a),id(a[0]), id(a[1]))\n",
    "print(id(b),id(b[0]), id(b[1]))"
   ]
  },
  {
   "cell_type": "code",
   "execution_count": 24,
   "metadata": {},
   "outputs": [
    {
     "name": "stdout",
     "output_type": "stream",
     "text": [
      "2302403301952 2302403480512 140721521681256\n",
      "2302398064512 2302403480512 140721521681256\n"
     ]
    }
   ],
   "source": [
    "a = [[1,2], 3, 4]\n",
    "b=a.copy()\n",
    "print(id(a),id(a[0]), id(a[1]))\n",
    "print(id(b),id(b[0]), id(b[1]))"
   ]
  },
  {
   "cell_type": "code",
   "execution_count": 38,
   "metadata": {},
   "outputs": [
    {
     "name": "stdout",
     "output_type": "stream",
     "text": [
      "2302396870016 2302403530304 140721521681256\n",
      "2302403511488 2302403312832 140721521681256\n"
     ]
    }
   ],
   "source": [
    "import copy\n",
    "a = [[1,2], 3, 4]\n",
    "b=copy.deepcopy(a)\n",
    "print(id(a),id(a[0]), id(a[1]))\n",
    "print(id(b),id(b[0]), id(b[1]))"
   ]
  },
  {
   "cell_type": "code",
   "execution_count": 49,
   "metadata": {},
   "outputs": [
    {
     "name": "stdout",
     "output_type": "stream",
     "text": [
      "2302398215936 2302403512256 140721521681192 2302397215488 140721521681256\n",
      "2302396869504 2302403483968 140721521681192 2302398204672 140721521681256\n"
     ]
    }
   ],
   "source": [
    "import copy\n",
    "a = [[1,[1,2]], 3, 4]\n",
    "b=copy.deepcopy(a)\n",
    "print(id(a),id(a[0]),id(a[0][0]), id(a[0][1]), id(a[1]))\n",
    "print(id(b),id(b[0]),id(b[0][0]), id(b[0][1]), id(b[1]))"
   ]
  },
  {
   "cell_type": "code",
   "execution_count": 46,
   "metadata": {},
   "outputs": [
    {
     "name": "stdout",
     "output_type": "stream",
     "text": [
      "2302403703168 2302396956224 140721521681256\n",
      "2302396077440 2302397246016 140721521681256\n"
     ]
    }
   ],
   "source": [
    "# deep copy without achieving deep copy\n",
    "a = [[1,2], 3, 4]\n",
    "b = [i.copy() if type(i)==list else i for i in a]\n",
    "print(id(a),id(a[0]), id(a[1]))\n",
    "print(id(b),id(b[0]), id(b[1]))"
   ]
  },
  {
   "cell_type": "code",
   "execution_count": 48,
   "metadata": {},
   "outputs": [
    {
     "name": "stdout",
     "output_type": "stream",
     "text": [
      "2302403704768 2302397150656 2302403312832 140721521681256\n",
      "2302403542208 2302396156928 2302403312832 140721521681256\n"
     ]
    }
   ],
   "source": [
    "a = [[1,[1,2]], 3, 4]\n",
    "b = [i.copy() if type(i)==list else i for i in a]\n",
    "print(id(a),id(a[0]),id(a[0][1]), id(a[1]))\n",
    "print(id(b),id(b[0]),id(b[0][1]), id(b[1]))"
   ]
  },
  {
   "cell_type": "code",
   "execution_count": 59,
   "metadata": {},
   "outputs": [
    {
     "name": "stdout",
     "output_type": "stream",
     "text": [
      "2302403731776 2302397204544 140721521681192 2302397021056 140721521681256\n",
      "2302404447872 2302397273088 140721521681192 2302404449088 140721521681256\n"
     ]
    }
   ],
   "source": [
    "a = [[1,[1,2]], 3, 4]\n",
    "\n",
    "def deepcopy(l: list):\n",
    "    if type(l)==list:\n",
    "        return [deepcopy(i) for i in l]\n",
    "    else:\n",
    "        return l\n",
    "\n",
    "b = deepcopy(a)\n",
    "\n",
    "print(id(a),id(a[0]),id(a[0][0]), id(a[0][1]), id(a[1]))\n",
    "print(id(b),id(b[0]),id(b[0][0]), id(b[0][1]), id(b[1]))"
   ]
  },
  {
   "cell_type": "markdown",
   "metadata": {},
   "source": [
    "### List vs Tuples\n",
    "\n",
    "**Constant Folding** is the process of recognizing and evaluating constant expressions at compile time rather than computing at runtime."
   ]
  },
  {
   "cell_type": "code",
   "execution_count": 27,
   "metadata": {},
   "outputs": [],
   "source": [
    "from dis import dis"
   ]
  },
  {
   "cell_type": "code",
   "execution_count": 28,
   "metadata": {},
   "outputs": [
    {
     "data": {
      "text/plain": [
       "(1, 2, 3)"
      ]
     },
     "execution_count": 28,
     "metadata": {},
     "output_type": "execute_result"
    }
   ],
   "source": [
    "(1,2,3)"
   ]
  },
  {
   "cell_type": "code",
   "execution_count": 29,
   "metadata": {},
   "outputs": [
    {
     "data": {
      "text/plain": [
       "[1, 2, 3]"
      ]
     },
     "execution_count": 29,
     "metadata": {},
     "output_type": "execute_result"
    }
   ],
   "source": [
    "[1,2,3]"
   ]
  },
  {
   "cell_type": "code",
   "execution_count": 30,
   "metadata": {},
   "outputs": [
    {
     "name": "stdout",
     "output_type": "stream",
     "text": [
      "  0           0 RESUME                   0\n",
      "\n",
      "  1           2 LOAD_CONST               0 ((1, 2, 3, 4))\n",
      "              4 RETURN_VALUE\n"
     ]
    }
   ],
   "source": [
    "dis(compile('(1,2,3,4)', 'string', 'eval'))"
   ]
  },
  {
   "cell_type": "code",
   "execution_count": 33,
   "metadata": {},
   "outputs": [
    {
     "name": "stdout",
     "output_type": "stream",
     "text": [
      "  0           0 RESUME                   0\n",
      "\n",
      "  1           2 BUILD_LIST               0\n",
      "              4 LOAD_CONST               0 ((1, 2, 3, 4))\n",
      "              6 LIST_EXTEND              1\n",
      "              8 RETURN_VALUE\n"
     ]
    }
   ],
   "source": [
    "dis(compile('[1,2,3,4]', 'string', 'eval'))"
   ]
  },
  {
   "cell_type": "code",
   "execution_count": 34,
   "metadata": {},
   "outputs": [
    {
     "data": {
      "text/plain": [
       "(2302403480896, 2302397492224)"
      ]
     },
     "execution_count": 34,
     "metadata": {},
     "output_type": "execute_result"
    }
   ],
   "source": [
    "l1 = [1,2,3]\n",
    "t1=(1,2,3)\n",
    "\n",
    "id(l1), id(t1)"
   ]
  },
  {
   "cell_type": "code",
   "execution_count": 35,
   "metadata": {},
   "outputs": [
    {
     "data": {
      "text/plain": [
       "(2302397020928, 2302397492224)"
      ]
     },
     "execution_count": 35,
     "metadata": {},
     "output_type": "execute_result"
    }
   ],
   "source": [
    "l2 = list(l1)\n",
    "t2 = tuple(t1)\n",
    "\n",
    "id(l2), id(t2)\n",
    "\n",
    "'''\n",
    "We can observe that when new tuple is created from old tuple the memory address is same because, python saves \n",
    "memory because anyway tuple is immutable object\n",
    "'''"
   ]
  },
  {
   "cell_type": "code",
   "execution_count": 37,
   "metadata": {},
   "outputs": [
    {
     "data": {
      "text/plain": [
       "(2302403319936, 2302397606976, 2302403554224, 2302403554224)"
      ]
     },
     "execution_count": 37,
     "metadata": {},
     "output_type": "execute_result"
    }
   ],
   "source": [
    "l1 = [1,2,3,4,5]\n",
    "l2 = l1[:] # new list object is created\n",
    "\n",
    "t1 = (1,2,3,4,5)\n",
    "t2 = t1[:] # same tuple is referenced\n",
    "\n",
    "id(l1), id(l2), id(t1), id(t2)"
   ]
  },
  {
   "cell_type": "markdown",
   "metadata": {},
   "source": [
    "### = vs +="
   ]
  },
  {
   "cell_type": "code",
   "execution_count": 70,
   "metadata": {},
   "outputs": [
    {
     "name": "stdout",
     "output_type": "stream",
     "text": [
      "2302403487296 2302397247360\n",
      "2302404418240 2302397247360\n"
     ]
    }
   ],
   "source": [
    "l1 = [1,2,3]\n",
    "l2 = [4,5,6]\n",
    "print(id(l1), id(l2))\n",
    "l1 = l1+l2\n",
    "\n",
    "print(id(l1), id(l2))"
   ]
  },
  {
   "cell_type": "code",
   "execution_count": 71,
   "metadata": {},
   "outputs": [
    {
     "name": "stdout",
     "output_type": "stream",
     "text": [
      "2302403727872 2302404481024\n",
      "2302403727872 2302404481024\n"
     ]
    }
   ],
   "source": [
    "l1 = [1,2,3]\n",
    "l2 = [4,5,6]\n",
    "print(id(l1), id(l2))\n",
    "l1+=l2\n",
    "\n",
    "print(id(l1), id(l2))"
   ]
  },
  {
   "cell_type": "code",
   "execution_count": 72,
   "metadata": {},
   "outputs": [
    {
     "name": "stdout",
     "output_type": "stream",
     "text": [
      "140721521681960 140721521682952\n",
      "140721521683752 140721521682952\n"
     ]
    }
   ],
   "source": [
    "l1 = 25\n",
    "l2 = 56\n",
    "print(id(l1), id(l2))\n",
    "l1 = l1+l2\n",
    "\n",
    "print(id(l1), id(l2))"
   ]
  },
  {
   "cell_type": "code",
   "execution_count": 73,
   "metadata": {},
   "outputs": [
    {
     "name": "stdout",
     "output_type": "stream",
     "text": [
      "140721521681960 140721521682952\n",
      "140721521683752 140721521682952\n"
     ]
    }
   ],
   "source": [
    "l1 = 25\n",
    "l2 = 56\n",
    "print(id(l1), id(l2))\n",
    "l1+=l2\n",
    "\n",
    "print(id(l1), id(l2))"
   ]
  },
  {
   "cell_type": "code",
   "execution_count": null,
   "metadata": {},
   "outputs": [],
   "source": []
  }
 ],
 "metadata": {
  "kernelspec": {
   "display_name": "Python 3",
   "language": "python",
   "name": "python3"
  },
  "language_info": {
   "codemirror_mode": {
    "name": "ipython",
    "version": 3
   },
   "file_extension": ".py",
   "mimetype": "text/x-python",
   "name": "python",
   "nbconvert_exporter": "python",
   "pygments_lexer": "ipython3",
   "version": "3.11.3"
  }
 },
 "nbformat": 4,
 "nbformat_minor": 2
}
