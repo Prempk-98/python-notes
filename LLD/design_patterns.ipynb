{
 "cells": [
  {
   "cell_type": "markdown",
   "metadata": {},
   "source": [
    "## Design patterns\n",
    "\n",
    "1. Creational Design patterns\n",
    "   1. Factory \n",
    "   2. Abstract \n",
    "   3. Builder\n",
    "   4. Prototype\n",
    "   5. Singleton"
   ]
  }
 ],
 "metadata": {
  "language_info": {
   "name": "python"
  }
 },
 "nbformat": 4,
 "nbformat_minor": 2
}
