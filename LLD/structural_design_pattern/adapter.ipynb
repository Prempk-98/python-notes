{
 "cells": [
  {
   "cell_type": "markdown",
   "metadata": {},
   "source": [
    "## Adapter\n",
    "\n",
    "Adapter is a structural design pattern that allows objects with incompatible interfaces to collaborate.\n",
    "\n",
    "<img src=\"https://sbcode.net/python/img/adapter_concept.svg\" style=\"background: white;\">"
   ]
  },
  {
   "cell_type": "code",
   "execution_count": 2,
   "metadata": {},
   "outputs": [
    {
     "name": "stdout",
     "output_type": "stream",
     "text": [
      "method A\n",
      "method B\n",
      "method A\n",
      "method B\n"
     ]
    }
   ],
   "source": [
    "# pylint: disable=too-few-public-methods\n",
    "# pylint: disable=arguments-differ\n",
    "\"Adapter Concept Sample Code\"\n",
    "from abc import ABC, abstractmethod\n",
    "\n",
    "class IA(ABC):\n",
    "    \"An interface for an object\"\n",
    "    @abstractmethod\n",
    "    def method_a():\n",
    "        \"An abstract method A\"\n",
    "\n",
    "class ClassA(IA):\n",
    "    \"A Sample Class the implements IA\"\n",
    "\n",
    "    def method_a(self):\n",
    "        print(\"method A\")\n",
    "\n",
    "class IB(ABC):\n",
    "    \"An interface for an object\"\n",
    "    @abstractmethod\n",
    "    def method_b():\n",
    "        \"An abstract method B\"\n",
    "\n",
    "class ClassB(IB):\n",
    "    \"A Sample Class the implements IB\"\n",
    "\n",
    "    def method_b(self):\n",
    "        print(\"method B\")\n",
    "\n",
    "class ClassBAdapter(IA):\n",
    "    \"ClassB does not have a method_a, so we can create an adapter\"\n",
    "\n",
    "    def __init__(self):\n",
    "        self.class_b = ClassB()\n",
    "\n",
    "    def method_a(self):\n",
    "        \"calls the class b method_b instead\"\n",
    "        self.class_b.method_b()\n",
    "\n",
    "# The Client\n",
    "# Before the adapter I need to test the objects class to know which\n",
    "# method to call.\n",
    "ITEMS = [ClassA(), ClassB()]\n",
    "for item in ITEMS:\n",
    "    if isinstance(item, ClassB):\n",
    "        item.method_b()\n",
    "    else:\n",
    "        item.method_a()\n",
    "\n",
    "# After creating an adapter for ClassB I can reuse the same method\n",
    "# signature as ClassA (preferred)\n",
    "ITEMS = [ClassA(), ClassBAdapter()]\n",
    "for item in ITEMS:\n",
    "    item.method_a()"
   ]
  },
  {
   "cell_type": "code",
   "execution_count": null,
   "metadata": {},
   "outputs": [],
   "source": []
  },
  {
   "cell_type": "code",
   "execution_count": null,
   "metadata": {},
   "outputs": [],
   "source": []
  }
 ],
 "metadata": {
  "kernelspec": {
   "display_name": "Python 3",
   "language": "python",
   "name": "python3"
  },
  "language_info": {
   "codemirror_mode": {
    "name": "ipython",
    "version": 3
   },
   "file_extension": ".py",
   "mimetype": "text/x-python",
   "name": "python",
   "nbconvert_exporter": "python",
   "pygments_lexer": "ipython3",
   "version": "3.11.3"
  }
 },
 "nbformat": 4,
 "nbformat_minor": 2
}
