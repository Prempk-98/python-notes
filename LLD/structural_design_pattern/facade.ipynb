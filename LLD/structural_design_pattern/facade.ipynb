{
 "cells": [
  {
   "cell_type": "markdown",
   "metadata": {},
   "source": [
    "## Facade\n",
    "\n",
    "Facade is a structural design pattern that provides a simplified interface to a library, a framework, or any other complex set of classes.\n",
    "\n",
    "<img src=\"https://sbcode.net/python/img/facade_example.svg\" style=\"background: white;\">"
   ]
  },
  {
   "cell_type": "code",
   "execution_count": 1,
   "metadata": {},
   "outputs": [
    {
     "name": "stdout",
     "output_type": "stream",
     "text": [
      "A\n",
      "B\n",
      "{'C': [1, 2, 3]}\n",
      "A\n",
      "B\n",
      "{'C': [1, 2, 3]}\n"
     ]
    }
   ],
   "source": [
    "# pylint: disable=too-few-public-methods\n",
    "\"The Facade pattern concept\"\n",
    "\n",
    "class SubSystemClassA:\n",
    "    \"A hypothetically complicated class\"\n",
    "    @staticmethod\n",
    "    def method():\n",
    "        \"A hypothetically complicated method\"\n",
    "        return \"A\"\n",
    "\n",
    "class SubSystemClassB:\n",
    "    \"A hypothetically complicated class\"\n",
    "    @staticmethod\n",
    "    def method(value):\n",
    "        \"A hypothetically complicated method\"\n",
    "        return value\n",
    "\n",
    "class SubSystemClassC:\n",
    "    \"A hypothetically complicated class\"\n",
    "    @staticmethod\n",
    "    def method(value):\n",
    "        \"A hypothetically complicated method\"\n",
    "        return value\n",
    "\n",
    "class Facade():\n",
    "    \"A simplified facade offering the services of subsystems\"\n",
    "    @staticmethod\n",
    "    def sub_system_class_a():\n",
    "        \"Use the subsystems method\"\n",
    "        return SubSystemClassA().method()\n",
    "\n",
    "    @staticmethod\n",
    "    def sub_system_class_b(value):\n",
    "        \"Use the subsystems method\"\n",
    "        return SubSystemClassB().method(value)\n",
    "\n",
    "    @staticmethod\n",
    "    def sub_system_class_c(value):\n",
    "        \"Use the subsystems method\"\n",
    "        return SubSystemClassC().method(value)\n",
    "\n",
    "# The Client\n",
    "# call potentially complicated subsystems directly\n",
    "print(SubSystemClassA.method())\n",
    "print(SubSystemClassB.method(\"B\"))\n",
    "print(SubSystemClassC.method({\"C\": [1, 2, 3]}))\n",
    "\n",
    "# or use the simplified facade\n",
    "print(Facade().sub_system_class_a())\n",
    "print(Facade().sub_system_class_b(\"B\"))\n",
    "print(Facade().sub_system_class_c({\"C\": [1, 2, 3]}))"
   ]
  },
  {
   "cell_type": "code",
   "execution_count": null,
   "metadata": {},
   "outputs": [],
   "source": []
  },
  {
   "cell_type": "code",
   "execution_count": null,
   "metadata": {},
   "outputs": [],
   "source": []
  },
  {
   "cell_type": "code",
   "execution_count": null,
   "metadata": {},
   "outputs": [],
   "source": []
  },
  {
   "cell_type": "code",
   "execution_count": null,
   "metadata": {},
   "outputs": [],
   "source": []
  }
 ],
 "metadata": {
  "kernelspec": {
   "display_name": "Python 3",
   "language": "python",
   "name": "python3"
  },
  "language_info": {
   "codemirror_mode": {
    "name": "ipython",
    "version": 3
   },
   "file_extension": ".py",
   "mimetype": "text/x-python",
   "name": "python",
   "nbconvert_exporter": "python",
   "pygments_lexer": "ipython3",
   "version": "3.11.3"
  }
 },
 "nbformat": 4,
 "nbformat_minor": 2
}
