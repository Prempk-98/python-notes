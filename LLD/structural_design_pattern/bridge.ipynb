{
 "cells": [
  {
   "cell_type": "markdown",
   "metadata": {},
   "source": [
    "## Bridge\n",
    "\n",
    "Bridge is a structural design pattern that lets you split a large class or a set of closely related classes into two separate hierarchies—abstraction and implementation—which can be developed independently of each other.\n",
    "\n",
    "The Bridge pattern is similar to the Adapter pattern except in the intent that you developed it.\n",
    "\n",
    "The Bridge is an approach to refactor already existing code, whereas the Adapter creates an interface on top of existing code through existing available means without refactoring any existing code or interfaces.\n",
    "\n",
    "The application of a Bridge in your code should use **composition** instead of inheritance\n",
    "\n",
    "<div>\n",
    "    <img src=\"../images/bridge_before.jpeg\" width=350 height=300>\n",
    "    <img src=\"../images/bridge_after.jpeg\" width=350 height=300>\n",
    "</div>\n",
    "\n",
    "#### Example\n",
    "\n",
    "<div>\n",
    "    <img src=\"../images/bridge_example.jpeg\" width=450 height=400>\n",
    "    <img src=\"https://sbcode.net/python/img/bridge_concept.svg\" width=450 height=400 style=\"background: white;\">\n",
    "</div>\n",
    "\n",
    "[![](https://img.youtube.com/vi/SOw1_W0taBg/0.jpg)](https://www.youtube.com/watch?v=SOw1_W0taBg)"
   ]
  },
  {
   "cell_type": "code",
   "execution_count": 1,
   "metadata": {},
   "outputs": [
    {
     "name": "stdout",
     "output_type": "stream",
     "text": [
      "('a', 'b', 'c')\n",
      "a\n",
      "b\n",
      "c\n"
     ]
    }
   ],
   "source": [
    "from abc import ABC, abstractmethod\n",
    "\n",
    "class IAbstraction(ABC):\n",
    "    \"The Abstraction Interface\"\n",
    "\n",
    "    @staticmethod\n",
    "    @abstractmethod\n",
    "    def method(*args):\n",
    "        \"The method handle\"\n",
    "\n",
    "class RefinedAbstractionA(IAbstraction):\n",
    "    \"A Refined Abstraction\"\n",
    "\n",
    "    def __init__(self, implementer):\n",
    "        self.implementer = implementer()\n",
    "\n",
    "    def method(self, *args):\n",
    "        self.implementer.method(*args)\n",
    "\n",
    "class RefinedAbstractionB(IAbstraction):\n",
    "    \"A Refined Abstraction\"\n",
    "\n",
    "    def __init__(self, implementer):\n",
    "        self.implementer = implementer()\n",
    "\n",
    "    def method(self, *args):\n",
    "        self.implementer.method(*args)\n",
    "\n",
    "class IImplementer(ABC):\n",
    "    \"The Implementer Interface\"\n",
    "\n",
    "    @staticmethod\n",
    "    @abstractmethod\n",
    "    def method(*args: tuple) -> None:\n",
    "        \"The method implementation\"\n",
    "\n",
    "class ConcreteImplementerA(IImplementer):\n",
    "    \"A Concrete Implementer\"\n",
    "\n",
    "    @staticmethod\n",
    "    def method(*args: tuple) -> None:\n",
    "        print(args)\n",
    "\n",
    "class ConcreteImplementerB(IImplementer):\n",
    "    \"A Concrete Implementer\"\n",
    "\n",
    "    @staticmethod\n",
    "    def method(*args: tuple) -> None:\n",
    "        for arg in args:\n",
    "            print(arg)\n",
    "\n",
    "# The Client\n",
    "REFINED_ABSTRACTION_A = RefinedAbstractionA(ConcreteImplementerA)\n",
    "REFINED_ABSTRACTION_A.method('a', 'b', 'c')\n",
    "\n",
    "REFINED_ABSTRACTION_B = RefinedAbstractionB(ConcreteImplementerB)\n",
    "REFINED_ABSTRACTION_B.method('a', 'b', 'c')"
   ]
  },
  {
   "cell_type": "markdown",
   "metadata": {},
   "source": [
    "## Example"
   ]
  },
  {
   "cell_type": "code",
   "execution_count": null,
   "metadata": {},
   "outputs": [],
   "source": []
  },
  {
   "cell_type": "code",
   "execution_count": null,
   "metadata": {},
   "outputs": [],
   "source": []
  },
  {
   "cell_type": "code",
   "execution_count": null,
   "metadata": {},
   "outputs": [],
   "source": []
  }
 ],
 "metadata": {
  "kernelspec": {
   "display_name": "Python 3",
   "language": "python",
   "name": "python3"
  },
  "language_info": {
   "codemirror_mode": {
    "name": "ipython",
    "version": 3
   },
   "file_extension": ".py",
   "mimetype": "text/x-python",
   "name": "python",
   "nbconvert_exporter": "python",
   "pygments_lexer": "ipython3",
   "version": "3.11.3"
  }
 },
 "nbformat": 4,
 "nbformat_minor": 2
}
