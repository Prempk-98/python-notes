{
 "cells": [
  {
   "cell_type": "markdown",
   "metadata": {},
   "source": [
    "## Proxy\n",
    "\n",
    "Proxy is a structural design pattern that lets you provide a substitute or placeholder for another object. A proxy controls access to the original object, allowing you to perform something either before or after the request gets through to the original object\n",
    "\n",
    "The Proxy design pattern is a class functioning as an interface to another class or object.\n",
    "\n",
    "<img src=\"https://sbcode.net/python/img/proxy_concept.svg\" style=\"background: white;\">"
   ]
  },
  {
   "cell_type": "code",
   "execution_count": 1,
   "metadata": {},
   "outputs": [
    {
     "name": "stdout",
     "output_type": "stream",
     "text": [
      "1921851502608\n",
      "pulling data from RealSubject\n",
      "[1, 2, 3]\n",
      "pulling data from Proxy cache\n",
      "[1, 2, 3]\n"
     ]
    }
   ],
   "source": [
    "# pylint: disable=too-few-public-methods\n",
    "# pylint: disable=arguments-differ\n",
    "\"A Proxy Concept Example\"\n",
    "\n",
    "from abc import ABCMeta, abstractmethod\n",
    "\n",
    "class ISubject(metaclass=ABCMeta):\n",
    "    \"An interface implemented by both the Proxy and Real Subject\"\n",
    "    @staticmethod\n",
    "    @abstractmethod\n",
    "    def request():\n",
    "        \"A method to implement\"\n",
    "\n",
    "class RealSubject(ISubject):\n",
    "    \"The actual real object that the proxy is representing\"\n",
    "\n",
    "    def __init__(self):\n",
    "        # hypothetically enormous amounts of data\n",
    "        self.enormous_data = [1, 2, 3]\n",
    "\n",
    "    def request(self):\n",
    "        return self.enormous_data\n",
    "\n",
    "class Proxy(ISubject):\n",
    "    \"\"\"\n",
    "    The proxy. In this case the proxy will act as a cache for\n",
    "    `enormous_data` and only populate the enormous_data when it\n",
    "    is actually necessary\n",
    "    \"\"\"\n",
    "\n",
    "    def __init__(self):\n",
    "        self.enormous_data = []\n",
    "        self.real_subject = RealSubject()\n",
    "\n",
    "    def request(self):\n",
    "        \"\"\"\n",
    "        Using the proxy as a cache, and loading data into it only if\n",
    "        it is needed\n",
    "        \"\"\"\n",
    "        if self.enormous_data == []:\n",
    "            print(\"pulling data from RealSubject\")\n",
    "            self.enormous_data = self.real_subject.request()\n",
    "            return self.enormous_data\n",
    "        print(\"pulling data from Proxy cache\")\n",
    "        return self.enormous_data\n",
    "\n",
    "# The Client\n",
    "SUBJECT = Proxy()\n",
    "# use SUBJECT\n",
    "print(id(SUBJECT))\n",
    "# load the enormous amounts of data because now we want to show it.\n",
    "print(SUBJECT.request())\n",
    "# show the data again, but this time it retrieves it from the local cache\n",
    "print(SUBJECT.request())"
   ]
  },
  {
   "cell_type": "code",
   "execution_count": null,
   "metadata": {},
   "outputs": [],
   "source": []
  },
  {
   "cell_type": "code",
   "execution_count": null,
   "metadata": {},
   "outputs": [],
   "source": []
  },
  {
   "cell_type": "code",
   "execution_count": null,
   "metadata": {},
   "outputs": [],
   "source": []
  },
  {
   "cell_type": "code",
   "execution_count": null,
   "metadata": {},
   "outputs": [],
   "source": []
  },
  {
   "cell_type": "code",
   "execution_count": null,
   "metadata": {},
   "outputs": [],
   "source": []
  }
 ],
 "metadata": {
  "kernelspec": {
   "display_name": "Python 3",
   "language": "python",
   "name": "python3"
  },
  "language_info": {
   "codemirror_mode": {
    "name": "ipython",
    "version": 3
   },
   "file_extension": ".py",
   "mimetype": "text/x-python",
   "name": "python",
   "nbconvert_exporter": "python",
   "pygments_lexer": "ipython3",
   "version": "3.11.3"
  }
 },
 "nbformat": 4,
 "nbformat_minor": 2
}
