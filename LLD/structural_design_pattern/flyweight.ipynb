{
 "cells": [
  {
   "cell_type": "markdown",
   "metadata": {},
   "source": [
    "## Flyweight\n",
    "\n",
    "Flyweight is a structural design pattern that lets you fit more objects into the available amount of RAM by sharing common parts of state between multiple objects instead of keeping all of the data in each object.\n",
    "\n",
    "Instead of creating thousands of objects that share common attributes, and result in a situation where a large amount of memory or other resources are used, you can modify your classes to share multiple instances simultaneously by using some kind of reference to the shared object instead.\n"
   ]
  },
  {
   "cell_type": "code",
   "execution_count": 1,
   "metadata": {},
   "outputs": [
    {
     "name": "stdout",
     "output_type": "stream",
     "text": [
      "abracadabra\n",
      "abracadabra has 11 letters\n",
      "FlyweightFactory has 5 flyweights\n"
     ]
    }
   ],
   "source": [
    "# pylint: disable=too-few-public-methods\n",
    "\"The Flyweight Concept\"\n",
    "\n",
    "\n",
    "class IFlyweight():\n",
    "    \"Nothing to implement\"\n",
    "\n",
    "\n",
    "class Flyweight(IFlyweight):\n",
    "    \"The Concrete Flyweight\"\n",
    "\n",
    "    def __init__(self, code: str) -> None:\n",
    "        self.code = code\n",
    "\n",
    "\n",
    "class FlyweightFactory():\n",
    "    \"Creating the FlyweightFactory as a singleton\"\n",
    "\n",
    "    _flyweights: dict[str, Flyweight] = {}  # Python 3.9\n",
    "    # _flyweights = {}  # Python 3.8 or earlier\n",
    "\n",
    "    def __new__(cls):\n",
    "        return cls\n",
    "\n",
    "    @classmethod\n",
    "    def get_flyweight(cls, code: str) -> Flyweight:\n",
    "        \"A static method to get a flyweight based on a code\"\n",
    "        if not code in cls._flyweights:\n",
    "            cls._flyweights[code] = Flyweight(code)\n",
    "        return cls._flyweights[code]\n",
    "\n",
    "    @classmethod\n",
    "    def get_count(cls) -> int:\n",
    "        \"Return the number of flyweights in the cache\"\n",
    "        return len(cls._flyweights)\n",
    "\n",
    "\n",
    "class Context():\n",
    "    \"\"\"\n",
    "    An example context that holds references to the flyweights in a\n",
    "    particular order and converts the code to an ascii letter\n",
    "    \"\"\"\n",
    "\n",
    "    def __init__(self, codes: str) -> None:\n",
    "        self.codes = list(codes)\n",
    "\n",
    "    def output(self):\n",
    "        \"The context specific output that uses flyweights\"\n",
    "        ret = \"\"\n",
    "        for code in self.codes:\n",
    "            ret = ret + FlyweightFactory.get_flyweight(code).code\n",
    "        return ret\n",
    "\n",
    "\n",
    "# The Client\n",
    "CONTEXT = Context(\"abracadabra\")\n",
    "\n",
    "# use flyweights in a context\n",
    "print(CONTEXT.output())\n",
    "\n",
    "print(f\"abracadabra has {len('abracadabra')} letters\")\n",
    "print(f\"FlyweightFactory has {FlyweightFactory.get_count()} flyweights\")"
   ]
  },
  {
   "cell_type": "code",
   "execution_count": null,
   "metadata": {},
   "outputs": [],
   "source": []
  },
  {
   "cell_type": "code",
   "execution_count": null,
   "metadata": {},
   "outputs": [],
   "source": []
  },
  {
   "cell_type": "code",
   "execution_count": null,
   "metadata": {},
   "outputs": [],
   "source": []
  }
 ],
 "metadata": {
  "kernelspec": {
   "display_name": "Python 3",
   "language": "python",
   "name": "python3"
  },
  "language_info": {
   "codemirror_mode": {
    "name": "ipython",
    "version": 3
   },
   "file_extension": ".py",
   "mimetype": "text/x-python",
   "name": "python",
   "nbconvert_exporter": "python",
   "pygments_lexer": "ipython3",
   "version": "3.11.3"
  }
 },
 "nbformat": 4,
 "nbformat_minor": 2
}
