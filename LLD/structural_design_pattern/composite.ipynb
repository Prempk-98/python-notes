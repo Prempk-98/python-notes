{
 "cells": [
  {
   "cell_type": "markdown",
   "metadata": {},
   "source": [
    "## Composite\n",
    "\n",
    "Composite is a structural design pattern that lets you compose objects into tree structures and then work with these structures as if they were individual objects.\n",
    "\n",
    "The Composite pattern lets you run a behavior recursively over all components of an object tree.\n",
    "\n",
    "<img src=\"https://sbcode.net/python/img/composite_concept.svg\" style=\"background: white;\">\n",
    "\n",
    "[![](https://img.youtube.com/vi/_uOwULztBgM/0.jpg)](https://www.youtube.com/watch?v=_uOwULztBgM)"
   ]
  },
  {
   "cell_type": "code",
   "execution_count": 1,
   "metadata": {},
   "outputs": [
    {
     "name": "stdout",
     "output_type": "stream",
     "text": [
      "Ellipse\n",
      "Circle\n"
     ]
    }
   ],
   "source": [
    "from abc import ABC, abstractmethod\n",
    "\n",
    "class IGraphic(ABC):\n",
    "    @abstractmethod\n",
    "    def print():\n",
    "        pass\n",
    "\n",
    "class Ellipse(IGraphic):\n",
    "    def print(self):\n",
    "        print(\"Ellipse\")\n",
    "\n",
    "class Circle(IGraphic):\n",
    "    def print(self):\n",
    "        print(\"Circle\")\n",
    "\n",
    "class Composite(IGraphic):\n",
    "    def __init__(self):\n",
    "        self.graphics = []\n",
    "\n",
    "    def add(self, graphic):\n",
    "        self.graphics.append(graphic)\n",
    "\n",
    "    def print(self):\n",
    "        for i in self.graphics:\n",
    "            i.print()\n",
    "\n",
    "elli = Ellipse()\n",
    "circle = Circle()\n",
    "\n",
    "elli.print()\n",
    "circle.print()"
   ]
  },
  {
   "cell_type": "code",
   "execution_count": 2,
   "metadata": {},
   "outputs": [
    {
     "name": "stdout",
     "output_type": "stream",
     "text": [
      "Ellipse\n",
      "Circle\n"
     ]
    }
   ],
   "source": [
    "comp1 = Composite()\n",
    "comp1.add(elli)\n",
    "comp1.add(circle)\n",
    "comp1.print()"
   ]
  },
  {
   "cell_type": "code",
   "execution_count": 7,
   "metadata": {},
   "outputs": [
    {
     "name": "stdout",
     "output_type": "stream",
     "text": [
      "Circle\n",
      "Ellipse\n",
      "Circle\n"
     ]
    },
    {
     "data": {
      "text/plain": [
       "(None, None)"
      ]
     },
     "execution_count": 7,
     "metadata": {},
     "output_type": "execute_result"
    }
   ],
   "source": [
    "comp1 = Composite()\n",
    "comp1.add(elli)\n",
    "comp2 = Composite()\n",
    "comp2.add(circle)\n",
    "comp1.add(comp2)\n",
    "comp2.print(), comp1.print()"
   ]
  },
  {
   "cell_type": "markdown",
   "metadata": {},
   "source": [
    "### Example\n",
    "\n",
    "<img src=\"https://sbcode.net/python/img/composite_example.svg\" style=\"background: white;\">"
   ]
  },
  {
   "cell_type": "code",
   "execution_count": 8,
   "metadata": {},
   "outputs": [],
   "source": [
    "#component Interface\n",
    "\n",
    "from abc import ABC, abstractmethod\n",
    "\n",
    "class IComponent(ABC):\n",
    "    reference_to_parent = None\n",
    "\n",
    "    @abstractmethod\n",
    "    def dir(self, indent):\n",
    "        pass\n",
    "\n",
    "    @abstractmethod\n",
    "    def detach(self):\n",
    "        pass"
   ]
  },
  {
   "cell_type": "code",
   "execution_count": 9,
   "metadata": {},
   "outputs": [],
   "source": [
    "# folder components\n",
    "\n",
    "class Folder(IComponent):\n",
    "    #Folder can contain folder and files\n",
    "    def __init__(self, name):\n",
    "        self.name = name\n",
    "        self.components = []\n",
    "\n",
    "    def dir(self, indent=\"\"):\n",
    "        print(\n",
    "            f\"{indent}<DIR>  {self.name}\\t\\tid:{id(self)}\\t\"\n",
    "            f\"Components: {len(self.components)}\")\n",
    "\n",
    "        for comp in self.components:\n",
    "            comp.dir(indent+\"..\")\n",
    "    \n",
    "    def attach(self, component):\n",
    "        component.detach()\n",
    "        component.reference_to_parent = self\n",
    "        self.components.append(component)\n",
    "\n",
    "    def delete(self, comp):\n",
    "        self.components.remove(comp)\n",
    "\n",
    "    def detach(self):\n",
    "        if self.reference_to_parent is not None:\n",
    "            self.reference_to_parent.delete(self)\n",
    "            self.reference_to_parent = None"
   ]
  },
  {
   "cell_type": "code",
   "execution_count": 10,
   "metadata": {},
   "outputs": [],
   "source": [
    "# A file class\n",
    "\n",
    "class File(IComponent):\n",
    "    \"The File Class. The files are leaves\"\n",
    "\n",
    "    def __init__(self, name):\n",
    "        self.name = name\n",
    "\n",
    "    def dir(self, indent):\n",
    "        parent_id = (id(self.reference_to_parent)\n",
    "                     if self.reference_to_parent is not None else None)\n",
    "        print(\n",
    "            f\"{indent}<FILE> {self.name}\\t\\t\"\n",
    "            f\"id:{id(self)}\\tParent:\\t{parent_id}\"\n",
    "        )\n",
    "\n",
    "    def detach(self):\n",
    "        \"Detaching this file (leaf) from its parent composite\"\n",
    "        if self.reference_to_parent is not None:\n",
    "            self.reference_to_parent.delete(self)\n"
   ]
  },
  {
   "cell_type": "code",
   "execution_count": 12,
   "metadata": {},
   "outputs": [
    {
     "name": "stdout",
     "output_type": "stream",
     "text": [
      "<DIR>  root\t\tid:2177488731088\tComponents: 4\n",
      "..<FILE> abc.txt\t\tid:2177489182992\tParent:\t2177488731088\n",
      "..<FILE> 123.txt\t\tid:2177489181264\tParent:\t2177488731088\n",
      "..<DIR>  folder_a\t\tid:2177488675024\tComponents: 1\n",
      "....<FILE> xyz.txt\t\tid:2177488474064\tParent:\t2177488675024\n",
      "..<DIR>  folder_b\t\tid:2177489178768\tComponents: 1\n",
      "....<FILE> 456.txt\t\tid:2177489186640\tParent:\t2177489178768\n",
      "\n",
      "<DIR>  root\t\tid:2177488731088\tComponents: 3\n",
      "..<FILE> abc.txt\t\tid:2177489182992\tParent:\t2177488731088\n",
      "..<FILE> 123.txt\t\tid:2177489181264\tParent:\t2177488731088\n",
      "..<DIR>  folder_b\t\tid:2177489178768\tComponents: 2\n",
      "....<FILE> 456.txt\t\tid:2177489186640\tParent:\t2177489178768\n",
      "....<DIR>  folder_a\t\tid:2177488675024\tComponents: 1\n",
      "......<FILE> xyz.txt\t\tid:2177488474064\tParent:\t2177488675024\n"
     ]
    }
   ],
   "source": [
    "\n",
    "\n",
    "FILESYSTEM = Folder(\"root\")\n",
    "FILE_1 = File(\"abc.txt\")\n",
    "FILE_2 = File(\"123.txt\")\n",
    "FILESYSTEM.attach(FILE_1)\n",
    "FILESYSTEM.attach(FILE_2)\n",
    "FOLDER_A = Folder(\"folder_a\")\n",
    "FILESYSTEM.attach(FOLDER_A)\n",
    "FILE_3 = File(\"xyz.txt\")\n",
    "FOLDER_A.attach(FILE_3)\n",
    "FOLDER_B = Folder(\"folder_b\")\n",
    "FILE_4 = File(\"456.txt\")\n",
    "FOLDER_B.attach(FILE_4)\n",
    "FILESYSTEM.attach(FOLDER_B)\n",
    "FILESYSTEM.dir()\n",
    "\n",
    "# now move FOLDER_A and its contents to FOLDER_B\n",
    "print()\n",
    "FOLDER_B.attach(FOLDER_A)\n",
    "FILESYSTEM.dir()"
   ]
  },
  {
   "cell_type": "code",
   "execution_count": null,
   "metadata": {},
   "outputs": [],
   "source": []
  }
 ],
 "metadata": {
  "kernelspec": {
   "display_name": "Python 3",
   "language": "python",
   "name": "python3"
  },
  "language_info": {
   "codemirror_mode": {
    "name": "ipython",
    "version": 3
   },
   "file_extension": ".py",
   "mimetype": "text/x-python",
   "name": "python",
   "nbconvert_exporter": "python",
   "pygments_lexer": "ipython3",
   "version": "3.11.3"
  }
 },
 "nbformat": 4,
 "nbformat_minor": 2
}
