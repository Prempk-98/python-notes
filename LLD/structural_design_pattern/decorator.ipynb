{
 "cells": [
  {
   "cell_type": "markdown",
   "metadata": {},
   "source": [
    "## Decorator\n",
    "\n",
    "Decorator is a structural design pattern that lets you attach new behaviors to objects by placing these objects inside special wrapper objects that contain the behaviors.\n",
    "\n",
    "The decorator pattern is used in both the Object-Oriented and Functional paradigms.\n",
    "\n",
    "The decorator pattern is different from the Python language feature of Python Decorators in its syntax and complete purpose. It is a similar concept in the way that it is a wrapper, but it also can be applied at runtime dynamically.\n",
    "\n",
    "The decorator pattern adds extensibility without modifying the original object."
   ]
  },
  {
   "cell_type": "code",
   "execution_count": 1,
   "metadata": {},
   "outputs": [
    {
     "name": "stdout",
     "output_type": "stream",
     "text": [
      "Component Method\n",
      "Decorator Method(Component Method)\n"
     ]
    }
   ],
   "source": [
    "# pylint: disable=too-few-public-methods\n",
    "# pylint: disable=arguments-differ\n",
    "\"Decorator Concept Sample Code\"\n",
    "from abc import ABCMeta, abstractmethod\n",
    "\n",
    "class IComponent(metaclass=ABCMeta):\n",
    "    \"Methods the component must implement\"\n",
    "    @staticmethod\n",
    "    @abstractmethod\n",
    "    def method():\n",
    "        \"A method to implement\"\n",
    "\n",
    "class Component(IComponent):\n",
    "    \"A component that can be decorated or not\"\n",
    "\n",
    "    def method(self):\n",
    "        \"An example method\"\n",
    "        return \"Component Method\"\n",
    "\n",
    "class Decorator(IComponent):\n",
    "    \"The Decorator also implements the IComponent\"\n",
    "\n",
    "    def __init__(self, obj):\n",
    "        \"Set a reference to the decorated object\"\n",
    "        self.object = obj\n",
    "\n",
    "    def method(self):\n",
    "        \"A method to implement\"\n",
    "        return f\"Decorator Method({self.object.method()})\"\n",
    "\n",
    "# The Client\n",
    "COMPONENT = Component()\n",
    "print(COMPONENT.method())\n",
    "print(Decorator(COMPONENT).method())"
   ]
  },
  {
   "cell_type": "code",
   "execution_count": null,
   "metadata": {},
   "outputs": [],
   "source": []
  },
  {
   "cell_type": "code",
   "execution_count": null,
   "metadata": {},
   "outputs": [],
   "source": []
  }
 ],
 "metadata": {
  "kernelspec": {
   "display_name": "Python 3",
   "language": "python",
   "name": "python3"
  },
  "language_info": {
   "codemirror_mode": {
    "name": "ipython",
    "version": 3
   },
   "file_extension": ".py",
   "mimetype": "text/x-python",
   "name": "python",
   "nbconvert_exporter": "python",
   "pygments_lexer": "ipython3",
   "version": "3.11.3"
  }
 },
 "nbformat": 4,
 "nbformat_minor": 2
}
