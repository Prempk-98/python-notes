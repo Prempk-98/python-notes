{
 "cells": [
  {
   "cell_type": "markdown",
   "metadata": {},
   "source": [
    "## Prototype\n",
    "\n",
    "Prototype is a creational design pattern that lets you copy existing objects without making your code dependent on their classes."
   ]
  },
  {
   "cell_type": "code",
   "execution_count": 12,
   "metadata": {},
   "outputs": [],
   "source": [
    "from abc import ABC, abstractmethod\n",
    "import copy\n",
    "\n",
    "class Person(ABC):\n",
    "    def __init__(self, name):\n",
    "        self._name = name\n",
    "\n",
    "    @property\n",
    "    def name(self):\n",
    "        return self._name\n",
    "        \n",
    "    @name.setter\n",
    "    def name(self, name):\n",
    "        self._name = name\n",
    "\n",
    "    @abstractmethod\n",
    "    def display(self):\n",
    "        pass\n",
    "\n",
    "    @abstractmethod\n",
    "    def clone(self):\n",
    "        pass\n",
    "\n",
    "class Teacher(Person):\n",
    "    def __init__(self, name, course):\n",
    "        super().__init__(name)\n",
    "        self._course = course\n",
    "\n",
    "    @property\n",
    "    def course(self):\n",
    "        return self._course\n",
    "        \n",
    "    @course.setter\n",
    "    def course(self, name):\n",
    "        self._course = name\n",
    "    \n",
    "    def clone(self):\n",
    "        return copy.copy(self)\n",
    "    \n",
    "    def display(self):\n",
    "        print(\"Teacher was cloned\")\n",
    "        print(f\"Name: {self._name} with course {self._course}\")\n",
    "\n",
    "class Student(Person):\n",
    "    def __init__(self, name, teacher: Teacher):\n",
    "        super().__init__(name)\n",
    "        self._teacher = teacher\n",
    "\n",
    "    def clone(self):\n",
    "        return copy.deepcopy(self)\n",
    "    \n",
    "    def display(self):\n",
    "        print(\"Student was cloned\")\n",
    "        print(f\"Name: {self._name} with course {self._teacher.course} taught by {self._teacher.name}\")\n",
    "    \n",
    "    "
   ]
  },
  {
   "cell_type": "code",
   "execution_count": 13,
   "metadata": {},
   "outputs": [
    {
     "name": "stdout",
     "output_type": "stream",
     "text": [
      "Teacher was cloned\n",
      "Name: Prem with course Python\n"
     ]
    }
   ],
   "source": [
    "teacher = Teacher(\"Prem\", \"Python\")\n",
    "teacherClone = teacher.clone()\n",
    "teacherClone.display()"
   ]
  },
  {
   "cell_type": "code",
   "execution_count": 14,
   "metadata": {},
   "outputs": [
    {
     "name": "stdout",
     "output_type": "stream",
     "text": [
      "Student was cloned\n",
      "Name: Kumar with course Python taught by Prem\n"
     ]
    }
   ],
   "source": [
    "student = Student(\"Kumar\", teacherClone)\n",
    "studentClone = student.clone()\n",
    "studentClone.display()"
   ]
  },
  {
   "cell_type": "code",
   "execution_count": 9,
   "metadata": {},
   "outputs": [
    {
     "name": "stdout",
     "output_type": "stream",
     "text": [
      "Student was cloned\n",
      "Name: Kumar with course Go Lang taught by Prem\n"
     ]
    }
   ],
   "source": [
    "teacherClone.course = \"Go Lang\"\n",
    "studentClone.display()"
   ]
  },
  {
   "cell_type": "code",
   "execution_count": 15,
   "metadata": {},
   "outputs": [
    {
     "name": "stdout",
     "output_type": "stream",
     "text": [
      "Student was cloned\n",
      "Name: Kumar with course Python taught by Prem\n"
     ]
    }
   ],
   "source": [
    "# change student from copy to deepcopy\n",
    "\n",
    "teacherClone.course = \"Go Lang\"\n",
    "studentClone.display()"
   ]
  },
  {
   "cell_type": "code",
   "execution_count": null,
   "metadata": {},
   "outputs": [],
   "source": []
  },
  {
   "cell_type": "code",
   "execution_count": null,
   "metadata": {},
   "outputs": [],
   "source": []
  }
 ],
 "metadata": {
  "kernelspec": {
   "display_name": "Python 3",
   "language": "python",
   "name": "python3"
  },
  "language_info": {
   "codemirror_mode": {
    "name": "ipython",
    "version": 3
   },
   "file_extension": ".py",
   "mimetype": "text/x-python",
   "name": "python",
   "nbconvert_exporter": "python",
   "pygments_lexer": "ipython3",
   "version": "3.11.3"
  }
 },
 "nbformat": 4,
 "nbformat_minor": 2
}
