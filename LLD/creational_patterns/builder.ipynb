{
 "cells": [
  {
   "cell_type": "markdown",
   "metadata": {},
   "source": [
    "## Builder Pattern\n",
    "\n",
    "Builder is a creational design pattern that lets you construct complex objects step by step. The pattern allows you to produce different types and representations of an object using the same construction code.\n",
    "\n",
    "The Builder pattern suggests that you extract the object construction code out of its own class and move it to separate objects called builders."
   ]
  },
  {
   "cell_type": "code",
   "execution_count": 4,
   "metadata": {},
   "outputs": [],
   "source": [
    "class House:\n",
    "    def __init__(self, builder):\n",
    "        self.stories = builder.stories\n",
    "        self.door_type = builder.door_type\n",
    "        self.roof_type = builder.roof_type\n",
    "\n",
    "class HouseBuilder:\n",
    "    def __init__(self):\n",
    "        self.stories = None\n",
    "        self.door_type = None\n",
    "        self.roof_type = None\n",
    "\n",
    "    def set_stories(self, stories):\n",
    "        self.stories = stories\n",
    "        return self\n",
    "\n",
    "    def set_door_type(self, door_type):\n",
    "        self.door_type = door_type\n",
    "        return self\n",
    "\n",
    "    def set_roof_type(self, roof_type):\n",
    "        self.roof_type = roof_type\n",
    "        return self\n",
    "    \n",
    "    def build(self):\n",
    "        return House(self)\n",
    "    \n",
    "class Director:\n",
    "    def __init__(self, builder):\n",
    "        self.builder = builder\n",
    "\n",
    "    def build_1_story(self):\n",
    "        return self.builder.set_stories(1).set_door_type('Double').set_roof_type('Pointed')\n",
    "\n",
    "    def build_2_story(self):\n",
    "        return self.builder.set_stories(2).set_door_type('Single').set_roof_type('Pointed')\n"
   ]
  },
  {
   "cell_type": "code",
   "execution_count": 3,
   "metadata": {},
   "outputs": [
    {
     "data": {
      "text/plain": [
       "2"
      ]
     },
     "execution_count": 3,
     "metadata": {},
     "output_type": "execute_result"
    }
   ],
   "source": [
    "house_builder = HouseBuilder()\n",
    "one_story_house = house_builder.set_stories(2)\n",
    "one_story_house.set_roof_type('single')\n",
    "house_builded = one_story_house.build()\n",
    "\n",
    "house_builded.stories"
   ]
  },
  {
   "cell_type": "code",
   "execution_count": 8,
   "metadata": {},
   "outputs": [
    {
     "data": {
      "text/plain": [
       "'single'"
      ]
     },
     "execution_count": 8,
     "metadata": {},
     "output_type": "execute_result"
    }
   ],
   "source": [
    "house_builder = HouseBuilder()\n",
    "one_story_house = house_builder.set_stories(2)\n",
    "one_story_house.set_roof_type('single')\n",
    "\n",
    "\n",
    "house_building = House(one_story_house)\n",
    "house_building.roof_type"
   ]
  },
  {
   "cell_type": "code",
   "execution_count": 6,
   "metadata": {},
   "outputs": [],
   "source": [
    "house_builder = HouseBuilder()\n",
    "director = Director(house_builder)\n",
    "single_flat= director.build_1_story()"
   ]
  },
  {
   "cell_type": "code",
   "execution_count": 7,
   "metadata": {},
   "outputs": [
    {
     "data": {
      "text/plain": [
       "(1, 'Pointed')"
      ]
     },
     "execution_count": 7,
     "metadata": {},
     "output_type": "execute_result"
    }
   ],
   "source": [
    "single_flat.stories, single_flat.roof_type"
   ]
  }
 ],
 "metadata": {
  "kernelspec": {
   "display_name": "Python 3",
   "language": "python",
   "name": "python3"
  },
  "language_info": {
   "codemirror_mode": {
    "name": "ipython",
    "version": 3
   },
   "file_extension": ".py",
   "mimetype": "text/x-python",
   "name": "python",
   "nbconvert_exporter": "python",
   "pygments_lexer": "ipython3",
   "version": "3.11.3"
  }
 },
 "nbformat": 4,
 "nbformat_minor": 2
}
