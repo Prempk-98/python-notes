{
 "cells": [
  {
   "cell_type": "markdown",
   "metadata": {},
   "source": [
    "## Singleton\n",
    "\n",
    "Singleton is a creational design pattern that lets you ensure that a class has only one instance, while providing a global access point to this instance.\n",
    "\n",
    "This violates Single Responsibility"
   ]
  },
  {
   "cell_type": "code",
   "execution_count": 7,
   "metadata": {},
   "outputs": [],
   "source": [
    "class SingletonLogger:\n",
    "    _instance = None\n",
    "\n",
    "    def __init__(self):\n",
    "        raise RuntimeError(\"This is singleton\")\n",
    "    \n",
    "    @classmethod\n",
    "    def get_instance(cls):\n",
    "        if not cls._instance:\n",
    "            # cls._instance = SingletonLogger() # this will call the __init__ method which raise error\n",
    "            cls._instance = cls.__new__(cls) # This will create an instance without __init__ being called\n",
    "\n",
    "        return cls._instance\n",
    "    \n",
    "    def log(self, ex):\n",
    "        print(ex)\n"
   ]
  },
  {
   "cell_type": "code",
   "execution_count": 8,
   "metadata": {},
   "outputs": [],
   "source": [
    "singleton = SingletonLogger.get_instance()"
   ]
  },
  {
   "cell_type": "code",
   "execution_count": null,
   "metadata": {},
   "outputs": [],
   "source": []
  }
 ],
 "metadata": {
  "kernelspec": {
   "display_name": "Python 3",
   "language": "python",
   "name": "python3"
  },
  "language_info": {
   "codemirror_mode": {
    "name": "ipython",
    "version": 3
   },
   "file_extension": ".py",
   "mimetype": "text/x-python",
   "name": "python",
   "nbconvert_exporter": "python",
   "pygments_lexer": "ipython3",
   "version": "3.11.3"
  }
 },
 "nbformat": 4,
 "nbformat_minor": 2
}
