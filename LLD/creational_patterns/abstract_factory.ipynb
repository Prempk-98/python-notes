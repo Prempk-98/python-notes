{
 "cells": [
  {
   "cell_type": "markdown",
   "metadata": {},
   "source": [
    "## Abstract Factory\n",
    "\n",
    "Abstract Factory is a creational design pattern that lets you produce families of related objects without specifying their concrete classes.\n",
    "\n",
    "[![](https://img.youtube.com/vi/F9tQ46YkQLU/0.jpg)](https://youtu.be/F9tQ46YkQLU)"
   ]
  },
  {
   "cell_type": "code",
   "execution_count": 2,
   "metadata": {},
   "outputs": [],
   "source": [
    "\"\"\"\n",
    "Framework code\n",
    "\"\"\"\n",
    "\n",
    "from abc import abstractmethod, ABC\n",
    "\n",
    "class Accessory(ABC):\n",
    "    @abstractmethod\n",
    "    def render(self)->str:\n",
    "        pass\n",
    "\n",
    "class BlueLightSaber(Accessory):\n",
    "    def render(self) -> str:\n",
    "        return \"render BLUE lightsaber\"\n",
    "\n",
    "\n",
    "class RedLightSaber(Accessory):\n",
    "    def render(self) -> str:\n",
    "        return \"render RED lightsaber\"\n",
    "\n",
    "\n",
    "class RedEyes(Accessory):\n",
    "    def render(self) -> str:\n",
    "        return \"render RED eyes\"\n",
    "\n",
    "\n",
    "class BlueEyes(Accessory):\n",
    "    def render(self) -> str:\n",
    "        return \"render BLUE eyes\"\n",
    "\n",
    "\n",
    "class BlackRobe(Accessory):\n",
    "    def render(self) -> str:\n",
    "        return \"render BLACK robe\"\n",
    "\n",
    "\n",
    "class WhiteRobe(Accessory):\n",
    "    def render(self) -> str:\n",
    "        return \"render WHITE robe\"\n",
    "    \n",
    "class AbstractAccessoryFactory(ABC):\n",
    "    @abstractmethod\n",
    "    def create_light_saber(self)-> Accessory:\n",
    "        pass\n",
    "    \n",
    "    @abstractmethod\n",
    "    def create_eyes(self)-> Accessory:\n",
    "        pass\n",
    "\n",
    "    @abstractmethod\n",
    "    def create_robe(self)-> Accessory:\n",
    "        pass\n",
    "\n",
    "class SithAccessoryFactory(AbstractAccessoryFactory):\n",
    "    def create_light_saber(self)-> Accessory:\n",
    "        return RedLightSaber()\n",
    "    \n",
    "    def create_eyes(self)-> Accessory:\n",
    "        return RedEyes()\n",
    "\n",
    "    def create_robe(self)-> Accessory:\n",
    "        return BlackRobe()\n",
    "    \n",
    "class JediAccessoryFactory(AbstractAccessoryFactory):\n",
    "    def create_light_saber(self)-> Accessory:\n",
    "        return BlueLightSaber()\n",
    "    \n",
    "    def create_eyes(self)-> Accessory:\n",
    "        return BlueEyes()\n",
    "\n",
    "    def create_robe(self)-> Accessory:\n",
    "        return WhiteRobe()"
   ]
  },
  {
   "cell_type": "code",
   "execution_count": 4,
   "metadata": {},
   "outputs": [
    {
     "name": "stdout",
     "output_type": "stream",
     "text": [
      "render RED lightsaber render RED eyes render BLACK robe\n"
     ]
    }
   ],
   "source": [
    "\"\"\"\n",
    "Client Code\n",
    "\"\"\"\n",
    "\n",
    "def client(accessory: AbstractAccessoryFactory):\n",
    "    light_saber = accessory.create_light_saber()\n",
    "    eyes = accessory.create_eyes()\n",
    "    robe = accessory.create_robe()\n",
    "\n",
    "    print(light_saber.render(), eyes.render(), robe.render())\n",
    "    \n",
    "check = True\n",
    "\n",
    "if check:\n",
    "    client(SithAccessoryFactory())\n",
    "else:\n",
    "    client(JediAccessoryFactory())\n"
   ]
  },
  {
   "cell_type": "code",
   "execution_count": null,
   "metadata": {},
   "outputs": [],
   "source": []
  },
  {
   "cell_type": "code",
   "execution_count": null,
   "metadata": {},
   "outputs": [],
   "source": []
  }
 ],
 "metadata": {
  "kernelspec": {
   "display_name": "Python 3",
   "language": "python",
   "name": "python3"
  },
  "language_info": {
   "codemirror_mode": {
    "name": "ipython",
    "version": 3
   },
   "file_extension": ".py",
   "mimetype": "text/x-python",
   "name": "python",
   "nbconvert_exporter": "python",
   "pygments_lexer": "ipython3",
   "version": "3.11.3"
  }
 },
 "nbformat": 4,
 "nbformat_minor": 2
}
