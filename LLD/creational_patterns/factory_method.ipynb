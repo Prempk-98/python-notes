{
 "cells": [
  {
   "cell_type": "markdown",
   "metadata": {},
   "source": [
    "## Factory Method\n",
    "\n",
    "Factory Method is a creational design pattern that provides an interface for creating objects in a superclass, but allows subclasses to alter the type of objects that will be created.\n",
    "\n",
    "Main principles to create creator from use, \n",
    "\n",
    "[![](https://img.youtube.com/vi/y0HRazQsvUY/0.jpg)](https://www.youtube.com/watch?v=y0HRazQsvUY)"
   ]
  },
  {
   "cell_type": "code",
   "execution_count": 1,
   "metadata": {},
   "outputs": [],
   "source": [
    "\"\"\"\n",
    "Framework Method\n",
    "\"\"\"\n",
    "from abc import ABC, abstractmethod\n",
    "\n",
    "class Component(ABC):\n",
    "    @abstractmethod\n",
    "    def render(self)->str:\n",
    "        pass\n",
    "\n",
    "class WindowsPlayButton(Component):\n",
    "    def render(self):\n",
    "        return \"render windows play button\"\n",
    "    \n",
    "class WindowsTimeline(Component):\n",
    "    def render(self):\n",
    "        return \"render windows timeline button\"\n",
    "    \n",
    "class WindowsWindow(Component):\n",
    "    def render(self):\n",
    "        return \"render windows window button\"\n",
    "\n",
    "class MacPlayButton(Component):\n",
    "    def render(self):\n",
    "        return \"render mac play button\"\n",
    "    \n",
    "class MacTimeline(Component):\n",
    "    def render(self):\n",
    "        return \"render mac timeline button\"\n",
    "    \n",
    "class MacWindow(Component):\n",
    "    def render(self):\n",
    "        return \"render mac window button\"\n",
    "    \n",
    "class AbstractPlayerComponentFactory(ABC):\n",
    "    @abstractmethod\n",
    "    def create_component(self, component_type):\n",
    "        pass\n",
    "\n",
    "class WindosPlayerCompoenentFactory(AbstractPlayerComponentFactory):\n",
    "    def create_component(self, component_type):\n",
    "        if component_type == \"play_button\":\n",
    "            return WindowsPlayButton()\n",
    "        if component_type == \"timeline\":\n",
    "            return WindowsTimeline()\n",
    "        if component_type == \"window\":\n",
    "            return WindowsWindow()\n",
    "        \n",
    "class MacPlayerCompoenentFactory(AbstractPlayerComponentFactory):\n",
    "    def create_component(self, component_type):\n",
    "        if component_type == \"play_button\":\n",
    "            return MacPlayButton()\n",
    "        if component_type == \"timeline\":\n",
    "            return MacTimeline()\n",
    "        if component_type == \"window\":\n",
    "            return MacWindow()"
   ]
  },
  {
   "cell_type": "code",
   "execution_count": 5,
   "metadata": {},
   "outputs": [],
   "source": [
    "\"\"\"\n",
    "Client Code\n",
    "\"\"\"\n",
    "\n",
    "def client(factory: AbstractPlayerComponentFactory):\n",
    "    return factory.create_component(\"timeline\").render()\n",
    "\n",
    "check = True\n",
    "\n",
    "if check:\n",
    "    client(WindosPlayerCompoenentFactory())\n",
    "else:\n",
    "    client(MacPlayerCompoenentFactory())"
   ]
  },
  {
   "cell_type": "code",
   "execution_count": null,
   "metadata": {},
   "outputs": [],
   "source": []
  },
  {
   "cell_type": "code",
   "execution_count": null,
   "metadata": {},
   "outputs": [],
   "source": []
  },
  {
   "cell_type": "code",
   "execution_count": null,
   "metadata": {},
   "outputs": [],
   "source": []
  },
  {
   "cell_type": "code",
   "execution_count": null,
   "metadata": {},
   "outputs": [],
   "source": []
  }
 ],
 "metadata": {
  "kernelspec": {
   "display_name": "Python 3",
   "language": "python",
   "name": "python3"
  },
  "language_info": {
   "codemirror_mode": {
    "name": "ipython",
    "version": 3
   },
   "file_extension": ".py",
   "mimetype": "text/x-python",
   "name": "python",
   "nbconvert_exporter": "python",
   "pygments_lexer": "ipython3",
   "version": "3.11.3"
  }
 },
 "nbformat": 4,
 "nbformat_minor": 2
}
