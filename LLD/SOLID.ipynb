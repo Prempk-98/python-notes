{
 "cells": [
  {
   "cell_type": "markdown",
   "metadata": {},
   "source": [
    "## SOLID\n",
    "\n",
    "### Single Responsibility\n",
    "\n",
    "\n",
    "### Open/Closed\n",
    "\n",
    "Open for extension, closed for modification\n",
    "\n",
    "### Liskov Substitution principle\n",
    "\n",
    "When extending a class, remember that you should be able to pass objects of the subclass in place of objects of the parent class without breaking the client code.\n",
    "\n",
    "**Checklist**\n",
    "\n",
    "1. Parameter types in a method of a subclass should match or be more abstract than parameter types in the method of the superclass.\n",
    "2. The return type in a method of a subclass should match or be a subtype of teh return type of the method of superclass.\n",
    "3. A method in a subclass shouldn’t throw types of exceptions which the base method isn’t expected to throw.\n",
    "4. A subclass shouldn’t change values of private fields of the superclass.\n",
    "\n",
    "\n",
    "### Interface Segregation Principle\n",
    "\n",
    "Clients shouldn’t be forced to depend on methods they do not use.Try to make your interfaces narrow enough that client classes don’t have to implement behaviors they don’t need.\n",
    "\n",
    "It means, that Interface should be short, so that client class can only chose those interface which are required.\n",
    "\n",
    "<div style=\"display: flex; gap: 20px;\">\n",
    "<img src=\"./images/interface-before.jpeg\" width=\"500\" height=\"400\" />\n",
    "<img src=\"./images/interface-after.jpeg\" width=\"500\" height=\"400\" />\n",
    "</div>\n",
    "\n",
    "### Dependency Inversion Principle\n",
    "\n",
    "High-level classes shouldn’t depend on low-level classes. Both should depend on abstractions. Abstractions shouldn’t depend on details Details should depend on abstractions.\n",
    "\n",
    "<div style=\"display: flex; gap: 20px;\">\n",
    "<img src=\"./images/dependency-before.jpeg\" width=\"500\" height=\"400\" />\n",
    "<img src=\"./images/dependency-after.jpeg\" width=\"500\" height=\"400\" />\n",
    "</div>\n",
    "\n",
    "In the above example, The Higher class is  dependent on the lower class, so any changes in the lower class, will thrown an error.\n",
    "But when Higher class depends on the Interface and the Lower class uses this interface, their no chance of going wrong.\n",
    "\n"
   ]
  }
 ],
 "metadata": {
  "language_info": {
   "name": "python"
  }
 },
 "nbformat": 4,
 "nbformat_minor": 2
}
