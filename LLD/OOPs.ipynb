{
 "cells": [
  {
   "cell_type": "markdown",
   "metadata": {},
   "source": [
    "# UML \n",
    "\n",
    "[UML Diagram](https://sbcode.net/python/uml_diagrams/)\n",
    "\n",
    "![image.png](./images/uml-symbols.png)\n",
    "\n",
    "## OOPs\n",
    "<img src=\"./images/oops.png\" width=\"500\" height=\"200\" />\n",
    "\n",
    "1. **Abstraction**\n",
    "2. **Encapsulation**\n",
    "   1. It is an ability of an object to hide parts of its state and behavior from other objects.\n",
    "3. **Inheritance**\n",
    "4. **Polymorphism**\n",
    "\n",
    "## Relations\n",
    "\n",
    "1. **Association**: Is a type of relationship in which one object uses or interacts with another.\n",
    "   \n",
    "\n",
    "   <img src=\"./images/association.png\" width=\"300\" height=\"80\" />\n",
    "\n",
    "2. **Dependency**: Dependency is a weaker variant of association that usually implies that there’s no permanent link between objects. Dependency typically (but not always) implies that an object accepts another object as a method parameter, instantiates, or uses another object. Here’s how you can spot a dependency between classes: a dependency exists between two classes if changes to the definition of one class result in modifications in another class.\n",
    "\n",
    "   <img src=\"./images/dependency.jpeg\" width=\"300\" height=\"80\" />\n",
    "\n",
    "3. **Composition**: Is a “whole-part” relationship between two objects, one of which is composed of one or more instances of the other. The distinction between this relation and others is that the component can only exist as a part of the container\n",
    "\n",
    "   <img src=\"./images/composition.jpeg\" width=\"300\" height=\"80\" />\n",
    "\n",
    "4. **Aggregation**: is a less strict variant of composition, where one object merely contains a reference to another. The container doesn’t control the life cycle of the component. The component can exist without the container and can be linked to several containers at the same time\n",
    "\n",
    "   <img src=\"./images/aggregation.jpeg\" width=\"300\" height=\"80\" />\n",
    "\n",
    "\n",
    "## Design Patterns\n",
    "\n",
    "### Types\n",
    "\n",
    "1. **Creational patterns** provide object creation mechanisms that increase flexibility and reuse of existing code. \n",
    "2. **Structural patterns** explain how to assemble objects and classes into larger structures, while keeping the structures flexible and efficient. \n",
    "3. **Behavioral patterns** take care of effective communication and the assignment of responsibilities between objects.\n",
    "\n",
    "## Features of good design\n",
    "\n",
    "1. Code reuse\n",
    "2. Extensibility\n",
    "\n",
    "## Design Principles\n",
    "\n",
    "1. Encapsulate what varies\n",
    "   1. Identify the aspects of your application that vary and separate them from what stays the same\n",
    "2. Program to an Interface, not an Implementation\n",
    "   1. Depend on abstractions and not on concrete class\n",
    "3. Favour Composition over Inheritance\n",
    "   1. Problems with Inheritance\n",
    "      1. Must implement all methods of superclass, even if not using them\n",
    "      2. Inheritance breaks the encapsulation of superclass\n",
    "      3. Subclasses are tightly coupled\n",
    "   2. Composition -> \"has a\" relation instead of \"is a\" relation\n",
    "   3. Aggregation is variant of composition\n",
    "\n",
    "   <img src=\"./images/inheritance.jpeg\" width=\"500\" height=\"400\" />\n",
    "\n",
    "4. SOLID\n"
   ]
  },
  {
   "cell_type": "markdown",
   "metadata": {
    "vscode": {
     "languageId": "plaintext"
    }
   },
   "source": [
    "## Abstract vs Interface in Python\n",
    "\n",
    "1. Abstract class \n",
    "   1. Can have implementation. \n",
    "   2. Mainly **generalize** behavior\n",
    "   3. Cannot be initiated\n",
    "2. Interface \n",
    "   1. Cannot have implementation. \n",
    "   2. Mainly to **standardize** behavior.\n",
    "   3. Signature"
   ]
  },
  {
   "cell_type": "code",
   "execution_count": 24,
   "metadata": {},
   "outputs": [
    {
     "name": "stdout",
     "output_type": "stream",
     "text": [
      "I am walking\n",
      "I am walking\n",
      "Wagging\n"
     ]
    }
   ],
   "source": [
    "from abc import ABC, abstractmethod\n",
    "\n",
    "#abstract class\n",
    "class Animal(ABC):\n",
    "    def walk(self):\n",
    "        print(\"I am walking\")\n",
    "\n",
    "# this is possible in abstract class\n",
    "Animal().walk()\n",
    "\n",
    "# here no strict rule for implementing the walk method\n",
    "class Dog(Animal):\n",
    "    def wag(self):\n",
    "        print(\"Wagging\")\n",
    "\n",
    "# here we can call the function walk can be called\n",
    "dog = Dog()\n",
    "dog.walk()\n",
    "dog.wag()"
   ]
  },
  {
   "cell_type": "code",
   "execution_count": 27,
   "metadata": {},
   "outputs": [
    {
     "name": "stdout",
     "output_type": "stream",
     "text": [
      "Wagging\n"
     ]
    }
   ],
   "source": [
    "from abc import ABC, abstractmethod\n",
    "\n",
    "#Interface\n",
    "class Animal(ABC):\n",
    "    @abstractmethod\n",
    "    def walk(self):\n",
    "        pass\n",
    "\n",
    "# not possible in interface\n",
    "# Animal().walk()\n",
    "\n",
    "# Here the class must implement all teh methods of an interface\n",
    "class Dog(Animal):\n",
    "    def walk(self):\n",
    "        print(\"Wagging\")\n",
    "\n",
    "dog = Dog()\n",
    "dog.walk()"
   ]
  },
  {
   "cell_type": "markdown",
   "metadata": {},
   "source": [
    "## Abstract Class vs  Protocol\n",
    "\n",
    "Both works similar, but in protocol no need to explicitly inherit.\n",
    "Abstract class validates at compuile time, where protocol validates at run time"
   ]
  },
  {
   "cell_type": "code",
   "execution_count": 30,
   "metadata": {},
   "outputs": [
    {
     "name": "stdout",
     "output_type": "stream",
     "text": [
      "Moving hand\n"
     ]
    }
   ],
   "source": [
    "# Using Abstract\n",
    "from abc import ABC, abstractmethod\n",
    "\n",
    "class Dance(ABC):\n",
    "    @abstractmethod\n",
    "    def move_hand():\n",
    "        \"\"\"Move Hand\"\"\"\n",
    "\n",
    "    @abstractmethod\n",
    "    def move_leg():\n",
    "        \"\"\"Move leg\"\"\"\n",
    "\n",
    "class Zumba(Dance):\n",
    "    def move_hand(self):\n",
    "        print(\"Moving hand\")\n",
    "\n",
    "    def move_leg(self):\n",
    "        print(\"Moving Leg\")\n",
    "\n",
    "Zumba().move_hand()"
   ]
  },
  {
   "cell_type": "code",
   "execution_count": 33,
   "metadata": {},
   "outputs": [
    {
     "name": "stdout",
     "output_type": "stream",
     "text": [
      "Moving hand\n"
     ]
    }
   ],
   "source": [
    "# protocol\n",
    "from abc import ABC, abstractmethod\n",
    "from typing import Protocol\n",
    "\n",
    "class Dance(Protocol):\n",
    "    def move_hand():\n",
    "        \"\"\"Move Hand\"\"\"\n",
    "\n",
    "    def move_leg():\n",
    "        \"\"\"Move leg\"\"\"\n",
    "\n",
    "class Zumba:\n",
    "    def move_hand(self):\n",
    "        print(\"Moving hand\")\n",
    "\n",
    "    def move_leg(self):\n",
    "        print(\"Moving Leg\")\n",
    "\n",
    "def dance_start(type_dance: Dance):\n",
    "    type_dance.move_hand()\n",
    "\n",
    "\n",
    "zumba_dance = Zumba()\n",
    "\n",
    "dance_start(zumba_dance)"
   ]
  },
  {
   "cell_type": "markdown",
   "metadata": {},
   "source": [
    "## Aggregation vs Composition\n",
    "\n",
    "1. Composition\n",
    "   1. Part of relationship\n",
    "   2. If Parent class is destroyed, even the other is destroyed\n",
    "   3. Interdependent\n",
    "2. Aggregation\n",
    "   1. Both are independent\n",
    "   2. Unidirectional"
   ]
  },
  {
   "cell_type": "code",
   "execution_count": 35,
   "metadata": {},
   "outputs": [
    {
     "data": {
      "text/plain": [
       "'Prem working in Software has salary of 257615.75'"
      ]
     },
     "execution_count": 35,
     "metadata": {},
     "output_type": "execute_result"
    }
   ],
   "source": [
    "\"\"\"\n",
    "Composition\n",
    "\"\"\"\n",
    "class Salary:\n",
    "    def __init__(self, pay, bonus):\n",
    "        self.pay = pay\n",
    "        self.bonus = bonus\n",
    "\n",
    "    def total_salary(self):\n",
    "        return self.pay+(self.bonus)*.25\n",
    "    \n",
    "class Employee:\n",
    "    def __init__(self, name, department, pay, bonus):\n",
    "        self.name = name\n",
    "        self.department = department\n",
    "        self.obj_salary = Salary(pay, bonus)\n",
    "\n",
    "    def get_info(self):\n",
    "        return f\"{self.name} working in {self.department} has salary of {self.obj_salary.total_salary()}\"\n",
    "    \n",
    "emp = Employee(\"Prem\", \"Software\", 256300, 5263)\n",
    "emp.get_info()"
   ]
  },
  {
   "cell_type": "code",
   "execution_count": 36,
   "metadata": {},
   "outputs": [
    {
     "data": {
      "text/plain": [
       "'Prem working in Software has salary of 257615.75'"
      ]
     },
     "execution_count": 36,
     "metadata": {},
     "output_type": "execute_result"
    }
   ],
   "source": [
    "\"\"\"\n",
    "Aggregation\n",
    "\"\"\"\n",
    "class Salary:\n",
    "    def __init__(self, pay, bonus):\n",
    "        self.pay = pay\n",
    "        self.bonus = bonus\n",
    "\n",
    "    def total_salary(self):\n",
    "        return self.pay+(self.bonus)*.25\n",
    "    \n",
    "class Employee:\n",
    "    def __init__(self, name, department, salary):\n",
    "        self.name = name\n",
    "        self.department = department\n",
    "        self.obj_salary = salary\n",
    "\n",
    "    def get_info(self):\n",
    "        return f\"{self.name} working in {self.department} has salary of {self.obj_salary.total_salary()}\"\n",
    "    \n",
    "salary = Salary(256300, 5263)\n",
    "emp = Employee(\"Prem\", \"Software\", salary)\n",
    "emp.get_info()"
   ]
  },
  {
   "cell_type": "code",
   "execution_count": null,
   "metadata": {},
   "outputs": [],
   "source": []
  },
  {
   "cell_type": "code",
   "execution_count": null,
   "metadata": {},
   "outputs": [],
   "source": []
  },
  {
   "cell_type": "code",
   "execution_count": null,
   "metadata": {},
   "outputs": [],
   "source": []
  },
  {
   "cell_type": "code",
   "execution_count": null,
   "metadata": {},
   "outputs": [],
   "source": []
  }
 ],
 "metadata": {
  "kernelspec": {
   "display_name": "Python 3",
   "language": "python",
   "name": "python3"
  },
  "language_info": {
   "codemirror_mode": {
    "name": "ipython",
    "version": 3
   },
   "file_extension": ".py",
   "mimetype": "text/x-python",
   "name": "python",
   "nbconvert_exporter": "python",
   "pygments_lexer": "ipython3",
   "version": "3.11.3"
  }
 },
 "nbformat": 4,
 "nbformat_minor": 2
}
