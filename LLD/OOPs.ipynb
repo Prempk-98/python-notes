{
 "cells": [
  {
   "cell_type": "markdown",
   "metadata": {},
   "source": [
    "# UML \n",
    "\n",
    "[UML Diagram](https://sbcode.net/python/uml_diagrams/)\n",
    "\n",
    "![image.png](./images/uml-symbols.png)\n",
    "\n",
    "## OOPs\n",
    "<img src=\"./images/oops.png\" width=\"500\" height=\"200\" />\n",
    "\n",
    "1. **Abstraction**\n",
    "2. **Encapsulation**\n",
    "   1. It is an ability of an object to hide parts of its state and behavior from other objects.\n",
    "3. **Inheritance**\n",
    "4. **Polymorphism**\n",
    "\n",
    "## Relations\n",
    "\n",
    "1. **Association**: Is a type of relationship in which one object uses or interacts with another.\n",
    "   \n",
    "\n",
    "   <img src=\"./images/association.png\" width=\"300\" height=\"80\" />\n",
    "\n",
    "2. **Dependency**: Dependency is a weaker variant of association that usually implies that there’s no permanent link between objects. Dependency typically (but not always) implies that an object accepts another object as a method parameter, instantiates, or uses another object. Here’s how you can spot a dependency between classes: a dependency exists between two classes if changes to the definition of one class result in modifications in another class.\n",
    "\n",
    "   <img src=\"./images/dependency.jpeg\" width=\"300\" height=\"80\" />\n",
    "\n",
    "3. **Composition**: Is a “whole-part” relationship between two objects, one of which is composed of one or more instances of the other. The distinction between this relation and others is that the component can only exist as a part of the container\n",
    "\n",
    "   <img src=\"./images/composition.jpeg\" width=\"300\" height=\"80\" />\n",
    "\n",
    "4. **Aggregation**: is a less strict variant of composition, where one object merely contains a reference to another. The container doesn’t control the life cycle of the component. The component can exist without the container and can be linked to several containers at the same time\n",
    "\n",
    "   <img src=\"./images/aggregation.jpeg\" width=\"300\" height=\"80\" />\n",
    "\n",
    "\n",
    "## Design Patterns\n",
    "\n",
    "### Types\n",
    "\n",
    "1. **Creational patterns** provide object creation mechanisms that increase flexibility and reuse of existing code. \n",
    "2. **Structural patterns** explain how to assemble objects and classes into larger structures, while keeping the structures flexible and efficient. \n",
    "3. **Behavioral patterns** take care of effective communication and the assignment of responsibilities between objects.\n",
    "\n",
    "## Features of good design\n",
    "\n",
    "1. Code reuse\n",
    "2. Extensibility\n",
    "\n",
    "## Design Principles\n",
    "\n",
    "1. Encapsulate what varies\n",
    "   1. Identify the aspects of your application that vary and separate them from what stays the same\n",
    "2. Program to an Interface, not an Implementation\n",
    "   1. Depend on abstractions and not on concrete class\n",
    "3. Favour Composition over Inheritance\n",
    "   1. Problems with Inheritance\n",
    "      1. Must implement all methods of superclass, even if not using them\n",
    "      2. Inheritance breaks the encapsulation of superclass\n",
    "      3. Subclasses are tightly coupled\n",
    "   2. Composition -> \"has a\" relation instead of \"is a\" relation\n",
    "   3. Aggregation is variant of composition\n",
    "\n",
    "   <img src=\"./images/inheritance.jpeg\" width=\"500\" height=\"400\" />\n",
    "\n",
    "4. SOLID\n"
   ]
  },
  {
   "cell_type": "markdown",
   "metadata": {
    "vscode": {
     "languageId": "plaintext"
    }
   },
   "source": [
    "## Abstract vs Interface in Python\n",
    "\n",
    "An abstract class in Python is a class that cannot be instantiated directly and is meant to be subclassed. It serves as a blueprint for other classes. Abstract classes define methods that must be implemented in any subclass derived from the abstract class.\n",
    "\n",
    "An abstract class in Python is similar to an interface, but they are not exactly the same. While both define methods that must be implemented by subclasses, abstract classes in Python can also have concrete methods (methods with implementations), whereas interfaces (as they are in other languages like Java) typically cannot.\n",
    "\n",
    "Key Differences between Abstract Class and Interface:\n",
    "1. Concrete Methods:\n",
    "   1. Abstract Class: Can have both abstract methods (without implementation) and concrete methods (with implementation).\n",
    "   2. Interface: In many languages, interfaces can only have method signatures (i.e., abstract methods) without any implementation\n",
    "   3. However, Python does not have a strict \"interface\" type like Java.\n",
    "\n",
    "2. Inheritance:\n",
    "   1. Abstract Class: A class can only inherit from one abstract class (since Python supports single inheritance from concrete classes, but allows multiple inheritance with abstract classes).\n",
    "   2. Interface: Typically, a class can implement multiple interfaces, allowing for multiple inheritance of behavior. Python allow for multiple inheritance, but there is no strict \"interface\" concept.\n",
    "\n",
    "3. Fields/Attributes:\n",
    "   1. Abstract Class: Can have attributes (fields) and methods, both abstract and concrete.\n",
    "   2. Interface: In most languages, interfaces only define methods, and they do not have attributes or properties.\n",
    "\n",
    "4. Instantiation:\n",
    "   1. Abstract Class: Cannot be instantiated directly, but can have a mix of abstract and implemented methods.\n",
    "   2. Interface: Cannot be instantiated directly and typically only contains abstract methods.\n",
    "\n",
    "5. Use in Python:\n",
    "   1. In Python, the concept of an interface is often implemented using abstract base classes (ABC), which can mimic interface-like behavior. But technically, there's no formal keyword like interface in Python. Instead, abstract classes are used to achieve the same goal.\n",
    "\n",
    "6. Abstract class \n",
    "   1. Can have implementation. \n",
    "   2. Mainly **generalize** behavior\n",
    "   3. Cannot be initiated\n",
    "7. Interface \n",
    "   1. Cannot have implementation. \n",
    "   2. Mainly to **standardize** behavior.\n",
    "   3. Signature"
   ]
  },
  {
   "cell_type": "code",
   "execution_count": 3,
   "metadata": {},
   "outputs": [
    {
     "name": "stdout",
     "output_type": "stream",
     "text": [
      "I am walking\n",
      "I am walking\n",
      "Wagging\n"
     ]
    }
   ],
   "source": [
    "from abc import ABC, abstractmethod\n",
    "\n",
    "#abstract class\n",
    "class Animal(ABC):\n",
    "    def walk(self):\n",
    "        print(\"I am walking\")\n",
    "\n",
    "# this is possible in abstract class\n",
    "Animal().walk()\n",
    "\n",
    "# here no strict rule for implementing the walk method\n",
    "class Dog(Animal):\n",
    "    def wag(self):\n",
    "        print(\"Wagging\")\n",
    "\n",
    "# here we can call the function walk can be called\n",
    "dog = Dog()\n",
    "dog.walk()\n",
    "dog.wag()"
   ]
  },
  {
   "cell_type": "code",
   "execution_count": 27,
   "metadata": {},
   "outputs": [
    {
     "name": "stdout",
     "output_type": "stream",
     "text": [
      "Wagging\n"
     ]
    }
   ],
   "source": [
    "from abc import ABC, abstractmethod\n",
    "\n",
    "#Interface\n",
    "class Animal(ABC):\n",
    "    @abstractmethod\n",
    "    def walk(self):\n",
    "        pass\n",
    "\n",
    "# not possible in interface\n",
    "# Animal().walk()\n",
    "\n",
    "# Here the class must implement all teh methods of an interface\n",
    "class Dog(Animal):\n",
    "    def walk(self):\n",
    "        print(\"Wagging\")\n",
    "\n",
    "dog = Dog()\n",
    "dog.walk()"
   ]
  },
  {
   "cell_type": "markdown",
   "metadata": {},
   "source": [
    "Yes, Python **supports multiple inheritance** of **regular (concrete) classes**. This means that a class in Python can inherit from multiple classes, whether they are abstract or concrete. When inheriting from multiple classes, Python follows the **Method Resolution Order (MRO)** to determine which class’s method gets called if there are conflicting method names.\n",
    "\n",
    "Here is a comparison between **Python** and **Java** for multiple inheritance involving abstract classes, interfaces, and concrete classes:\n",
    "\n",
    "| Feature                       | **Python** | **Java** |\n",
    "|-------------------------------|------------|----------|\n",
    "| **Multiple Inheritance of Concrete Classes** | **Yes**. Python allows multiple inheritance of concrete classes. The **Method Resolution Order (MRO)** is used to resolve conflicts. | **No**. Java does not allow multiple inheritance of concrete classes. A class can only extend one concrete (or abstract) class. |\n",
    "| **Multiple Inheritance of Abstract Classes** | **Yes**. Python allows multiple inheritance of abstract classes, just like regular classes. | **No**. Java does not allow a class to inherit from multiple abstract classes. A class can only extend one abstract class. |\n",
    "| **Multiple Inheritance of Interfaces** | **N/A**. Python does not have a formal interface concept but can mimic interfaces using abstract classes. Multiple inheritance with abstract base classes can achieve similar results. | **Yes**. Java allows multiple inheritance of interfaces. A class can implement multiple interfaces, allowing it to inherit multiple sets of behaviors. |\n",
    "| **Inheritance of Concrete + Abstract Classes** | **Yes**. Python allows a class to inherit from a combination of both concrete and abstract classes. | **No**. In Java, a class can only extend one concrete or abstract class, but it can implement multiple interfaces to simulate similar behavior. |\n",
    "\n",
    "### Summary:\n",
    "- **Python** supports full multiple inheritance for concrete and abstract classes alike.\n",
    "- **Java** restricts multiple inheritance for classes (both concrete and abstract) but allows it for interfaces, offering a way to implement multiple behaviors without creating ambiguity in the method resolution.\n",
    "\n",
    "In Python, multiple inheritance is more flexible, while Java prevents it in order to avoid potential issues like the **Diamond Problem** and instead promotes interfaces as a cleaner solution.\n",
    "\n",
    "### Example of Multiple Inheritance (with regular classes):\n",
    "\n",
    "```python\n",
    "# Define two parent classes\n",
    "class Engine:\n",
    "    def start(self):\n",
    "        return \"Engine started\"\n",
    "\n",
    "class Wheels:\n",
    "    def roll(self):\n",
    "        return \"Wheels are rolling\"\n",
    "\n",
    "# Define a class that inherits from both Engine and Wheels\n",
    "class Car(Engine, Wheels):\n",
    "    def drive(self):\n",
    "        return \"Car is driving\"\n",
    "\n",
    "# Create an instance of Car\n",
    "my_car = Car()\n",
    "\n",
    "# Access methods from both parent classes\n",
    "print(my_car.start())  # Output: Engine started\n",
    "print(my_car.roll())   # Output: Wheels are rolling\n",
    "print(my_car.drive())  # Output: Car is driving\n",
    "```\n",
    "\n",
    "### Explanation:\n",
    "- `Car` class inherits from both `Engine` and `Wheels`, which are regular classes (not abstract).\n",
    "- `Car` has access to the methods of both `Engine` (`start`) and `Wheels` (`roll`), as well as its own method `drive`.\n",
    "\n",
    "### Method Resolution Order (MRO):\n",
    "\n",
    "In the case of multiple inheritance, Python uses the **C3 linearization algorithm** to determine the order in which parent classes are searched for methods. You can inspect the **MRO** using the `mro()` method or the `__mro__` attribute.\n",
    "\n",
    "```python\n",
    "print(Car.mro())\n",
    "```\n",
    "\n",
    "This will show the order in which Python looks for methods in the inheritance hierarchy.\n",
    "\n",
    "### Example of Multiple Inheritance with Method Conflicts:\n",
    "\n",
    "If both parent classes have methods with the same name, Python will use the **MRO** to decide which method to call.\n",
    "\n",
    "```python\n",
    "class A:\n",
    "    def say_hello(self):\n",
    "        return \"Hello from A\"\n",
    "\n",
    "class B:\n",
    "    def say_hello(self):\n",
    "        return \"Hello from B\"\n",
    "\n",
    "class C(A, B):\n",
    "    pass\n",
    "\n",
    "c = C()\n",
    "print(c.say_hello())  # Output: Hello from A\n",
    "```\n",
    "\n",
    "### Explanation:\n",
    "- Class `C` inherits from both `A` and `B`.\n",
    "- Both `A` and `B` have a `say_hello` method.\n",
    "- When `c.say_hello()` is called, Python uses the MRO and finds `say_hello` in `A` first, so it calls `A`’s method.\n",
    "- You can check the MRO using `C.mro()`, which would show `[C, A, B, object]`, indicating the order of lookup.\n",
    "\n",
    "### Summary:\n",
    "- Python **supports multiple inheritance** with both regular (concrete) classes and abstract classes.\n",
    "- The **MRO** ensures that Python resolves method calls in a consistent and predictable way, even when there are conflicts between parent classes.\n"
   ]
  },
  {
   "cell_type": "markdown",
   "metadata": {},
   "source": [
    "## Abstract Class vs  Protocol\n",
    "\n",
    "Both works similar, but in protocol no need to explicitly inherit.\n",
    "Abstract class validates at compile time, where protocol validates at run time"
   ]
  },
  {
   "cell_type": "code",
   "execution_count": 4,
   "metadata": {},
   "outputs": [
    {
     "name": "stdout",
     "output_type": "stream",
     "text": [
      "Moving hand\n"
     ]
    }
   ],
   "source": [
    "# Using Abstract\n",
    "from abc import ABC, abstractmethod\n",
    "\n",
    "class Dance(ABC):\n",
    "    @abstractmethod\n",
    "    def move_hand():\n",
    "        \"\"\"Move Hand\"\"\"\n",
    "\n",
    "    @abstractmethod\n",
    "    def move_leg():\n",
    "        \"\"\"Move leg\"\"\"\n",
    "\n",
    "class Zumba(Dance):\n",
    "    def move_hand(self):\n",
    "        print(\"Moving hand\")\n",
    "\n",
    "    def move_leg(self):\n",
    "        print(\"Moving Leg\")\n",
    "\n",
    "Zumba().move_hand()"
   ]
  },
  {
   "cell_type": "code",
   "execution_count": 33,
   "metadata": {},
   "outputs": [
    {
     "name": "stdout",
     "output_type": "stream",
     "text": [
      "Moving hand\n"
     ]
    }
   ],
   "source": [
    "# protocol\n",
    "from abc import ABC, abstractmethod\n",
    "from typing import Protocol\n",
    "\n",
    "class Dance(Protocol):\n",
    "    def move_hand():\n",
    "        \"\"\"Move Hand\"\"\"\n",
    "\n",
    "    def move_leg():\n",
    "        \"\"\"Move leg\"\"\"\n",
    "\n",
    "class Zumba:\n",
    "    def move_hand(self):\n",
    "        print(\"Moving hand\")\n",
    "\n",
    "    def move_leg(self):\n",
    "        print(\"Moving Leg\")\n",
    "\n",
    "def dance_start(type_dance: Dance):\n",
    "    type_dance.move_hand()\n",
    "\n",
    "\n",
    "zumba_dance = Zumba()\n",
    "\n",
    "dance_start(zumba_dance)"
   ]
  },
  {
   "cell_type": "markdown",
   "metadata": {},
   "source": [
    "## Aggregation vs Composition\n",
    "\n",
    "1. Composition\n",
    "   1. Part of relationship\n",
    "   2. If Parent class is destroyed, even the other is destroyed\n",
    "   3. Interdependent\n",
    "2. Aggregation\n",
    "   1. Both are independent\n",
    "   2. Unidirectional"
   ]
  },
  {
   "cell_type": "code",
   "execution_count": 35,
   "metadata": {},
   "outputs": [
    {
     "data": {
      "text/plain": [
       "'Prem working in Software has salary of 257615.75'"
      ]
     },
     "execution_count": 35,
     "metadata": {},
     "output_type": "execute_result"
    }
   ],
   "source": [
    "\"\"\"\n",
    "Composition\n",
    "\"\"\"\n",
    "class Salary:\n",
    "    def __init__(self, pay, bonus):\n",
    "        self.pay = pay\n",
    "        self.bonus = bonus\n",
    "\n",
    "    def total_salary(self):\n",
    "        return self.pay+(self.bonus)*.25\n",
    "    \n",
    "class Employee:\n",
    "    def __init__(self, name, department, pay, bonus):\n",
    "        self.name = name\n",
    "        self.department = department\n",
    "        self.obj_salary = Salary(pay, bonus)\n",
    "\n",
    "    def get_info(self):\n",
    "        return f\"{self.name} working in {self.department} has salary of {self.obj_salary.total_salary()}\"\n",
    "    \n",
    "emp = Employee(\"Prem\", \"Software\", 256300, 5263)\n",
    "emp.get_info()"
   ]
  },
  {
   "cell_type": "code",
   "execution_count": 36,
   "metadata": {},
   "outputs": [
    {
     "data": {
      "text/plain": [
       "'Prem working in Software has salary of 257615.75'"
      ]
     },
     "execution_count": 36,
     "metadata": {},
     "output_type": "execute_result"
    }
   ],
   "source": [
    "\"\"\"\n",
    "Aggregation\n",
    "\"\"\"\n",
    "class Salary:\n",
    "    def __init__(self, pay, bonus):\n",
    "        self.pay = pay\n",
    "        self.bonus = bonus\n",
    "\n",
    "    def total_salary(self):\n",
    "        return self.pay+(self.bonus)*.25\n",
    "    \n",
    "class Employee:\n",
    "    def __init__(self, name, department, salary):\n",
    "        self.name = name\n",
    "        self.department = department\n",
    "        self.obj_salary = salary\n",
    "\n",
    "    def get_info(self):\n",
    "        return f\"{self.name} working in {self.department} has salary of {self.obj_salary.total_salary()}\"\n",
    "    \n",
    "salary = Salary(256300, 5263)\n",
    "emp = Employee(\"Prem\", \"Software\", salary)\n",
    "emp.get_info()"
   ]
  },
  {
   "cell_type": "code",
   "execution_count": null,
   "metadata": {},
   "outputs": [],
   "source": []
  },
  {
   "cell_type": "code",
   "execution_count": null,
   "metadata": {},
   "outputs": [],
   "source": []
  },
  {
   "cell_type": "code",
   "execution_count": null,
   "metadata": {},
   "outputs": [],
   "source": []
  },
  {
   "cell_type": "code",
   "execution_count": null,
   "metadata": {},
   "outputs": [],
   "source": []
  }
 ],
 "metadata": {
  "kernelspec": {
   "display_name": "Python 3",
   "language": "python",
   "name": "python3"
  },
  "language_info": {
   "codemirror_mode": {
    "name": "ipython",
    "version": 3
   },
   "file_extension": ".py",
   "mimetype": "text/x-python",
   "name": "python",
   "nbconvert_exporter": "python",
   "pygments_lexer": "ipython3",
   "version": "3.11.3"
  }
 },
 "nbformat": 4,
 "nbformat_minor": 2
}
