{
 "cells": [
  {
   "cell_type": "code",
   "execution_count": 4,
   "metadata": {},
   "outputs": [
    {
     "name": "stdout",
     "output_type": "stream",
     "text": [
      "('x',)\n",
      "(<cell at 0x0000014592801EA0: str object at 0x000001458FA93DF0>,)\n",
      "python 0x1458fa93df0\n"
     ]
    }
   ],
   "source": [
    "def outer():\n",
    "    x = 'python'\n",
    "\n",
    "    def inner():\n",
    "        print(x, hex(id(x)))\n",
    "\n",
    "    return inner\n",
    "\n",
    "gh = outer()\n",
    "print(gh.__code__.co_freevars)\n",
    "print(gh.__closure__)\n",
    "gh()"
   ]
  },
  {
   "cell_type": "code",
   "execution_count": null,
   "metadata": {},
   "outputs": [],
   "source": [
    "def outer():\n",
    "    count = 0\n",
    "\n",
    "    def inner():\n",
    "        nonlocal count\n",
    "        count+=1\n",
    "        return count\n",
    "    \n",
    "    return inner"
   ]
  },
  {
   "cell_type": "markdown",
   "metadata": {},
   "source": [
    "### Application of Clouser"
   ]
  },
  {
   "cell_type": "code",
   "execution_count": 5,
   "metadata": {},
   "outputs": [
    {
     "name": "stdout",
     "output_type": "stream",
     "text": [
      "25.0\n",
      "17.5\n",
      "28.333333333333332\n"
     ]
    }
   ],
   "source": [
    "class Average:\n",
    "    def __init__(self) -> None:\n",
    "        self.numbers = []\n",
    "\n",
    "    def add(self, num):\n",
    "        self.numbers.append(num)\n",
    "        return sum(self.numbers)/len(self.numbers)\n",
    "    \n",
    "a = Average()\n",
    "print(a.add(25))\n",
    "print(a.add(10))\n",
    "print(a.add(50))"
   ]
  },
  {
   "cell_type": "code",
   "execution_count": 7,
   "metadata": {},
   "outputs": [
    {
     "name": "stdout",
     "output_type": "stream",
     "text": [
      "10.0\n",
      "15.0\n",
      "20.0\n"
     ]
    }
   ],
   "source": [
    "def average():\n",
    "    numbers = []\n",
    "\n",
    "    def add(num):\n",
    "        numbers.append(num)\n",
    "        return sum(numbers)/len(numbers)\n",
    "    \n",
    "    return add\n",
    "    \n",
    "a = average()\n",
    "print(a(10))\n",
    "print(a(20))\n",
    "print(a(30))"
   ]
  },
  {
   "cell_type": "code",
   "execution_count": null,
   "metadata": {},
   "outputs": [],
   "source": []
  },
  {
   "cell_type": "code",
   "execution_count": null,
   "metadata": {},
   "outputs": [],
   "source": []
  },
  {
   "cell_type": "code",
   "execution_count": null,
   "metadata": {},
   "outputs": [],
   "source": []
  },
  {
   "cell_type": "code",
   "execution_count": null,
   "metadata": {},
   "outputs": [],
   "source": []
  }
 ],
 "metadata": {
  "kernelspec": {
   "display_name": "Python 3",
   "language": "python",
   "name": "python3"
  },
  "language_info": {
   "codemirror_mode": {
    "name": "ipython",
    "version": 3
   },
   "file_extension": ".py",
   "mimetype": "text/x-python",
   "name": "python",
   "nbconvert_exporter": "python",
   "pygments_lexer": "ipython3",
   "version": "3.11.3"
  }
 },
 "nbformat": 4,
 "nbformat_minor": 2
}
